{
 "cells": [
  {
   "cell_type": "code",
   "execution_count": 1,
   "id": "e27c863b-fd97-4b32-b4b3-0825cb67f49e",
   "metadata": {},
   "outputs": [],
   "source": [
    "import os\n",
    "import re\n",
    "from datetime import datetime\n",
    "import pandas as pd"
   ]
  },
  {
   "cell_type": "code",
   "execution_count": 2,
   "id": "ad771ad2-9650-42bf-a22b-b9249d883ccd",
   "metadata": {},
   "outputs": [],
   "source": [
    "with open(os.path.join(\"downloads/2024-11-01\",\"cd_Brno_Hamburg_D00_2024-11-01_00-32-19.txt\"), \"r\", encoding=\"utf-8\") as file:\n",
    "    raw_html = file.read()\n",
    "spojeni = raw_html.split(\"\"\"<article\"\"\")\n",
    "spojeni = spojeni[1:]\n",
    "with open(os.path.join(\"pokusy\",\"pokus_cd.txt\"), \"w+\", encoding=\"utf-8\") as pokus_file:\n",
    "    pokus_file.write(\"\\n\".join(spojeni))"
   ]
  },
  {
   "cell_type": "code",
   "execution_count": 3,
   "id": "4d3db07f-3600-48ac-b158-70ea455b365a",
   "metadata": {},
   "outputs": [],
   "source": [
    "def oscrapuj_cd(slozka, soubor):\n",
    "    \n",
    "    with open(os.path.join(slozka, soubor), \"r\", encoding=\"utf-8\") as file:\n",
    "        raw_html = file.read()\n",
    "\n",
    "    oscrapovano = re.search(r'\\d{4}-\\d{2}-\\d{2}_\\d{2}-\\d{2}-\\d{2}', soubor).group(0)\n",
    "    \n",
    "    spojeni = raw_html.split(\"\"\"<article\"\"\")\n",
    "    spojeni = spojeni[1:]\n",
    "    slovniky = []\n",
    "    for s in spojeni:\n",
    "        s = s.splitlines()\n",
    "        slovnik = {}\n",
    "        slovnik['prodejce'] = \"ČD\"\n",
    "        slovnik['vlaky'], slovnik['obsazenost'], slovnik['zpozdeni'] = [], [], []\n",
    "        slovnik['oscrapovano'] = datetime.strptime(oscrapovano, \"%Y-%m-%d_%H-%M-%S\")\n",
    "        den = False\n",
    "        for radek in s:\n",
    "            if len(radek) < 500:\n",
    "                if \"text: to(lastTrain($index()))\" in radek:\n",
    "                    slovnik['kam'] = radek.split('>')[-2].split('<')[0]\n",
    "                elif \"text: from(firstTrain($index()))\" in radek:\n",
    "                    slovnik['odkud'] = radek.split('>')[-2].split('<')[0]\n",
    "                elif (\"text: journeyDateTextFrom()\" in radek) and (den == False):\n",
    "                    den = radek.split('>')[-2].split('<')[0]\n",
    "                elif \"text: depTime(firstTrain($index()))\" in radek:\n",
    "                    cas_odjezdu = re.search(r\"\\d{1,2}:\\d\\d\", radek).group(0)\n",
    "                elif \"text: buyButtonText()\" in radek:\n",
    "                    cena = radek.split('-->')[1].split('<!--')[0].replace(\" Kč\",\"\")\n",
    "                    try:\n",
    "                        slovnik['cena'] = int(cena)\n",
    "                    except:\n",
    "                        pass\n",
    "                elif \"Zjistit cenu\" in radek:\n",
    "                    slovnik['cena_poznamka'] = \"Zjistit cenu\"\n",
    "                elif \"Cena v dalším kroku\" in radek:\n",
    "                    slovnik['cena_poznamka'] = \"Cena v dalším kroku\"\n",
    "                elif \"text: model.trainTypeAndNum\" in radek:\n",
    "                    if radek.split('-->')[1].split('<!--')[0] not in slovnik['vlaky']:\n",
    "                        slovnik['vlaky'].append(radek.split('-->')[1].split('<!--')[0])\n",
    "                elif \"\"\"<span aria-hidden=\"true\" data-bind=\"visible: occupancyLevelFull(), text: occupancyLevelText()\" style=\"display: none;\">\"\"\" in radek:\n",
    "                    slovnik['obsazenost'].append(radek.split('>')[-2].split('<')[0])\n",
    "                elif \"\"\"<span data-bind=\"text: timeLength, visible: timeLength != null &amp;&amp; timeLength != ''\">\"\"\" in radek:\n",
    "                    jizdni_doba = radek.split('>')[-2].split('<')[0].split(\":\")\n",
    "                    slovnik['jizdni_doba'] = (int(jizdni_doba[0]) * 60) + int(re.search(r'\\d\\d', jizdni_doba[1]).group(0))\n",
    "                elif \"\"\"<span data-bind=\"text: distance, visible: distance != null &amp;&amp; distance != ''\" class=\"mobile-hidden\">\"\"\" in radek:\n",
    "                    vzdalenost = radek.split('>')[-2].split('<')[0].replace(\" km\",\"\")\n",
    "                    try:\n",
    "                        slovnik['vzdalenost'] = int(vzdalenost)\n",
    "                    except:\n",
    "                        pass\n",
    "                elif \"\"\"<span class=\"icon icon-bus\" data-bind=\"ifnot: isLegend, visible: !isLegend &amp;&amp; icoSrc, css: icoSrc, attr: {title: desc, 'aria-label': desc}\" title=\"Náhradní autobusová doprava\" aria-label=\"Náhradní autobusová doprava\"></span>\"\"\" in radek:\n",
    "                    slovnik['nahradni_bus'] = True\n",
    "                elif \"\"\"<span aria-hidden=\"true\" data-bind=\"text: delayText()\">\"\"\" in radek:\n",
    "                    if \"+\" in radek:\n",
    "                        try:\n",
    "                            slovnik['zpozdeni'].append(int(radek.split('+')[1].strip().split(' ')[0]))\n",
    "                        except:\n",
    "                            slovnik['zpozdeni'].append('chyba')\n",
    "                    elif \"><\" in radek:\n",
    "                        slovnik['zpozdeni'].append(0)\n",
    "                elif \"Místenka zdarma\" in radek:\n",
    "                    slovnik['mistenka_zdarma'] = True\n",
    "        slovnik['den'] = den.split(' ')[0].lower().strip()\n",
    "        slovnik['odjezd'] = datetime.strptime('-'.join(den.split(' ')[1].split('.')[::-1]) + \" \" + cas_odjezdu, \"%Y-%m-%d %H:%M\")\n",
    "        slovnik['predstih'] = slovnik['odjezd'] - slovnik['oscrapovano']\n",
    "        if len(slovnik['vlaky']) == 1:\n",
    "            slovnik['vlaky'] = [slovnik['vlaky'][0]]\n",
    "            try:\n",
    "                slovnik['obsazenost'] = [slovnik['obsazenost'][0]] ## todo: obsazenost se přidává n+1×, toto je laciný workaround pro většinu případů \n",
    "            except:\n",
    "                pass\n",
    "        slovnik['zpozdeni'] = slovnik['zpozdeni'][1::2]\n",
    "        slovnik['prestupy'] = len(slovnik['vlaky']) - 1\n",
    "        slovnik['prostredek'] = 'vlak'\n",
    "        slovniky.append(slovnik)\n",
    "    return [x for x in slovniky if x != None]"
   ]
  },
  {
   "cell_type": "code",
   "execution_count": 4,
   "id": "e297e728-2198-4215-af23-6cf12ab2802f",
   "metadata": {
    "scrolled": true
   },
   "outputs": [
    {
     "name": "stdout",
     "output_type": "stream",
     "text": [
      "cd_2024-11-18.parquet\n",
      "2024-11-18: 791\n",
      "cd_2024-11-19.parquet\n",
      "2024-11-19: 818\n"
     ]
    }
   ],
   "source": [
    "kam = \"data\" \n",
    "os.makedirs(kam, exist_ok=True)\n",
    "hotove = [y for y in os.listdir(kam) if y[0:3] == \"cd_\"]\n",
    "hotove = hotove\n",
    "# hotove = []\n",
    "for x in os.listdir(\"downloads\"):\n",
    "    nazev_souboru = \"cd_\" + x + \".parquet\"\n",
    "    if nazev_souboru not in hotove:\n",
    "        print(nazev_souboru)\n",
    "        den = []\n",
    "        cd = [y for y in os.listdir(f\"downloads/{x}\") if \"cd_\" in y] \n",
    "        print(f\"{x}: {len(cd)}\")\n",
    "        for y in cd:\n",
    "            den = den + oscrapuj_cd(f\"downloads/{x}\",y)\n",
    "        df_den = pd.DataFrame(den).sort_values(by=\"oscrapovano\").reset_index(drop=True)\n",
    "        df_den.to_parquet(os.path.join(kam,nazev_souboru))"
   ]
  }
 ],
 "metadata": {
  "kernelspec": {
   "display_name": "Python 3 (ipykernel)",
   "language": "python",
   "name": "python3"
  },
  "language_info": {
   "codemirror_mode": {
    "name": "ipython",
    "version": 3
   },
   "file_extension": ".py",
   "mimetype": "text/x-python",
   "name": "python",
   "nbconvert_exporter": "python",
   "pygments_lexer": "ipython3",
   "version": "3.12.3"
  }
 },
 "nbformat": 4,
 "nbformat_minor": 5
}
