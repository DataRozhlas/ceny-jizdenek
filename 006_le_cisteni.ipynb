{
 "cells": [
  {
   "cell_type": "code",
   "execution_count": 1,
   "id": "b0a1dca1-f4fa-4174-aa26-f2b8cbb5ea79",
   "metadata": {},
   "outputs": [],
   "source": [
    "import os\n",
    "import re\n",
    "from datetime import datetime\n",
    "import pandas as pd"
   ]
  },
  {
   "cell_type": "code",
   "execution_count": 2,
   "id": "dcfe8419-4463-470c-aed0-b72de890da5e",
   "metadata": {},
   "outputs": [],
   "source": [
    "def oscrapuj_le(slozka, soubor):\n",
    "\n",
    "    def mista(i):\n",
    "        return int(spojeni.split(\">\")[index + 2].split('<')[0].strip().replace('&gt; 20','21'))\n",
    "    \n",
    "    with open(os.path.join(slozka,soubor), \"r\", encoding=\"utf-8\") as spojeni:\n",
    "        spojeni = spojeni.read()\n",
    "    spoje = []\n",
    "    spoj = None\n",
    "    pocitadlo_casu = 1\n",
    "    oscrapovano = re.search(r'\\d{4}-\\d{2}-\\d{2}_\\d{2}-\\d{2}-\\d{2}', soubor).group(0)\n",
    "    oscrapovano = datetime.strptime(oscrapovano, \"%Y-%m-%d_%H-%M-%S\")\n",
    "    for index, radek in enumerate(spojeni.split(\">\")):\n",
    "        if len(radek) < 1000:\n",
    "            format_data = r\"\\w{4,10}, \\d{2}\\. \\d{2}\\. 202\\d\"\n",
    "            if re.search(format_data, radek):\n",
    "                datum = re.search(format_data, radek).group(0)\n",
    "                den = datum.split(',')[0].strip().lower()\n",
    "                datum = datum.split(',')[1].strip().replace(' ','')\n",
    "            elif (re.search(r\"\\d{2}:\\d{2}\", radek[0:5])):\n",
    "                pocitadlo_casu += 1\n",
    "                if pocitadlo_casu % 2 == 0:\n",
    "                    if spoj:\n",
    "                        if spoj != None:\n",
    "                            spoj['oscrapovano'] = oscrapovano\n",
    "                            spoj['predstih'] = spoj['odjezd'] - oscrapovano\n",
    "                            spoj['prodejce'] = 'LE'\n",
    "                            spoj['vlaky'] = set(spoj['vlaky'])\n",
    "                            spoj['prestupy'] = len(spoj['vlaky']) - 1\n",
    "                            try:\n",
    "                                spoj['volnych_mist'] = spoj['volna_mista_economy'] + spoj['volna_mista_economy_plus'] + spoj['volna_mista_economy_business'] + spoj['volna_mista_premium']\n",
    "                            except:\n",
    "                                pass\n",
    "                            spoje.append(spoj)\n",
    "                    spoj = {}\n",
    "                    spoj['vlaky'] = []\n",
    "                    spoj['odkud'] = None\n",
    "                    cas = radek[0:5]\n",
    "                    spoj['odjezd'] = datetime.strptime('.'.join(datum.split('.')) + \" \" + cas.strip(), \"%d.%m.%Y %H:%M\")\n",
    "            elif '</html' in radek:\n",
    "                if spoj:\n",
    "                    if spoj != None:\n",
    "                        spoj['oscrapovano'] = oscrapovano\n",
    "                        spoj['predstih'] = spoj['odjezd'] - oscrapovano\n",
    "                        spoj['prodejce'] = 'LE'\n",
    "                        spoj['vlaky'] = set(spoj['vlaky'])\n",
    "                        spoj['prestupy'] = len(spoj['vlaky']) - 1\n",
    "                        try:\n",
    "                            spoj['volnych_mist'] = spoj['volna_mista_economy'] + spoj['volna_mista_economy_plus'] + spoj['volna_mista_economy_business'] + spoj['volna_mista_premium']\n",
    "                        except:\n",
    "                            pass\n",
    "                        spoje.append(spoj)\n",
    "            elif (\"Ostrava\" in radek[0:10]) or (\"Praha\" in radek[0:10]) or (\"Pardubi\" in radek[0:10]) or (\"Kraków\" in radek[0:10]) or (\"Košice\" in radek[0:10]):\n",
    "                if spoj != None:\n",
    "                    if spoj['odkud'] == None:\n",
    "                        spoj['odkud'] = radek.split(\"<\")[0].strip()\n",
    "                    else:\n",
    "                        spoj['kam'] = radek.split(\"<\")[0].strip()            \n",
    "            elif \"&nbsp;Kč\" in radek:\n",
    "                spoj['cena'] = re.search(r'\\d{1,5}', radek.replace(\"&nbsp;\",\"\").split('|')[-1]).group()\n",
    "            elif \" km<\" in radek:\n",
    "                spoj['vzdalenost'] = int(re.search(r'\\d{1,5}', radek).group(0))\n",
    "            elif re.search(r'\\d{1,2} h \\d{1,2} min', radek):\n",
    "                jizdni_doba = radek.split('|')[0]\n",
    "                jizdni_doba = jizdni_doba.split('h')\n",
    "                h = re.search(r\"\\d{1,2}\", jizdni_doba[0]).group()\n",
    "                min = re.search(r\"\\d{1,2}\", jizdni_doba[1]).group()\n",
    "                spoj['jizdni_doba'] = (int(h) * 60) + int(min)\n",
    "            elif \"Economy<\" in radek[0:10]:\n",
    "                spoj['volna_mista_economy'] = mista(index) # spojeni.split(\">\")[index + 2].split('<')[0].strip()\n",
    "            elif \"Economy P\" in radek[0:10]:\n",
    "                spoj['volna_mista_economy_plus'] = mista(index) # spojeni.split(\">\")[index + 2].split('<')[0].strip()\n",
    "            elif \"Business\" in radek[0:10]:\n",
    "                spoj['volna_mista_economy_business'] = mista(index) # spojeni.split(\">\")[index + 2].split('<')[0].strip()\n",
    "            elif \"Premium<\" in radek[0:10]:\n",
    "                spoj['volna_mista_premium'] = mista(index) # spojeni.split(\">\")[index + 2].split('<')[0].strip()\n",
    "            elif re.search(r\"LE\\d{2}\", radek[0:4]):\n",
    "                spoj['vlaky'].append(re.search(r\"LE\\d{1,7}\", radek).group())\n",
    "    return [x for x in spoje if x != None]"
   ]
  },
  {
   "cell_type": "code",
   "execution_count": 3,
   "id": "426dda8f-5d1c-41bc-a09d-d25d29df9e23",
   "metadata": {},
   "outputs": [
    {
     "data": {
      "text/plain": [
       "[{'vlaky': set(),\n",
       "  'odkud': 'Praha hl.n.',\n",
       "  'odjezd': datetime.datetime(2024, 11, 15, 16, 0),\n",
       "  'kam': 'Kraków Główny',\n",
       "  'cena': '1279',\n",
       "  'oscrapovano': datetime.datetime(2024, 11, 8, 20, 16, 21),\n",
       "  'predstih': datetime.timedelta(days=6, seconds=71019),\n",
       "  'prodejce': 'LE',\n",
       "  'prestupy': -1},\n",
       " {'vlaky': {'LE413'},\n",
       "  'odkud': 'Praha hl.n.',\n",
       "  'odjezd': datetime.datetime(2024, 11, 15, 16, 0),\n",
       "  'kam': 'Kraków Główny',\n",
       "  'cena': '1279',\n",
       "  'jizdni_doba': 361,\n",
       "  'vzdalenost': 501,\n",
       "  'volna_mista_economy': 19,\n",
       "  'volna_mista_economy_plus': 10,\n",
       "  'volna_mista_economy_business': 9,\n",
       "  'volna_mista_premium': 4,\n",
       "  'oscrapovano': datetime.datetime(2024, 11, 8, 20, 16, 21),\n",
       "  'predstih': datetime.timedelta(days=6, seconds=71019),\n",
       "  'prodejce': 'LE',\n",
       "  'prestupy': 0,\n",
       "  'volnych_mist': 42}]"
      ]
     },
     "execution_count": 3,
     "metadata": {},
     "output_type": "execute_result"
    }
   ],
   "source": [
    "oscrapuj_le(\"downloads/2024-11-08\",\"le_Praha_Krak%C3%B3w%20G%C5%82%C3%B3wny_D04_2024-11-08_20-16-21.html\")"
   ]
  },
  {
   "cell_type": "code",
   "execution_count": 4,
   "id": "ace7b62e-9cf2-4268-aac8-29a94271508f",
   "metadata": {},
   "outputs": [
    {
     "name": "stdout",
     "output_type": "stream",
     "text": [
      "2024-11-20: 270\n"
     ]
    }
   ],
   "source": [
    "kam = \"data\" \n",
    "os.makedirs(kam, exist_ok=True)\n",
    "hotove = [y for y in os.listdir(kam) if y[0:3] == \"le_\"] \n",
    "hotove = hotove\n",
    "# hotove = []\n",
    "for x in os.listdir(\"downloads\"):\n",
    "    nazev_souboru = \"le_\" + x + \".parquet\"\n",
    "    if nazev_souboru not in hotove:\n",
    "        den = []\n",
    "        le = [y for y in os.listdir(f\"downloads/{x}\") if y[0:3] == \"le_\"] \n",
    "        if len(le) > 0:\n",
    "            print(f\"{x}: {len(le)}\")\n",
    "            for y in le:\n",
    "                den = den + oscrapuj_le(f\"downloads/{x}\",y)\n",
    "    if len(den) > 0:\n",
    "        df_den = pd.DataFrame(den)\n",
    "        df_den.to_parquet(os.path.join(kam,nazev_souboru))"
   ]
  }
 ],
 "metadata": {
  "kernelspec": {
   "display_name": "Python 3 (ipykernel)",
   "language": "python",
   "name": "python3"
  },
  "language_info": {
   "codemirror_mode": {
    "name": "ipython",
    "version": 3
   },
   "file_extension": ".py",
   "mimetype": "text/x-python",
   "name": "python",
   "nbconvert_exporter": "python",
   "pygments_lexer": "ipython3",
   "version": "3.12.3"
  }
 },
 "nbformat": 4,
 "nbformat_minor": 5
}
