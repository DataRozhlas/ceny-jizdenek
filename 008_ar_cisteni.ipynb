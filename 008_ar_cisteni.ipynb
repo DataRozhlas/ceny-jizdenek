{
 "cells": [
  {
   "cell_type": "code",
   "execution_count": 1,
   "id": "052ba83e-db70-4a7d-bb1d-df25d257950c",
   "metadata": {},
   "outputs": [],
   "source": [
    "import os\n",
    "import re\n",
    "from datetime import datetime\n",
    "import pandas as pd"
   ]
  },
  {
   "cell_type": "code",
   "execution_count": 2,
   "id": "b595d7f5-6aab-41dd-8a96-32bbef2c4b90",
   "metadata": {},
   "outputs": [],
   "source": [
    "def oscrapuj_ar(slozka, soubor):\n",
    "    with open(os.path.join(slozka,soubor), \"r\", encoding=\"utf-8\") as spojeni:\n",
    "        spojeni = spojeni.read()\n",
    "        spoje = []\n",
    "        spoj = None\n",
    "        oscrapovano = re.search(r'\\d{4}-\\d{2}-\\d{2}_\\d{2}-\\d{2}-\\d{2}', soubor).group(0)\n",
    "        oscrapovano = datetime.strptime(oscrapovano, \"%Y-%m-%d_%H-%M-%S\")\n",
    "        for index, radek in enumerate(spojeni.split(\">\")):\n",
    "            if len(radek) < 1000:\n",
    "                if re.search(r\"\\d{1,2}\\.\\s\\w{4,15}\\s20\\d{2}\", radek):\n",
    "                    datum = re.search(r\"\\d{1,2}\\.\\s\\w{4,15}\\s20\\d{2}\", radek).group(0)\n",
    "                    datum = datum.replace(\"leden\",\"1.\").replace(\"únor\",\"2.\").replace(\"březen\",\"3.\").replace(\"duben\",\"4.\").replace(\"květen\",\"5.\").replace(\"červen\",\"6.\").replace('červenec','7.').replace('srpen','8.').replace('září','9.').replace('říjen','10.').replace('listopad','11.').replace('prosinec','12.').replace(' ','')\n",
    "                elif ('class=\"departure\"' in radek) or ('</html' in radek):\n",
    "                    if spoj:\n",
    "                        spoj['prestupy'] = len(spoj['vlaky']) - 1\n",
    "                        spoje.append(spoj)\n",
    "                    spoj = {}\n",
    "                    spoj['vlaky'] = []\n",
    "                    spoj['prodejce'] = 'ARR'\n",
    "                    spoj['prostredek'] = 'vlak'\n",
    "                    spoj['odkud'] = spojeni.split(\">\")[index + 1].split(\"<\")[0]\n",
    "                    spoj['oscrapovano'] = oscrapovano\n",
    "                elif '<div class=\"arrival\"' in radek:\n",
    "                    spoj['kam'] = spojeni.split(\">\")[index + 1].split(\"<\")[0]\n",
    "                elif '<div class=\"time\"' in radek:\n",
    "                    cas = spojeni.split(\">\")[index + 2].split(\"<\")[0]\n",
    "                    try:\n",
    "                        spoj['odjezd'] = datetime.strptime('.'.join(datum.split('.')) + \" \" + cas.strip(), \"%d.%m.%Y %H:%M\")\n",
    "                        spoj['predstih'] = spoj['odjezd'] - oscrapovano\n",
    "                    except:\n",
    "                        spoj['odjezd'] = None\n",
    "                        print(\"UWAGA UWAGA, nepodařilo se najít čas odjezdu.\")\n",
    "                elif 'Vzdálenost' in radek:\n",
    "                    spoj['vzdalenost'] = int(re.search(r\"\\d{1,4}\",radek).group())\n",
    "                elif (\"hodin\" in radek) and (\"minut\" in radek):\n",
    "                    jizdni_doba = radek.split(' a ')\n",
    "                    hodiny = re.search(r\"\\d{1,2}\", jizdni_doba[0]).group()\n",
    "                    minuty = re.search(r\"\\d{1,2}\", jizdni_doba[1]).group()\n",
    "                    spoj['jizdni_doba'] = (int(hodiny) * 60) + int(minuty)\n",
    "                elif \"&nbsp;Kč\" in radek:\n",
    "                    spoj['cena'] = int(re.search(r\"\\d{1,5}\", radek.split(\"&nbsp;Kč\")[0]).group())\n",
    "                elif 'class=\"line-number\" ' in radek:\n",
    "                    spoj['vlaky'].append(spojeni.split(\">\")[index + 1].split(\"<\")[0])\n",
    "                elif '<span class=\"priceFreeSeats\"' in radek:\n",
    "                    spoj['volnych_mist'] = int(re.search(r'\\d{1,4}', spojeni.split(\">\")[index + 1]).group())\n",
    "    return [x for x in spoje if x != None]"
   ]
  },
  {
   "cell_type": "code",
   "execution_count": 3,
   "id": "6e76aab9-797d-4448-9284-a6db0dea9b71",
   "metadata": {},
   "outputs": [
    {
     "name": "stdout",
     "output_type": "stream",
     "text": [
      "2025-01-20: 465\n",
      "2025-01-21: 446\n",
      "2025-01-22: 382\n",
      "2025-01-23: 376\n",
      "2025-01-24: 499\n",
      "2025-01-25: 414\n",
      "2025-01-26: 461\n"
     ]
    }
   ],
   "source": [
    "kam = \"data\" \n",
    "os.makedirs(kam, exist_ok=True)\n",
    "hotove = [y for y in os.listdir(kam) if y[0:3] == \"ar_\"]\n",
    "hotove = hotove\n",
    "# hotove = []\n",
    "for x in os.listdir(\"downloads\"):\n",
    "    nazev_souboru = \"ar_\" + x + \".parquet\"\n",
    "    if nazev_souboru not in hotove:\n",
    "        den = []\n",
    "        ar = [y for y in os.listdir(f\"downloads/{x}\") if y[0:3] == \"ar_\"] \n",
    "        print(f\"{x}: {len(ar)}\")\n",
    "        for y in ar:\n",
    "            den = den + oscrapuj_ar(f\"downloads/{x}\",y)\n",
    "        if len(den) > 0:\n",
    "            df_den = pd.DataFrame(den)\n",
    "            df_den.to_parquet(os.path.join(kam,nazev_souboru))"
   ]
  },
  {
   "cell_type": "code",
   "execution_count": null,
   "id": "f79048ec-4a91-439a-b762-508b414edb5d",
   "metadata": {},
   "outputs": [],
   "source": []
  }
 ],
 "metadata": {
  "kernelspec": {
   "display_name": "Python 3 (ipykernel)",
   "language": "python",
   "name": "python3"
  },
  "language_info": {
   "codemirror_mode": {
    "name": "ipython",
    "version": 3
   },
   "file_extension": ".py",
   "mimetype": "text/x-python",
   "name": "python",
   "nbconvert_exporter": "python",
   "pygments_lexer": "ipython3",
   "version": "3.12.3"
  }
 },
 "nbformat": 4,
 "nbformat_minor": 5
}
