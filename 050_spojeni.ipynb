{
 "cells": [
  {
   "cell_type": "code",
   "execution_count": 1,
   "id": "3c49eaba-04cd-4c05-9b78-ca43179ff542",
   "metadata": {},
   "outputs": [],
   "source": [
    "import os\n",
    "import pandas as pd\n",
    "import datetime\n",
    "pd.set_option('display.max_columns', 100)\n",
    "pd.set_option('display.max_rows', 500)"
   ]
  },
  {
   "cell_type": "code",
   "execution_count": 2,
   "id": "e2c1f968-7977-4632-82f7-3d83447ea76d",
   "metadata": {},
   "outputs": [],
   "source": [
    "df = pd.DataFrame()\n",
    "for f in [x for x in os.listdir(\"data\") if x[2] == \"_\"]:\n",
    "    df = pd.concat([df, pd.read_parquet(os.path.join(\"data\",f))])"
   ]
  },
  {
   "cell_type": "code",
   "execution_count": 3,
   "id": "98e440a4-ff6c-4378-af23-bc8206a7ebec",
   "metadata": {},
   "outputs": [],
   "source": [
    "df['oscrapovano_minuty'] = df['oscrapovano'].apply(lambda x: str(x)[0:14])"
   ]
  },
  {
   "cell_type": "code",
   "execution_count": 4,
   "id": "834a58d6-07a1-4ff3-b434-44a4d8a16b9f",
   "metadata": {},
   "outputs": [
    {
     "data": {
      "text/plain": [
       "0      2024-11-07 18:\n",
       "1      2024-11-07 18:\n",
       "2      2024-11-07 18:\n",
       "3      2024-11-07 18:\n",
       "4      2024-11-07 18:\n",
       "            ...      \n",
       "457    2025-04-02 19:\n",
       "458    2025-04-02 19:\n",
       "459    2025-04-02 07:\n",
       "460    2025-04-02 07:\n",
       "461    2025-04-02 07:\n",
       "Name: oscrapovano_minuty, Length: 7234264, dtype: object"
      ]
     },
     "execution_count": 4,
     "metadata": {},
     "output_type": "execute_result"
    }
   ],
   "source": [
    "df['oscrapovano_minuty']"
   ]
  },
  {
   "cell_type": "code",
   "execution_count": 5,
   "id": "b31b987f-afe9-4594-bd30-e512d08a3566",
   "metadata": {},
   "outputs": [],
   "source": [
    "df = df.drop_duplicates(subset=['odkud','kam','odjezd','oscrapovano_minuty'], keep=\"last\")"
   ]
  },
  {
   "cell_type": "code",
   "execution_count": 6,
   "id": "5418f80d-4c83-43ee-9eaa-e8292b9fd63c",
   "metadata": {},
   "outputs": [
    {
     "data": {
      "text/plain": [
       "2984143"
      ]
     },
     "execution_count": 6,
     "metadata": {},
     "output_type": "execute_result"
    }
   ],
   "source": [
    "len(df)"
   ]
  },
  {
   "cell_type": "code",
   "execution_count": 7,
   "id": "b383d7ac-5cb7-4d50-a416-546ae5d60ac8",
   "metadata": {},
   "outputs": [
    {
     "data": {
      "text/plain": [
       "189073"
      ]
     },
     "execution_count": 7,
     "metadata": {},
     "output_type": "execute_result"
    }
   ],
   "source": [
    "df[['odjezd','odkud','kam']].drop_duplicates().shape[0]"
   ]
  },
  {
   "cell_type": "code",
   "execution_count": 57,
   "id": "8bc7f69c-2714-4f92-bb7c-4362b732796f",
   "metadata": {},
   "outputs": [
    {
     "name": "stderr",
     "output_type": "stream",
     "text": [
      "C:\\Users\\micha\\AppData\\Local\\Temp\\ipykernel_18096\\1446830039.py:1: FutureWarning: The default of observed=False is deprecated and will be changed to True in a future version of pandas. Pass observed=False to retain current behavior or observed=True to adopt the future default and silence this warning.\n",
      "  df.groupby(\"prodejce\")['oscrapovano'].max()\n"
     ]
    },
    {
     "data": {
      "text/plain": [
       "prodejce\n",
       "ARR   2025-04-02 22:32:20\n",
       "LE    2025-04-02 22:24:02\n",
       "RJ    2025-04-02 22:12:28\n",
       "ČD    2025-04-02 22:08:35\n",
       "Name: oscrapovano, dtype: datetime64[ns]"
      ]
     },
     "execution_count": 57,
     "metadata": {},
     "output_type": "execute_result"
    }
   ],
   "source": [
    "df.groupby(\"prodejce\")['oscrapovano'].max()"
   ]
  },
  {
   "cell_type": "code",
   "execution_count": 8,
   "id": "de3420d1-e5c1-4720-b702-4e1840d74ae3",
   "metadata": {},
   "outputs": [
    {
     "data": {
      "text/plain": [
       "prodejce  oscrapovano\n",
       "ARR       2024-11-07      2297\n",
       "          2024-11-08      7128\n",
       "          2024-11-09      3320\n",
       "          2024-11-10      3157\n",
       "          2024-11-11      3367\n",
       "                         ...  \n",
       "ČD        2025-03-29     12359\n",
       "          2025-03-30     12022\n",
       "          2025-03-31     12577\n",
       "          2025-04-01     12048\n",
       "          2025-04-02     11415\n",
       "Length: 588, dtype: int64"
      ]
     },
     "execution_count": 8,
     "metadata": {},
     "output_type": "execute_result"
    }
   ],
   "source": [
    "df.groupby(['prodejce',pd.Grouper(key='oscrapovano',freq='D')]).size()"
   ]
  },
  {
   "cell_type": "markdown",
   "id": "4ec44be4-4b3e-49f7-9c30-bf4518f4e9ee",
   "metadata": {},
   "source": [
    "Výpadek ČD 2024-11-26 opraven, vyřešen."
   ]
  },
  {
   "cell_type": "code",
   "execution_count": 10,
   "id": "13a6cb25-bc64-4cce-b00f-ab1a4ecf7734",
   "metadata": {},
   "outputs": [],
   "source": [
    "df = df.sort_values(by=\"oscrapovano\").reset_index(drop=True)"
   ]
  },
  {
   "cell_type": "code",
   "execution_count": 11,
   "id": "1e429647-b3cf-4a38-b662-82bf58f40e68",
   "metadata": {},
   "outputs": [],
   "source": [
    "df = df.dropna(subset=['odkud','kam','odjezd','oscrapovano'],how='any')"
   ]
  },
  {
   "cell_type": "code",
   "execution_count": 12,
   "id": "8516e283-1ec0-4fc6-92e0-5b0d9eda7db4",
   "metadata": {},
   "outputs": [],
   "source": [
    "df = df[df['prostredek'] != 'autobus']"
   ]
  },
  {
   "cell_type": "code",
   "execution_count": 13,
   "id": "2451f714-e193-49ac-9439-dfaa169a3c4c",
   "metadata": {},
   "outputs": [
    {
     "name": "stderr",
     "output_type": "stream",
     "text": [
      "C:\\Users\\micha\\AppData\\Local\\Temp\\ipykernel_18096\\103445691.py:1: UserWarning: This pattern is interpreted as a regular expression, and has match groups. To actually get the groups, use str.extract.\n",
      "  df = df[~df['kam'].str.contains('(tief)',na=False)]\n",
      "C:\\Users\\micha\\AppData\\Local\\Temp\\ipykernel_18096\\103445691.py:2: UserWarning: This pattern is interpreted as a regular expression, and has match groups. To actually get the groups, use str.extract.\n",
      "  df = df[~df['odkud'].str.contains('(tief)',na=False)]\n"
     ]
    }
   ],
   "source": [
    "df = df[~df['kam'].str.contains('(tief)',na=False)]\n",
    "df = df[~df['odkud'].str.contains('(tief)',na=False)]"
   ]
  },
  {
   "cell_type": "markdown",
   "id": "c83a3e04-215a-4352-9caa-6fb0d20a75cb",
   "metadata": {},
   "source": [
    "Před 7. listopadem scrapování testovací a nesystematické = nevypovídající = filtrujeme."
   ]
  },
  {
   "cell_type": "code",
   "execution_count": 15,
   "id": "0c6bbbad-5707-4758-a97e-70e76b8ec28a",
   "metadata": {},
   "outputs": [],
   "source": [
    "df = df[df['oscrapovano'] >= '2024-11-08']"
   ]
  },
  {
   "cell_type": "code",
   "execution_count": 16,
   "id": "9a384ac6-c920-41cd-9134-3d04a084229e",
   "metadata": {},
   "outputs": [
    {
     "data": {
      "text/plain": [
       "prodejce  oscrapovano\n",
       "ARR       2024-11-08      7128\n",
       "          2024-11-09      3320\n",
       "          2024-11-10      3157\n",
       "          2024-11-11      3367\n",
       "          2024-11-12      3323\n",
       "                         ...  \n",
       "ČD        2025-03-29     12176\n",
       "          2025-03-30     12007\n",
       "          2025-03-31     12218\n",
       "          2025-04-01     11595\n",
       "          2025-04-02     11214\n",
       "Length: 576, dtype: int64"
      ]
     },
     "execution_count": 16,
     "metadata": {},
     "output_type": "execute_result"
    }
   ],
   "source": [
    "df.groupby(['prodejce',pd.Grouper(key='oscrapovano',freq='D')]).size()"
   ]
  },
  {
   "cell_type": "code",
   "execution_count": 17,
   "id": "e7b3f70a-4f04-488f-99a0-e534168cdf21",
   "metadata": {},
   "outputs": [],
   "source": [
    "days = {0: 'po', 1: 'út', 2: 'st', 3: 'čt', \n",
    "        4: 'pá', 5: 'so', 6: 'ne'}\n",
    "df['den'] = df['odjezd'].dt.dayofweek.map(days)"
   ]
  },
  {
   "cell_type": "code",
   "execution_count": 18,
   "id": "50764e8d-9cd1-450b-bd8a-34e85e3d22f9",
   "metadata": {},
   "outputs": [],
   "source": [
    "df['predstih_d'] = df['predstih'].dt.days\n",
    "df['predstih_h'] = df['predstih'].dt.total_seconds() / 3600"
   ]
  },
  {
   "cell_type": "code",
   "execution_count": 19,
   "id": "94bc1ba3-932e-4df2-a7a5-4aedaeec9717",
   "metadata": {},
   "outputs": [],
   "source": [
    "df = df[df['predstih_h'] > -3]"
   ]
  },
  {
   "cell_type": "code",
   "execution_count": 20,
   "id": "5376546f-7995-48af-a8c1-dd8c41c0a591",
   "metadata": {},
   "outputs": [],
   "source": [
    "kategoricka_data = ['odkud','kam','prodejce','den']"
   ]
  },
  {
   "cell_type": "code",
   "execution_count": 21,
   "id": "be5f17df-fb85-4139-9b07-98b3013433ed",
   "metadata": {},
   "outputs": [
    {
     "name": "stdout",
     "output_type": "stream",
     "text": [
      "Before: 184354902\n",
      "After:  23462042\n",
      "Before: 184378606\n",
      "After:  23457512\n",
      "Before: 198016054\n",
      "After:  23448991\n",
      "Before: 172644173\n",
      "After:  23449311\n"
     ]
    }
   ],
   "source": [
    "for k in kategoricka_data:\n",
    "    print(\"Before:\", df[k].memory_usage(deep=True))\n",
    "    df[k] = df[k].astype('category')\n",
    "    print(\"After: \", df[k].memory_usage(deep=True))"
   ]
  },
  {
   "cell_type": "code",
   "execution_count": 22,
   "id": "f5e504ea-d0cb-43db-960d-574b16d96b2f",
   "metadata": {
    "scrolled": true
   },
   "outputs": [],
   "source": [
    "df['cena'] = pd.to_numeric(df['cena'])"
   ]
  },
  {
   "cell_type": "code",
   "execution_count": 23,
   "id": "031a1930-cc15-4b30-b202-ffcb492534b2",
   "metadata": {},
   "outputs": [
    {
     "data": {
      "text/plain": [
       "2605399"
      ]
     },
     "execution_count": 23,
     "metadata": {},
     "output_type": "execute_result"
    }
   ],
   "source": [
    "df.shape[0]"
   ]
  },
  {
   "cell_type": "code",
   "execution_count": 24,
   "id": "55046487-4a82-4bec-8870-cc400664db09",
   "metadata": {},
   "outputs": [
    {
     "data": {
      "text/plain": [
       "167920"
      ]
     },
     "execution_count": 24,
     "metadata": {},
     "output_type": "execute_result"
    }
   ],
   "source": [
    "df[['odjezd','odkud','kam']].drop_duplicates().shape[0]"
   ]
  },
  {
   "cell_type": "code",
   "execution_count": 25,
   "id": "852ca70e-3c1a-48cb-81fe-d1c51c2300f5",
   "metadata": {},
   "outputs": [],
   "source": [
    "poradi = ['oscrapovano','prodejce','odkud','kam',\n",
    " 'odjezd',\n",
    " 'predstih',\n",
    " 'predstih_d',\n",
    " 'predstih_h',\n",
    "          'cena',\n",
    " 'prostredek',\n",
    "          'volnych_mist',\n",
    " 'obsazenost',\n",
    " 'jizdni_doba',\n",
    " 'vzdalenost',\n",
    " 'zpozdeni',\n",
    " 'cena_poznamka',\n",
    " 'den',\n",
    " 'prestupy',\n",
    "'vlaky',\n",
    " 'mistenka_zdarma',\n",
    " 'nahradni_bus',\n",
    " 'volna_mista_economy',\n",
    " 'volna_mista_economy_plus',\n",
    " 'volna_mista_economy_business',\n",
    " 'volna_mista_premium']"
   ]
  },
  {
   "cell_type": "code",
   "execution_count": 26,
   "id": "16e60aa6-f5da-4435-8fd0-35341d542234",
   "metadata": {},
   "outputs": [],
   "source": [
    "df[poradi].to_parquet(os.path.join(\"data\",\"jizdenky.parquet\"))"
   ]
  },
  {
   "cell_type": "code",
   "execution_count": 27,
   "id": "66d06a65-575a-486b-aeff-1fb8a3735eb0",
   "metadata": {},
   "outputs": [],
   "source": [
    "nejnovejsi = df['oscrapovano'].max()\n",
    "nejnovejsi\n",
    "df_tyden = df[df['oscrapovano'] > (nejnovejsi - datetime.timedelta(hours=168))]"
   ]
  },
  {
   "cell_type": "code",
   "execution_count": 28,
   "id": "50643981-0d07-4390-a1ab-e2a4b636b358",
   "metadata": {},
   "outputs": [],
   "source": [
    "df_tyden[poradi].to_csv(os.path.join(\"data\",\"jizdenky_tyden.csv\"))"
   ]
  }
 ],
 "metadata": {
  "kernelspec": {
   "display_name": "Python 3 (ipykernel)",
   "language": "python",
   "name": "python3"
  },
  "language_info": {
   "codemirror_mode": {
    "name": "ipython",
    "version": 3
   },
   "file_extension": ".py",
   "mimetype": "text/x-python",
   "name": "python",
   "nbconvert_exporter": "python",
   "pygments_lexer": "ipython3",
   "version": "3.12.3"
  }
 },
 "nbformat": 4,
 "nbformat_minor": 5
}
