{
 "cells": [
  {
   "cell_type": "code",
   "execution_count": 1,
   "id": "3c49eaba-04cd-4c05-9b78-ca43179ff542",
   "metadata": {},
   "outputs": [],
   "source": [
    "import os\n",
    "import pandas as pd\n",
    "import datetime\n",
    "pd.set_option('display.max_columns', 100)\n",
    "pd.set_option('display.max_rows', 500)"
   ]
  },
  {
   "cell_type": "code",
   "execution_count": 2,
   "id": "e2c1f968-7977-4632-82f7-3d83447ea76d",
   "metadata": {},
   "outputs": [],
   "source": [
    "df = pd.DataFrame()\n",
    "for f in [x for x in os.listdir(\"data\") if x[2] == \"_\"]:\n",
    "    df = pd.concat([df, pd.read_parquet(os.path.join(\"data\",f))])"
   ]
  },
  {
   "cell_type": "code",
   "execution_count": 3,
   "id": "98e440a4-ff6c-4378-af23-bc8206a7ebec",
   "metadata": {},
   "outputs": [],
   "source": [
    "df['oscrapovano_minuty'] = df['oscrapovano'].apply(lambda x: str(x)[0:14])"
   ]
  },
  {
   "cell_type": "code",
   "execution_count": 4,
   "id": "834a58d6-07a1-4ff3-b434-44a4d8a16b9f",
   "metadata": {},
   "outputs": [
    {
     "data": {
      "text/plain": [
       "0       2024-11-07 18:\n",
       "1       2024-11-07 18:\n",
       "2       2024-11-07 18:\n",
       "3       2024-11-07 18:\n",
       "4       2024-11-07 18:\n",
       "             ...      \n",
       "1601    2024-12-01 23:\n",
       "1602    2024-12-01 23:\n",
       "1603    2024-12-01 23:\n",
       "1604    2024-12-01 23:\n",
       "1605    2024-12-01 23:\n",
       "Name: oscrapovano_minuty, Length: 2162192, dtype: object"
      ]
     },
     "execution_count": 4,
     "metadata": {},
     "output_type": "execute_result"
    }
   ],
   "source": [
    "df['oscrapovano_minuty']"
   ]
  },
  {
   "cell_type": "code",
   "execution_count": 5,
   "id": "b31b987f-afe9-4594-bd30-e512d08a3566",
   "metadata": {},
   "outputs": [],
   "source": [
    "df = df.drop_duplicates(subset=['odkud','kam','odjezd','oscrapovano_minuty'], keep=\"last\")"
   ]
  },
  {
   "cell_type": "code",
   "execution_count": 6,
   "id": "5418f80d-4c83-43ee-9eaa-e8292b9fd63c",
   "metadata": {},
   "outputs": [
    {
     "data": {
      "text/plain": [
       "1027884"
      ]
     },
     "execution_count": 6,
     "metadata": {},
     "output_type": "execute_result"
    }
   ],
   "source": [
    "len(df)"
   ]
  },
  {
   "cell_type": "code",
   "execution_count": 7,
   "id": "b383d7ac-5cb7-4d50-a416-546ae5d60ac8",
   "metadata": {},
   "outputs": [
    {
     "data": {
      "text/plain": [
       "77102"
      ]
     },
     "execution_count": 7,
     "metadata": {},
     "output_type": "execute_result"
    }
   ],
   "source": [
    "df[['odjezd','odkud','kam']].drop_duplicates().shape[0]"
   ]
  },
  {
   "cell_type": "code",
   "execution_count": 8,
   "id": "de3420d1-e5c1-4720-b702-4e1840d74ae3",
   "metadata": {},
   "outputs": [
    {
     "data": {
      "text/plain": [
       "prodejce  oscrapovano\n",
       "ARR       2024-11-07      2297\n",
       "          2024-11-08      7128\n",
       "          2024-11-09      3320\n",
       "          2024-11-10      3157\n",
       "          2024-11-11      3367\n",
       "          2024-11-12      3323\n",
       "          2024-11-13      3632\n",
       "          2024-11-14      3072\n",
       "          2024-11-15      3552\n",
       "          2024-11-16      3498\n",
       "          2024-11-17      3254\n",
       "          2024-11-18      3310\n",
       "          2024-11-19      3384\n",
       "          2024-11-20      3393\n",
       "          2024-11-21      3356\n",
       "          2024-11-22      3589\n",
       "          2024-11-23      3496\n",
       "          2024-11-24      3394\n",
       "          2024-11-25      3086\n",
       "          2024-11-26      2799\n",
       "          2024-11-27      2986\n",
       "          2024-11-28      3206\n",
       "          2024-11-29      3036\n",
       "          2024-11-30      3005\n",
       "          2024-12-01      3048\n",
       "LE        2024-11-07       332\n",
       "          2024-11-08      1573\n",
       "          2024-11-09      1873\n",
       "          2024-11-10      1755\n",
       "          2024-11-11      1697\n",
       "          2024-11-12      1889\n",
       "          2024-11-13      1886\n",
       "          2024-11-14      1981\n",
       "          2024-11-15      2063\n",
       "          2024-11-16      2002\n",
       "          2024-11-17      2004\n",
       "          2024-11-18      1988\n",
       "          2024-11-19      2050\n",
       "          2024-11-20      2042\n",
       "          2024-11-21      2123\n",
       "          2024-11-22      2017\n",
       "          2024-11-23      1951\n",
       "          2024-11-24      2085\n",
       "          2024-11-25      2308\n",
       "          2024-11-26      1965\n",
       "          2024-11-27      2015\n",
       "          2024-11-28      2029\n",
       "          2024-11-29      2062\n",
       "          2024-11-30      2028\n",
       "          2024-12-01      2016\n",
       "RJ        2024-11-06      3676\n",
       "          2024-11-07      1853\n",
       "          2024-11-08     11164\n",
       "          2024-11-09     14652\n",
       "          2024-11-10     12683\n",
       "          2024-11-11      7081\n",
       "          2024-11-12     13862\n",
       "          2024-11-13     15328\n",
       "          2024-11-14     11828\n",
       "          2024-11-15     11514\n",
       "          2024-11-16     12837\n",
       "          2024-11-17     13502\n",
       "          2024-11-18      7927\n",
       "          2024-11-19     14891\n",
       "          2024-11-20     14477\n",
       "          2024-11-21     10384\n",
       "          2024-11-22      7936\n",
       "          2024-11-23     13436\n",
       "          2024-11-24     10115\n",
       "          2024-11-25     10448\n",
       "          2024-11-26      9629\n",
       "          2024-11-27     10146\n",
       "          2024-11-28      9261\n",
       "          2024-11-29      4371\n",
       "          2024-11-30      1554\n",
       "          2024-12-01      1512\n",
       "ČD        2024-10-31      1325\n",
       "          2024-11-01     13722\n",
       "          2024-11-02     19225\n",
       "          2024-11-03     15819\n",
       "          2024-11-04     20916\n",
       "          2024-11-05     21097\n",
       "          2024-11-06     21010\n",
       "          2024-11-07     20399\n",
       "          2024-11-08     21999\n",
       "          2024-11-09     23641\n",
       "          2024-11-10     21437\n",
       "          2024-11-11     21862\n",
       "          2024-11-12     22391\n",
       "          2024-11-13     21706\n",
       "          2024-11-14     21601\n",
       "          2024-11-15     21843\n",
       "          2024-11-16     22309\n",
       "          2024-11-17     21160\n",
       "          2024-11-18     21754\n",
       "          2024-11-19     22402\n",
       "          2024-11-20     21496\n",
       "          2024-11-21     22217\n",
       "          2024-11-22     21578\n",
       "          2024-11-23     21450\n",
       "          2024-11-24     21960\n",
       "          2024-11-25     20028\n",
       "          2024-11-26      2344\n",
       "          2024-11-27     22304\n",
       "          2024-11-28     21801\n",
       "          2024-11-29     22009\n",
       "          2024-11-30     21689\n",
       "          2024-12-01     22901\n",
       "dtype: int64"
      ]
     },
     "execution_count": 8,
     "metadata": {},
     "output_type": "execute_result"
    }
   ],
   "source": [
    "df.groupby(['prodejce',pd.Grouper(key='oscrapovano',freq='D')]).size()"
   ]
  },
  {
   "cell_type": "markdown",
   "id": "4ec44be4-4b3e-49f7-9c30-bf4518f4e9ee",
   "metadata": {},
   "source": [
    "Výpadek ČD 2024-11-26 opraven, vyřešen."
   ]
  },
  {
   "cell_type": "code",
   "execution_count": 10,
   "id": "13a6cb25-bc64-4cce-b00f-ab1a4ecf7734",
   "metadata": {},
   "outputs": [],
   "source": [
    "df = df.sort_values(by=\"oscrapovano\").reset_index(drop=True)"
   ]
  },
  {
   "cell_type": "code",
   "execution_count": 11,
   "id": "1e429647-b3cf-4a38-b662-82bf58f40e68",
   "metadata": {},
   "outputs": [],
   "source": [
    "df = df.dropna(subset=['odkud','kam','odjezd','oscrapovano'],how='any')"
   ]
  },
  {
   "cell_type": "code",
   "execution_count": 12,
   "id": "8516e283-1ec0-4fc6-92e0-5b0d9eda7db4",
   "metadata": {},
   "outputs": [],
   "source": [
    "df = df[df['prostredek'] != 'autobus']"
   ]
  },
  {
   "cell_type": "code",
   "execution_count": 13,
   "id": "2451f714-e193-49ac-9439-dfaa169a3c4c",
   "metadata": {},
   "outputs": [
    {
     "name": "stderr",
     "output_type": "stream",
     "text": [
      "C:\\Users\\micha\\AppData\\Local\\Temp\\ipykernel_25384\\103445691.py:1: UserWarning: This pattern is interpreted as a regular expression, and has match groups. To actually get the groups, use str.extract.\n",
      "  df = df[~df['kam'].str.contains('(tief)',na=False)]\n",
      "C:\\Users\\micha\\AppData\\Local\\Temp\\ipykernel_25384\\103445691.py:2: UserWarning: This pattern is interpreted as a regular expression, and has match groups. To actually get the groups, use str.extract.\n",
      "  df = df[~df['odkud'].str.contains('(tief)',na=False)]\n"
     ]
    }
   ],
   "source": [
    "df = df[~df['kam'].str.contains('(tief)',na=False)]\n",
    "df = df[~df['odkud'].str.contains('(tief)',na=False)]"
   ]
  },
  {
   "cell_type": "markdown",
   "id": "c83a3e04-215a-4352-9caa-6fb0d20a75cb",
   "metadata": {},
   "source": [
    "Před 7. listopadem scrapování testovací a nesystematické = nevypovídající = filtrujeme."
   ]
  },
  {
   "cell_type": "code",
   "execution_count": 15,
   "id": "0c6bbbad-5707-4758-a97e-70e76b8ec28a",
   "metadata": {},
   "outputs": [],
   "source": [
    "df = df[df['oscrapovano'] >= '2024-11-08']"
   ]
  },
  {
   "cell_type": "code",
   "execution_count": 16,
   "id": "9a384ac6-c920-41cd-9134-3d04a084229e",
   "metadata": {},
   "outputs": [
    {
     "data": {
      "text/plain": [
       "prodejce  oscrapovano\n",
       "ARR       2024-11-08      7128\n",
       "          2024-11-09      3320\n",
       "          2024-11-10      3157\n",
       "          2024-11-11      3367\n",
       "          2024-11-12      3323\n",
       "          2024-11-13      3632\n",
       "          2024-11-14      3072\n",
       "          2024-11-15      3552\n",
       "          2024-11-16      3498\n",
       "          2024-11-17      3254\n",
       "          2024-11-18      3310\n",
       "          2024-11-19      3384\n",
       "          2024-11-20      3393\n",
       "          2024-11-21      3356\n",
       "          2024-11-22      3589\n",
       "          2024-11-23      3496\n",
       "          2024-11-24      3394\n",
       "          2024-11-25      3086\n",
       "          2024-11-26      2799\n",
       "          2024-11-27      2986\n",
       "          2024-11-28      3206\n",
       "          2024-11-29      3036\n",
       "          2024-11-30      3005\n",
       "          2024-12-01      3048\n",
       "LE        2024-11-08      1573\n",
       "          2024-11-09      1873\n",
       "          2024-11-10      1755\n",
       "          2024-11-11      1697\n",
       "          2024-11-12      1889\n",
       "          2024-11-13      1886\n",
       "          2024-11-14      1981\n",
       "          2024-11-15      2063\n",
       "          2024-11-16      2002\n",
       "          2024-11-17      2004\n",
       "          2024-11-18      1988\n",
       "          2024-11-19      2050\n",
       "          2024-11-20      2042\n",
       "          2024-11-21      2123\n",
       "          2024-11-22      2017\n",
       "          2024-11-23      1951\n",
       "          2024-11-24      2085\n",
       "          2024-11-25      2308\n",
       "          2024-11-26      1965\n",
       "          2024-11-27      2015\n",
       "          2024-11-28      2029\n",
       "          2024-11-29      2062\n",
       "          2024-11-30      2028\n",
       "          2024-12-01      2016\n",
       "RJ        2024-11-08      5743\n",
       "          2024-11-09      7629\n",
       "          2024-11-10      7099\n",
       "          2024-11-11      3987\n",
       "          2024-11-12      7103\n",
       "          2024-11-13      7852\n",
       "          2024-11-14      6297\n",
       "          2024-11-15      5897\n",
       "          2024-11-16      7182\n",
       "          2024-11-17      7344\n",
       "          2024-11-18      4224\n",
       "          2024-11-19      8180\n",
       "          2024-11-20      7246\n",
       "          2024-11-21      5808\n",
       "          2024-11-22      4291\n",
       "          2024-11-23      6895\n",
       "          2024-11-24      5750\n",
       "          2024-11-25      5598\n",
       "          2024-11-26      5068\n",
       "          2024-11-27      5313\n",
       "          2024-11-28      5390\n",
       "          2024-11-29      2172\n",
       "          2024-11-30       849\n",
       "          2024-12-01       815\n",
       "ČD        2024-11-08     21175\n",
       "          2024-11-09     22068\n",
       "          2024-11-10     20263\n",
       "          2024-11-11     20752\n",
       "          2024-11-12     20805\n",
       "          2024-11-13     20623\n",
       "          2024-11-14     21091\n",
       "          2024-11-15     20754\n",
       "          2024-11-16     20674\n",
       "          2024-11-17     20080\n",
       "          2024-11-18     20400\n",
       "          2024-11-19     20281\n",
       "          2024-11-20     21028\n",
       "          2024-11-21     21502\n",
       "          2024-11-22     19793\n",
       "          2024-11-23     20456\n",
       "          2024-11-24     21168\n",
       "          2024-11-25     19234\n",
       "          2024-11-26      2019\n",
       "          2024-11-27     21754\n",
       "          2024-11-28     20385\n",
       "          2024-11-29     20532\n",
       "          2024-11-30     20493\n",
       "          2024-12-01     21364\n",
       "dtype: int64"
      ]
     },
     "execution_count": 16,
     "metadata": {},
     "output_type": "execute_result"
    }
   ],
   "source": [
    "df.groupby(['prodejce',pd.Grouper(key='oscrapovano',freq='D')]).size()"
   ]
  },
  {
   "cell_type": "code",
   "execution_count": 17,
   "id": "e7b3f70a-4f04-488f-99a0-e534168cdf21",
   "metadata": {},
   "outputs": [],
   "source": [
    "days = {0: 'po', 1: 'út', 2: 'st', 3: 'čt', \n",
    "        4: 'pá', 5: 'so', 6: 'ne'}\n",
    "df['den'] = df['odjezd'].dt.dayofweek.map(days)"
   ]
  },
  {
   "cell_type": "code",
   "execution_count": 18,
   "id": "50764e8d-9cd1-450b-bd8a-34e85e3d22f9",
   "metadata": {},
   "outputs": [],
   "source": [
    "df['predstih_d'] = df['predstih'].dt.days\n",
    "df['predstih_h'] = df['predstih'].dt.total_seconds() / 3600"
   ]
  },
  {
   "cell_type": "code",
   "execution_count": 19,
   "id": "94bc1ba3-932e-4df2-a7a5-4aedaeec9717",
   "metadata": {},
   "outputs": [],
   "source": [
    "df = df[df['predstih_h'] > -3]"
   ]
  },
  {
   "cell_type": "code",
   "execution_count": 20,
   "id": "5376546f-7995-48af-a8c1-dd8c41c0a591",
   "metadata": {},
   "outputs": [],
   "source": [
    "kategoricka_data = ['odkud','kam','prodejce','den']"
   ]
  },
  {
   "cell_type": "code",
   "execution_count": 21,
   "id": "be5f17df-fb85-4139-9b07-98b3013433ed",
   "metadata": {},
   "outputs": [
    {
     "name": "stdout",
     "output_type": "stream",
     "text": [
      "Before: 53447100\n",
      "After:  6689094\n",
      "Before: 53576591\n",
      "After:  6687437\n",
      "Before: 54881798\n",
      "After:  6680209\n",
      "Before: 49126971\n",
      "After:  6680529\n"
     ]
    }
   ],
   "source": [
    "for k in kategoricka_data:\n",
    "    print(\"Before:\", df[k].memory_usage(deep=True))\n",
    "    df[k] = df[k].astype('category')\n",
    "    print(\"After: \", df[k].memory_usage(deep=True))"
   ]
  },
  {
   "cell_type": "code",
   "execution_count": 22,
   "id": "f5e504ea-d0cb-43db-960d-574b16d96b2f",
   "metadata": {
    "scrolled": true
   },
   "outputs": [],
   "source": [
    "df['cena'] = pd.to_numeric(df['cena'])"
   ]
  },
  {
   "cell_type": "code",
   "execution_count": 23,
   "id": "031a1930-cc15-4b30-b202-ffcb492534b2",
   "metadata": {},
   "outputs": [
    {
     "data": {
      "text/plain": [
       "742201"
      ]
     },
     "execution_count": 23,
     "metadata": {},
     "output_type": "execute_result"
    }
   ],
   "source": [
    "df.shape[0]"
   ]
  },
  {
   "cell_type": "code",
   "execution_count": 24,
   "id": "55046487-4a82-4bec-8870-cc400664db09",
   "metadata": {},
   "outputs": [
    {
     "data": {
      "text/plain": [
       "63799"
      ]
     },
     "execution_count": 24,
     "metadata": {},
     "output_type": "execute_result"
    }
   ],
   "source": [
    "df[['odjezd','odkud','kam']].drop_duplicates().shape[0]"
   ]
  },
  {
   "cell_type": "code",
   "execution_count": 25,
   "id": "852ca70e-3c1a-48cb-81fe-d1c51c2300f5",
   "metadata": {},
   "outputs": [],
   "source": [
    "poradi = ['oscrapovano','prodejce','odkud','kam',\n",
    " 'odjezd',\n",
    " 'predstih',\n",
    " 'predstih_d',\n",
    " 'predstih_h',\n",
    "          'cena',\n",
    " 'prostredek',\n",
    "          'volnych_mist',\n",
    " 'obsazenost',\n",
    " 'jizdni_doba',\n",
    " 'vzdalenost',\n",
    " 'zpozdeni',\n",
    " 'cena_poznamka',\n",
    " 'den',\n",
    " 'prestupy',\n",
    "'vlaky',\n",
    " 'mistenka_zdarma',\n",
    " 'nahradni_bus',\n",
    " 'volna_mista_economy',\n",
    " 'volna_mista_economy_plus',\n",
    " 'volna_mista_economy_business',\n",
    " 'volna_mista_premium']"
   ]
  },
  {
   "cell_type": "code",
   "execution_count": 26,
   "id": "16e60aa6-f5da-4435-8fd0-35341d542234",
   "metadata": {},
   "outputs": [],
   "source": [
    "df[poradi].to_parquet(os.path.join(\"data\",\"jizdenky.parquet\"))"
   ]
  },
  {
   "cell_type": "code",
   "execution_count": 27,
   "id": "66d06a65-575a-486b-aeff-1fb8a3735eb0",
   "metadata": {},
   "outputs": [],
   "source": [
    "nejnovejsi = df['oscrapovano'].max()\n",
    "nejnovejsi\n",
    "df_tyden = df[df['oscrapovano'] > (nejnovejsi - datetime.timedelta(hours=168))]"
   ]
  },
  {
   "cell_type": "code",
   "execution_count": 28,
   "id": "50643981-0d07-4390-a1ab-e2a4b636b358",
   "metadata": {},
   "outputs": [],
   "source": [
    "df_tyden[poradi].to_csv(os.path.join(\"data\",\"jizdenky_tyden.csv\"))"
   ]
  }
 ],
 "metadata": {
  "kernelspec": {
   "display_name": "Python 3 (ipykernel)",
   "language": "python",
   "name": "python3"
  },
  "language_info": {
   "codemirror_mode": {
    "name": "ipython",
    "version": 3
   },
   "file_extension": ".py",
   "mimetype": "text/x-python",
   "name": "python",
   "nbconvert_exporter": "python",
   "pygments_lexer": "ipython3",
   "version": "3.12.3"
  }
 },
 "nbformat": 4,
 "nbformat_minor": 5
}
