{
 "cells": [
  {
   "cell_type": "code",
   "execution_count": 2,
   "id": "6f9d7634-bc16-4f01-903e-c50d163e3eca",
   "metadata": {},
   "outputs": [],
   "source": [
    "import os\n",
    "import pandas as pd\n",
    "pd.set_option('display.max_columns', 100)\n",
    "pd.set_option('display.max_rows', 500)"
   ]
  },
  {
   "cell_type": "code",
   "execution_count": 4,
   "id": "4b82ff08-220d-4423-b59f-bd774c425602",
   "metadata": {},
   "outputs": [],
   "source": [
    "df = pd.read_parquet(os.path.join(\"data\",\"jizdenky.parquet\"))"
   ]
  },
  {
   "cell_type": "code",
   "execution_count": 6,
   "id": "68cb071b-45c6-42da-a94b-9e5591766516",
   "metadata": {},
   "outputs": [],
   "source": [
    "df = df[df['prodejce'] == 'ČD']"
   ]
  },
  {
   "cell_type": "code",
   "execution_count": 8,
   "id": "4bbba7cc-b7a8-4f55-8986-b1c7b7964d8f",
   "metadata": {},
   "outputs": [
    {
     "data": {
      "text/plain": [
       "332280"
      ]
     },
     "execution_count": 8,
     "metadata": {},
     "output_type": "execute_result"
    }
   ],
   "source": [
    "len(df)"
   ]
  },
  {
   "cell_type": "code",
   "execution_count": 24,
   "id": "1702685b-ad27-41c0-886a-a1f17e220eb1",
   "metadata": {},
   "outputs": [
    {
     "data": {
      "text/plain": [
       "['Ljubljana']"
      ]
     },
     "execution_count": 24,
     "metadata": {},
     "output_type": "execute_result"
    }
   ],
   "source": [
    "zbrna = df[df['odkud'].str.contains('Brno')]['kam'].drop_duplicates().to_list()\n",
    "zprahy = df[df['odkud'].str.contains('Praha')]['kam'].drop_duplicates().to_list()\n",
    "[x for x in zbrna if x in zprahy]"
   ]
  },
  {
   "cell_type": "code",
   "execution_count": 18,
   "id": "c23151c3-7299-4718-8258-9ac06f372572",
   "metadata": {},
   "outputs": [
    {
     "data": {
      "text/plain": [
       "2923.0"
      ]
     },
     "execution_count": 18,
     "metadata": {},
     "output_type": "execute_result"
    }
   ],
   "source": [
    "df[df['odkud'].str.contains('Brno') & df['kam'].str.contains('Lju') & (df['predstih_d'] == 0)]['cena'].median()"
   ]
  },
  {
   "cell_type": "code",
   "execution_count": 20,
   "id": "0c4690b8-c164-4d95-9b90-947078887a95",
   "metadata": {},
   "outputs": [
    {
     "data": {
      "text/plain": [
       "3163.0"
      ]
     },
     "execution_count": 20,
     "metadata": {},
     "output_type": "execute_result"
    }
   ],
   "source": [
    "df[df['odkud'].str.contains('Prah') & df['kam'].str.contains('Lju') & (df['predstih_d'] == 0)]['cena'].median()"
   ]
  }
 ],
 "metadata": {
  "kernelspec": {
   "display_name": "Python 3 (ipykernel)",
   "language": "python",
   "name": "python3"
  },
  "language_info": {
   "codemirror_mode": {
    "name": "ipython",
    "version": 3
   },
   "file_extension": ".py",
   "mimetype": "text/x-python",
   "name": "python",
   "nbconvert_exporter": "python",
   "pygments_lexer": "ipython3",
   "version": "3.12.3"
  }
 },
 "nbformat": 4,
 "nbformat_minor": 5
}
