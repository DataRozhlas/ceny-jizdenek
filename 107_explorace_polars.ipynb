{
 "cells": [
  {
   "cell_type": "code",
   "execution_count": 3,
   "id": "32df2c2a-35de-4a3f-8943-0485a122869b",
   "metadata": {},
   "outputs": [],
   "source": [
    "import os\n",
    "import polars as pl"
   ]
  },
  {
   "cell_type": "code",
   "execution_count": 5,
   "id": "07028971-51c5-43d2-b1aa-783e3720e0ee",
   "metadata": {},
   "outputs": [],
   "source": [
    "df = pl.read_parquet(os.path.join(\"data\",\"jizdenky.parquet\"))"
   ]
  },
  {
   "cell_type": "code",
   "execution_count": 7,
   "id": "02327ca2-c0b8-44bd-9529-f385ef1e9a42",
   "metadata": {},
   "outputs": [
    {
     "data": {
      "text/html": [
       "<div><style>\n",
       ".dataframe > thead > tr,\n",
       ".dataframe > tbody > tr {\n",
       "  text-align: right;\n",
       "  white-space: pre-wrap;\n",
       "}\n",
       "</style>\n",
       "<small>shape: (3_045_165, 26)</small><table border=\"1\" class=\"dataframe\"><thead><tr><th>oscrapovano</th><th>prodejce</th><th>odkud</th><th>kam</th><th>odjezd</th><th>predstih</th><th>predstih_d</th><th>predstih_h</th><th>cena</th><th>prostredek</th><th>volnych_mist</th><th>obsazenost</th><th>jizdni_doba</th><th>vzdalenost</th><th>zpozdeni</th><th>cena_poznamka</th><th>den</th><th>prestupy</th><th>vlaky</th><th>mistenka_zdarma</th><th>nahradni_bus</th><th>volna_mista_economy</th><th>volna_mista_economy_plus</th><th>volna_mista_economy_business</th><th>volna_mista_premium</th><th>__index_level_0__</th></tr><tr><td>datetime[ns]</td><td>cat</td><td>cat</td><td>cat</td><td>datetime[ns]</td><td>duration[ns]</td><td>i64</td><td>f64</td><td>f64</td><td>str</td><td>f64</td><td>list[str]</td><td>f64</td><td>f64</td><td>list[i64]</td><td>str</td><td>cat</td><td>i64</td><td>list[str]</td><td>bool</td><td>bool</td><td>f64</td><td>f64</td><td>f64</td><td>f64</td><td>i64</td></tr></thead><tbody><tr><td>2024-11-08 07:36:19</td><td>&quot;LE&quot;</td><td>&quot;Ostrava hl.n.&quot;</td><td>&quot;Praha-Libeň&quot;</td><td>2024-11-12 03:56:00</td><td>3d 20h 19m 41s</td><td>3</td><td>92.328056</td><td>199.0</td><td>null</td><td>null</td><td>null</td><td>null</td><td>null</td><td>null</td><td>null</td><td>&quot;út&quot;</td><td>-1</td><td>[]</td><td>null</td><td>null</td><td>null</td><td>null</td><td>null</td><td>null</td><td>141671</td></tr><tr><td>2024-11-08 07:36:19</td><td>&quot;LE&quot;</td><td>&quot;Ostrava-Svinov&quot;</td><td>&quot;Praha hl.n.&quot;</td><td>2024-11-12 04:03:00</td><td>3d 20h 26m 41s</td><td>3</td><td>92.444722</td><td>199.0</td><td>null</td><td>null</td><td>null</td><td>null</td><td>null</td><td>null</td><td>null</td><td>&quot;út&quot;</td><td>-1</td><td>[]</td><td>null</td><td>null</td><td>null</td><td>null</td><td>null</td><td>null</td><td>141672</td></tr><tr><td>2024-11-08 07:36:19</td><td>&quot;LE&quot;</td><td>&quot;Ostrava-Svinov&quot;</td><td>&quot;Praha-Libeň&quot;</td><td>2024-11-12 04:03:00</td><td>3d 20h 26m 41s</td><td>3</td><td>92.444722</td><td>199.0</td><td>null</td><td>null</td><td>null</td><td>null</td><td>null</td><td>null</td><td>null</td><td>&quot;út&quot;</td><td>-1</td><td>[]</td><td>null</td><td>null</td><td>null</td><td>null</td><td>null</td><td>null</td><td>141673</td></tr><tr><td>2024-11-08 07:36:19</td><td>&quot;LE&quot;</td><td>&quot;Ostrava hl.n.&quot;</td><td>&quot;Praha hl.n.&quot;</td><td>2024-11-12 10:57:00</td><td>4d 3h 20m 41s</td><td>4</td><td>99.344722</td><td>419.0</td><td>null</td><td>null</td><td>null</td><td>null</td><td>null</td><td>null</td><td>null</td><td>&quot;út&quot;</td><td>-1</td><td>[]</td><td>null</td><td>null</td><td>null</td><td>null</td><td>null</td><td>null</td><td>141674</td></tr><tr><td>2024-11-08 07:36:19</td><td>&quot;LE&quot;</td><td>&quot;Ostrava hl.n.&quot;</td><td>&quot;Praha-Libeň&quot;</td><td>2024-11-12 10:57:00</td><td>4d 3h 20m 41s</td><td>4</td><td>99.344722</td><td>419.0</td><td>null</td><td>null</td><td>null</td><td>null</td><td>null</td><td>null</td><td>null</td><td>&quot;út&quot;</td><td>-1</td><td>[]</td><td>null</td><td>null</td><td>null</td><td>null</td><td>null</td><td>null</td><td>141675</td></tr><tr><td>&hellip;</td><td>&hellip;</td><td>&hellip;</td><td>&hellip;</td><td>&hellip;</td><td>&hellip;</td><td>&hellip;</td><td>&hellip;</td><td>&hellip;</td><td>&hellip;</td><td>&hellip;</td><td>&hellip;</td><td>&hellip;</td><td>&hellip;</td><td>&hellip;</td><td>&hellip;</td><td>&hellip;</td><td>&hellip;</td><td>&hellip;</td><td>&hellip;</td><td>&hellip;</td><td>&hellip;</td><td>&hellip;</td><td>&hellip;</td><td>&hellip;</td><td>&hellip;</td></tr><tr><td>2025-05-01 22:36:00</td><td>&quot;ARR&quot;</td><td>&quot;Tanvald&quot;</td><td>&quot;Praha hl.n.&quot;</td><td>2025-05-12 16:31:00</td><td>10d 17h 55m</td><td>10</td><td>257.916667</td><td>160.0</td><td>&quot;vlak&quot;</td><td>37.0</td><td>null</td><td>165.0</td><td>133.0</td><td>null</td><td>null</td><td>&quot;po&quot;</td><td>0</td><td>[&quot;R 1149&quot;]</td><td>null</td><td>null</td><td>null</td><td>null</td><td>null</td><td>null</td><td>3445815</td></tr><tr><td>2025-05-01 22:36:00</td><td>&quot;ARR&quot;</td><td>&quot;Tanvald&quot;</td><td>&quot;Praha hl.n.&quot;</td><td>2025-05-12 14:31:00</td><td>10d 15h 55m</td><td>10</td><td>255.916667</td><td>160.0</td><td>&quot;vlak&quot;</td><td>35.0</td><td>null</td><td>244.0</td><td>133.0</td><td>null</td><td>null</td><td>&quot;po&quot;</td><td>2</td><td>[&quot;Os 26207&quot;, &quot;R 1064&quot;, &quot;R 1147&quot;]</td><td>null</td><td>null</td><td>null</td><td>null</td><td>null</td><td>null</td><td>3445816</td></tr><tr><td>2025-05-01 22:36:00</td><td>&quot;ARR&quot;</td><td>&quot;Tanvald&quot;</td><td>&quot;Praha hl.n.&quot;</td><td>2025-05-12 12:31:00</td><td>10d 13h 55m</td><td>10</td><td>253.916667</td><td>160.0</td><td>&quot;vlak&quot;</td><td>39.0</td><td>null</td><td>244.0</td><td>133.0</td><td>null</td><td>null</td><td>&quot;po&quot;</td><td>2</td><td>[&quot;Os 26205&quot;, &quot;R 1062&quot;, &quot;R 1145&quot;]</td><td>null</td><td>null</td><td>null</td><td>null</td><td>null</td><td>null</td><td>3445817</td></tr><tr><td>2025-05-01 22:36:00</td><td>&quot;ARR&quot;</td><td>&quot;Tanvald&quot;</td><td>&quot;Praha hl.n.&quot;</td><td>2025-05-13 16:31:00</td><td>11d 17h 55m</td><td>11</td><td>281.916667</td><td>160.0</td><td>&quot;vlak&quot;</td><td>39.0</td><td>null</td><td>165.0</td><td>133.0</td><td>null</td><td>null</td><td>&quot;út&quot;</td><td>0</td><td>[&quot;R 1149&quot;]</td><td>null</td><td>null</td><td>null</td><td>null</td><td>null</td><td>null</td><td>3445818</td></tr><tr><td>2025-05-01 22:36:00</td><td>&quot;ARR&quot;</td><td>&quot;Tanvald&quot;</td><td>&quot;Praha hl.n.&quot;</td><td>2025-05-10 18:31:00</td><td>8d 19h 55m</td><td>8</td><td>211.916667</td><td>160.0</td><td>&quot;vlak&quot;</td><td>32.0</td><td>null</td><td>153.0</td><td>133.0</td><td>null</td><td>null</td><td>&quot;so&quot;</td><td>0</td><td>[&quot;R 1155&quot;]</td><td>null</td><td>null</td><td>null</td><td>null</td><td>null</td><td>null</td><td>3445819</td></tr></tbody></table></div>"
      ],
      "text/plain": [
       "shape: (3_045_165, 26)\n",
       "┌──────────────┬──────────┬──────────────┬─────────────┬───┬──────────────┬──────────────┬──────────────┬──────────────┐\n",
       "│ oscrapovano  ┆ prodejce ┆ odkud        ┆ kam         ┆ … ┆ volna_mista_ ┆ volna_mista_ ┆ volna_mista_ ┆ __index_leve │\n",
       "│ ---          ┆ ---      ┆ ---          ┆ ---         ┆   ┆ economy_plus ┆ economy_busi ┆ premium      ┆ l_0__        │\n",
       "│ datetime[ns] ┆ cat      ┆ cat          ┆ cat         ┆   ┆ ---          ┆ ness         ┆ ---          ┆ ---          │\n",
       "│              ┆          ┆              ┆             ┆   ┆ f64          ┆ ---          ┆ f64          ┆ i64          │\n",
       "│              ┆          ┆              ┆             ┆   ┆              ┆ f64          ┆              ┆              │\n",
       "╞══════════════╪══════════╪══════════════╪═════════════╪═══╪══════════════╪══════════════╪══════════════╪══════════════╡\n",
       "│ 2024-11-08   ┆ LE       ┆ Ostrava      ┆ Praha-Libeň ┆ … ┆ null         ┆ null         ┆ null         ┆ 141671       │\n",
       "│ 07:36:19     ┆          ┆ hl.n.        ┆             ┆   ┆              ┆              ┆              ┆              │\n",
       "│ 2024-11-08   ┆ LE       ┆ Ostrava-Svin ┆ Praha hl.n. ┆ … ┆ null         ┆ null         ┆ null         ┆ 141672       │\n",
       "│ 07:36:19     ┆          ┆ ov           ┆             ┆   ┆              ┆              ┆              ┆              │\n",
       "│ 2024-11-08   ┆ LE       ┆ Ostrava-Svin ┆ Praha-Libeň ┆ … ┆ null         ┆ null         ┆ null         ┆ 141673       │\n",
       "│ 07:36:19     ┆          ┆ ov           ┆             ┆   ┆              ┆              ┆              ┆              │\n",
       "│ 2024-11-08   ┆ LE       ┆ Ostrava      ┆ Praha hl.n. ┆ … ┆ null         ┆ null         ┆ null         ┆ 141674       │\n",
       "│ 07:36:19     ┆          ┆ hl.n.        ┆             ┆   ┆              ┆              ┆              ┆              │\n",
       "│ 2024-11-08   ┆ LE       ┆ Ostrava      ┆ Praha-Libeň ┆ … ┆ null         ┆ null         ┆ null         ┆ 141675       │\n",
       "│ 07:36:19     ┆          ┆ hl.n.        ┆             ┆   ┆              ┆              ┆              ┆              │\n",
       "│ …            ┆ …        ┆ …            ┆ …           ┆ … ┆ …            ┆ …            ┆ …            ┆ …            │\n",
       "│ 2025-05-01   ┆ ARR      ┆ Tanvald      ┆ Praha hl.n. ┆ … ┆ null         ┆ null         ┆ null         ┆ 3445815      │\n",
       "│ 22:36:00     ┆          ┆              ┆             ┆   ┆              ┆              ┆              ┆              │\n",
       "│ 2025-05-01   ┆ ARR      ┆ Tanvald      ┆ Praha hl.n. ┆ … ┆ null         ┆ null         ┆ null         ┆ 3445816      │\n",
       "│ 22:36:00     ┆          ┆              ┆             ┆   ┆              ┆              ┆              ┆              │\n",
       "│ 2025-05-01   ┆ ARR      ┆ Tanvald      ┆ Praha hl.n. ┆ … ┆ null         ┆ null         ┆ null         ┆ 3445817      │\n",
       "│ 22:36:00     ┆          ┆              ┆             ┆   ┆              ┆              ┆              ┆              │\n",
       "│ 2025-05-01   ┆ ARR      ┆ Tanvald      ┆ Praha hl.n. ┆ … ┆ null         ┆ null         ┆ null         ┆ 3445818      │\n",
       "│ 22:36:00     ┆          ┆              ┆             ┆   ┆              ┆              ┆              ┆              │\n",
       "│ 2025-05-01   ┆ ARR      ┆ Tanvald      ┆ Praha hl.n. ┆ … ┆ null         ┆ null         ┆ null         ┆ 3445819      │\n",
       "│ 22:36:00     ┆          ┆              ┆             ┆   ┆              ┆              ┆              ┆              │\n",
       "└──────────────┴──────────┴──────────────┴─────────────┴───┴──────────────┴──────────────┴──────────────┴──────────────┘"
      ]
     },
     "execution_count": 7,
     "metadata": {},
     "output_type": "execute_result"
    }
   ],
   "source": [
    "df"
   ]
  },
  {
   "cell_type": "code",
   "execution_count": 49,
   "id": "478270d7-92b5-4dd1-9149-b3cf2937bdf9",
   "metadata": {},
   "outputs": [
    {
     "data": {
      "text/html": [
       "<div><style>\n",
       ".dataframe > thead > tr,\n",
       ".dataframe > tbody > tr {\n",
       "  text-align: right;\n",
       "  white-space: pre-wrap;\n",
       "}\n",
       "</style>\n",
       "<small>shape: (7, 3)</small><table border=\"1\" class=\"dataframe\"><thead><tr><th>oscrapovano</th><th>odjezd</th><th>predstih</th></tr><tr><td>datetime[ns]</td><td>u32</td><td>u32</td></tr></thead><tbody><tr><td>2024-11-01 00:00:00</td><td>40125</td><td>563643</td></tr><tr><td>2024-12-01 00:00:00</td><td>43013</td><td>404343</td></tr><tr><td>2025-01-01 00:00:00</td><td>43233</td><td>397669</td></tr><tr><td>2025-02-01 00:00:00</td><td>38286</td><td>353787</td></tr><tr><td>2025-03-01 00:00:00</td><td>40417</td><td>389544</td></tr><tr><td>2025-04-01 00:00:00</td><td>39924</td><td>381258</td></tr><tr><td>2025-05-01 00:00:00</td><td>6500</td><td>13724</td></tr></tbody></table></div>"
      ],
      "text/plain": [
       "shape: (7, 3)\n",
       "┌─────────────────────┬────────┬──────────┐\n",
       "│ oscrapovano         ┆ odjezd ┆ predstih │\n",
       "│ ---                 ┆ ---    ┆ ---      │\n",
       "│ datetime[ns]        ┆ u32    ┆ u32      │\n",
       "╞═════════════════════╪════════╪══════════╡\n",
       "│ 2024-11-01 00:00:00 ┆ 40125  ┆ 563643   │\n",
       "│ 2024-12-01 00:00:00 ┆ 43013  ┆ 404343   │\n",
       "│ 2025-01-01 00:00:00 ┆ 43233  ┆ 397669   │\n",
       "│ 2025-02-01 00:00:00 ┆ 38286  ┆ 353787   │\n",
       "│ 2025-03-01 00:00:00 ┆ 40417  ┆ 389544   │\n",
       "│ 2025-04-01 00:00:00 ┆ 39924  ┆ 381258   │\n",
       "│ 2025-05-01 00:00:00 ┆ 6500   ┆ 13724    │\n",
       "└─────────────────────┴────────┴──────────┘"
      ]
     },
     "execution_count": 49,
     "metadata": {},
     "output_type": "execute_result"
    }
   ],
   "source": [
    "df.group_by_dynamic(index_column=\"oscrapovano\", every=\"1mo\").agg(pl.col([\"odjezd\",\"predstih\"]).unique().len())"
   ]
  },
  {
   "cell_type": "code",
   "execution_count": 53,
   "id": "b73c8a32-3beb-4ae7-a061-7ab60afac13e",
   "metadata": {},
   "outputs": [
    {
     "data": {
      "text/html": [
       "<div><style>\n",
       ".dataframe > thead > tr,\n",
       ".dataframe > tbody > tr {\n",
       "  text-align: right;\n",
       "  white-space: pre-wrap;\n",
       "}\n",
       "</style>\n",
       "<small>shape: (2_665_105, 26)</small><table border=\"1\" class=\"dataframe\"><thead><tr><th>oscrapovano</th><th>prodejce</th><th>odkud</th><th>kam</th><th>odjezd</th><th>predstih</th><th>predstih_d</th><th>predstih_h</th><th>cena</th><th>prostredek</th><th>volnych_mist</th><th>obsazenost</th><th>jizdni_doba</th><th>vzdalenost</th><th>zpozdeni</th><th>cena_poznamka</th><th>den</th><th>prestupy</th><th>vlaky</th><th>mistenka_zdarma</th><th>nahradni_bus</th><th>volna_mista_economy</th><th>volna_mista_economy_plus</th><th>volna_mista_economy_business</th><th>volna_mista_premium</th><th>__index_level_0__</th></tr><tr><td>datetime[ns]</td><td>cat</td><td>cat</td><td>cat</td><td>datetime[ns]</td><td>duration[ns]</td><td>i64</td><td>f64</td><td>f64</td><td>str</td><td>f64</td><td>list[str]</td><td>f64</td><td>f64</td><td>list[i64]</td><td>str</td><td>cat</td><td>i64</td><td>list[str]</td><td>bool</td><td>bool</td><td>f64</td><td>f64</td><td>f64</td><td>f64</td><td>i64</td></tr></thead><tbody><tr><td>2024-11-09 18:42:31</td><td>&quot;ČD&quot;</td><td>&quot;Praha hl.n.&quot;</td><td>&quot;Amsterdam Centraal&quot;</td><td>2024-11-13 12:28:00</td><td>3d 17h 45m 29s</td><td>3</td><td>89.758056</td><td>11644.0</td><td>&quot;vlak&quot;</td><td>null</td><td>[&quot;Předpokládané střední obsazení - doporučujeme včasné pořízení místenky&quot;, &quot;Předpokládané střední obsazení - doporučujeme včasné pořízení místenky&quot;, … &quot;Téměr vyprodaná místa k sezení&quot;]</td><td>1290.0</td><td>null</td><td>[0, 0, 0]</td><td>null</td><td>&quot;st&quot;</td><td>2</td><td>[&quot;EC 378 Berliner&quot;, &quot;ICE 273&quot;, &quot;IC 60402&quot;]</td><td>null</td><td>null</td><td>null</td><td>null</td><td>null</td><td>null</td><td>216815</td></tr><tr><td>2024-11-09 18:45:53</td><td>&quot;ČD&quot;</td><td>&quot;Praha hl.n.&quot;</td><td>&quot;Amsterdam Centraal&quot;</td><td>2024-11-15 12:28:00</td><td>5d 17h 42m 7s</td><td>5</td><td>137.701944</td><td>11644.0</td><td>&quot;vlak&quot;</td><td>null</td><td>[&quot;Předpokládané střední obsazení - doporučujeme včasné pořízení místenky&quot;, &quot;Předpokládané střední obsazení - doporučujeme včasné pořízení místenky&quot;, … &quot;Téměr vyprodaná místa k sezení&quot;]</td><td>1281.0</td><td>null</td><td>[0, 0, … 0]</td><td>null</td><td>&quot;pá&quot;</td><td>3</td><td>[&quot;EC 378 Berliner&quot;, &quot;ICE 273&quot;, … &quot;IC 2926&quot;]</td><td>null</td><td>null</td><td>null</td><td>null</td><td>null</td><td>null</td><td>217110</td></tr><tr><td>2024-11-14 09:49:24</td><td>&quot;ČD&quot;</td><td>&quot;Praha hl.n.&quot;</td><td>&quot;Amsterdam Centraal&quot;</td><td>2024-11-23 12:28:00</td><td>9d 2h 38m 36s</td><td>9</td><td>218.643333</td><td>11644.0</td><td>&quot;vlak&quot;</td><td>null</td><td>[&quot;Předpokládané střední obsazení - doporučujeme včasné pořízení místenky&quot;, &quot;Předpokládané střední obsazení - doporučujeme včasné pořízení místenky&quot;, … &quot;Téměr vyprodaná místa k sezení&quot;]</td><td>1289.0</td><td>null</td><td>[0, 0, 0]</td><td>null</td><td>&quot;so&quot;</td><td>2</td><td>[&quot;EC 378 Berliner&quot;, &quot;ICE 273&quot;, &quot;IC 60402&quot;]</td><td>null</td><td>null</td><td>null</td><td>null</td><td>null</td><td>null</td><td>394441</td></tr><tr><td>2024-11-14 09:53:33</td><td>&quot;ČD&quot;</td><td>&quot;Praha hl.n.&quot;</td><td>&quot;Amsterdam Centraal&quot;</td><td>2024-11-29 12:28:00</td><td>15d 2h 34m 27s</td><td>15</td><td>362.574167</td><td>11644.0</td><td>&quot;vlak&quot;</td><td>null</td><td>[&quot;Předpokládané střední obsazení - doporučujeme včasné pořízení místenky&quot;, &quot;Předpokládané střední obsazení - doporučujeme včasné pořízení místenky&quot;, … &quot;Téměr vyprodaná místa k sezení&quot;]</td><td>1281.0</td><td>null</td><td>[0, 0, … 0]</td><td>null</td><td>&quot;pá&quot;</td><td>3</td><td>[&quot;EC 378 Berliner&quot;, &quot;ICE 273&quot;, … &quot;IC 2926&quot;]</td><td>null</td><td>null</td><td>null</td><td>null</td><td>null</td><td>null</td><td>394767</td></tr><tr><td>2024-11-22 18:48:21</td><td>&quot;ČD&quot;</td><td>&quot;Praha hl.n.&quot;</td><td>&quot;Amsterdam Centraal&quot;</td><td>2024-11-29 12:28:00</td><td>6d 17h 39m 39s</td><td>6</td><td>161.660833</td><td>11644.0</td><td>&quot;vlak&quot;</td><td>null</td><td>[&quot;Předpokládané střední obsazení - doporučujeme včasné pořízení místenky&quot;, &quot;Předpokládané střední obsazení - doporučujeme včasné pořízení místenky&quot;, … &quot;Téměr vyprodaná místa k sezení&quot;]</td><td>1281.0</td><td>null</td><td>[0, 0, … 0]</td><td>null</td><td>&quot;pá&quot;</td><td>3</td><td>[&quot;EC 378 Berliner&quot;, &quot;ICE 273&quot;, … &quot;IC 2926&quot;]</td><td>null</td><td>null</td><td>null</td><td>null</td><td>null</td><td>null</td><td>725853</td></tr><tr><td>&hellip;</td><td>&hellip;</td><td>&hellip;</td><td>&hellip;</td><td>&hellip;</td><td>&hellip;</td><td>&hellip;</td><td>&hellip;</td><td>&hellip;</td><td>&hellip;</td><td>&hellip;</td><td>&hellip;</td><td>&hellip;</td><td>&hellip;</td><td>&hellip;</td><td>&hellip;</td><td>&hellip;</td><td>&hellip;</td><td>&hellip;</td><td>&hellip;</td><td>&hellip;</td><td>&hellip;</td><td>&hellip;</td><td>&hellip;</td><td>&hellip;</td><td>&hellip;</td></tr><tr><td>2025-03-19 19:28:30</td><td>&quot;ARR&quot;</td><td>&quot;Praha hl.n.&quot;</td><td>&quot;Tanvald&quot;</td><td>2025-03-19 23:26:00</td><td>3h 57m 30s</td><td>0</td><td>3.958333</td><td>48.0</td><td>&quot;vlak&quot;</td><td>119.0</td><td>null</td><td>244.0</td><td>133.0</td><td>null</td><td>null</td><td>&quot;st&quot;</td><td>2</td><td>[&quot;R 1154&quot;, &quot;Os 5423&quot;, &quot;Os 26220&quot;]</td><td>null</td><td>null</td><td>null</td><td>null</td><td>null</td><td>null</td><td>2759703</td></tr><tr><td>2025-03-24 19:28:34</td><td>&quot;ARR&quot;</td><td>&quot;Praha hl.n.&quot;</td><td>&quot;Tanvald&quot;</td><td>2025-03-24 23:26:00</td><td>3h 57m 26s</td><td>0</td><td>3.957222</td><td>48.0</td><td>&quot;vlak&quot;</td><td>120.0</td><td>null</td><td>244.0</td><td>133.0</td><td>null</td><td>null</td><td>&quot;po&quot;</td><td>2</td><td>[&quot;R 1154&quot;, &quot;Os 5423&quot;, &quot;Os 26220&quot;]</td><td>null</td><td>null</td><td>null</td><td>null</td><td>null</td><td>null</td><td>2837915</td></tr><tr><td>2025-03-27 19:30:17</td><td>&quot;ARR&quot;</td><td>&quot;Praha hl.n.&quot;</td><td>&quot;Tanvald&quot;</td><td>2025-03-27 23:26:00</td><td>3h 55m 43s</td><td>0</td><td>3.928611</td><td>48.0</td><td>&quot;vlak&quot;</td><td>120.0</td><td>null</td><td>244.0</td><td>133.0</td><td>null</td><td>null</td><td>&quot;čt&quot;</td><td>2</td><td>[&quot;R 1154&quot;, &quot;Os 5423&quot;, &quot;Os 26220&quot;]</td><td>null</td><td>null</td><td>null</td><td>null</td><td>null</td><td>null</td><td>2885964</td></tr><tr><td>2025-04-07 19:30:48</td><td>&quot;ARR&quot;</td><td>&quot;Praha hl.n.&quot;</td><td>&quot;Tanvald&quot;</td><td>2025-04-07 23:26:00</td><td>3h 55m 12s</td><td>0</td><td>3.92</td><td>48.0</td><td>&quot;vlak&quot;</td><td>120.0</td><td>null</td><td>244.0</td><td>133.0</td><td>null</td><td>null</td><td>&quot;po&quot;</td><td>2</td><td>[&quot;R 1154&quot;, &quot;Os 5423&quot;, &quot;Os 26220&quot;]</td><td>null</td><td>null</td><td>null</td><td>null</td><td>null</td><td>null</td><td>3061992</td></tr><tr><td>2024-11-29 11:25:17</td><td>&quot;ARR&quot;</td><td>&quot;Praha hl.n.&quot;</td><td>&quot;Tanvald&quot;</td><td>2024-11-29 14:40:00</td><td>3h 14m 43s</td><td>0</td><td>3.245278</td><td>33.0</td><td>&quot;vlak&quot;</td><td>120.0</td><td>null</td><td>197.0</td><td>133.0</td><td>null</td><td>null</td><td>&quot;pá&quot;</td><td>1</td><td>[&quot;R 1146&quot;, &quot;Os 26210&quot;]</td><td>null</td><td>null</td><td>null</td><td>null</td><td>null</td><td>null</td><td>952708</td></tr></tbody></table></div>"
      ],
      "text/plain": [
       "shape: (2_665_105, 26)\n",
       "┌───────────────┬──────────┬─────────────┬───────────┬───┬───────────────┬───────────────┬──────────────┬──────────────┐\n",
       "│ oscrapovano   ┆ prodejce ┆ odkud       ┆ kam       ┆ … ┆ volna_mista_e ┆ volna_mista_e ┆ volna_mista_ ┆ __index_leve │\n",
       "│ ---           ┆ ---      ┆ ---         ┆ ---       ┆   ┆ conomy_plus   ┆ conomy_busine ┆ premium      ┆ l_0__        │\n",
       "│ datetime[ns]  ┆ cat      ┆ cat         ┆ cat       ┆   ┆ ---           ┆ ss            ┆ ---          ┆ ---          │\n",
       "│               ┆          ┆             ┆           ┆   ┆ f64           ┆ ---           ┆ f64          ┆ i64          │\n",
       "│               ┆          ┆             ┆           ┆   ┆               ┆ f64           ┆              ┆              │\n",
       "╞═══════════════╪══════════╪═════════════╪═══════════╪═══╪═══════════════╪═══════════════╪══════════════╪══════════════╡\n",
       "│ 2024-11-09    ┆ ČD       ┆ Praha hl.n. ┆ Amsterdam ┆ … ┆ null          ┆ null          ┆ null         ┆ 216815       │\n",
       "│ 18:42:31      ┆          ┆             ┆ Centraal  ┆   ┆               ┆               ┆              ┆              │\n",
       "│ 2024-11-09    ┆ ČD       ┆ Praha hl.n. ┆ Amsterdam ┆ … ┆ null          ┆ null          ┆ null         ┆ 217110       │\n",
       "│ 18:45:53      ┆          ┆             ┆ Centraal  ┆   ┆               ┆               ┆              ┆              │\n",
       "│ 2024-11-14    ┆ ČD       ┆ Praha hl.n. ┆ Amsterdam ┆ … ┆ null          ┆ null          ┆ null         ┆ 394441       │\n",
       "│ 09:49:24      ┆          ┆             ┆ Centraal  ┆   ┆               ┆               ┆              ┆              │\n",
       "│ 2024-11-14    ┆ ČD       ┆ Praha hl.n. ┆ Amsterdam ┆ … ┆ null          ┆ null          ┆ null         ┆ 394767       │\n",
       "│ 09:53:33      ┆          ┆             ┆ Centraal  ┆   ┆               ┆               ┆              ┆              │\n",
       "│ 2024-11-22    ┆ ČD       ┆ Praha hl.n. ┆ Amsterdam ┆ … ┆ null          ┆ null          ┆ null         ┆ 725853       │\n",
       "│ 18:48:21      ┆          ┆             ┆ Centraal  ┆   ┆               ┆               ┆              ┆              │\n",
       "│ …             ┆ …        ┆ …           ┆ …         ┆ … ┆ …             ┆ …             ┆ …            ┆ …            │\n",
       "│ 2025-03-19    ┆ ARR      ┆ Praha hl.n. ┆ Tanvald   ┆ … ┆ null          ┆ null          ┆ null         ┆ 2759703      │\n",
       "│ 19:28:30      ┆          ┆             ┆           ┆   ┆               ┆               ┆              ┆              │\n",
       "│ 2025-03-24    ┆ ARR      ┆ Praha hl.n. ┆ Tanvald   ┆ … ┆ null          ┆ null          ┆ null         ┆ 2837915      │\n",
       "│ 19:28:34      ┆          ┆             ┆           ┆   ┆               ┆               ┆              ┆              │\n",
       "│ 2025-03-27    ┆ ARR      ┆ Praha hl.n. ┆ Tanvald   ┆ … ┆ null          ┆ null          ┆ null         ┆ 2885964      │\n",
       "│ 19:30:17      ┆          ┆             ┆           ┆   ┆               ┆               ┆              ┆              │\n",
       "│ 2025-04-07    ┆ ARR      ┆ Praha hl.n. ┆ Tanvald   ┆ … ┆ null          ┆ null          ┆ null         ┆ 3061992      │\n",
       "│ 19:30:48      ┆          ┆             ┆           ┆   ┆               ┆               ┆              ┆              │\n",
       "│ 2024-11-29    ┆ ARR      ┆ Praha hl.n. ┆ Tanvald   ┆ … ┆ null          ┆ null          ┆ null         ┆ 952708       │\n",
       "│ 11:25:17      ┆          ┆             ┆           ┆   ┆               ┆               ┆              ┆              │\n",
       "└───────────────┴──────────┴─────────────┴───────────┴───┴───────────────┴───────────────┴──────────────┴──────────────┘"
      ]
     },
     "execution_count": 53,
     "metadata": {},
     "output_type": "execute_result"
    }
   ],
   "source": [
    "df.drop_nulls(subset=['cena']).sort(by='cena',descending=True)"
   ]
  }
 ],
 "metadata": {
  "kernelspec": {
   "display_name": "Python 3 (ipykernel)",
   "language": "python",
   "name": "python3"
  },
  "language_info": {
   "codemirror_mode": {
    "name": "ipython",
    "version": 3
   },
   "file_extension": ".py",
   "mimetype": "text/x-python",
   "name": "python",
   "nbconvert_exporter": "python",
   "pygments_lexer": "ipython3",
   "version": "3.12.3"
  }
 },
 "nbformat": 4,
 "nbformat_minor": 5
}
