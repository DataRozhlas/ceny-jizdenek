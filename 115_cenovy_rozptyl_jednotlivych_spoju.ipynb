{
 "cells": [
  {
   "cell_type": "code",
   "execution_count": 1,
   "id": "722a68a9-0c4f-437d-8f35-8705bc779551",
   "metadata": {},
   "outputs": [],
   "source": [
    "import os\n",
    "import pandas as pd\n",
    "pd.set_option('display.max_columns', 100)\n",
    "pd.set_option('display.max_rows', 500)"
   ]
  },
  {
   "cell_type": "code",
   "execution_count": 7,
   "id": "9bc4ce19-2e07-4a49-b88d-b9b6d589f4c8",
   "metadata": {},
   "outputs": [],
   "source": [
    "df = pd.read_parquet(os.path.join('data','jizdenky.parquet'))\n",
    "df = df[df['odjezd'] >= '2024-11-08']\n",
    "df = df[df['prostredek'] != 'autobus']\n",
    "df = df[df['prestupy'] == 0]\n",
    "df['spoj'] = df.apply(lambda row: f\"\"\"{row['prodejce']} {row['den']} {row['odjezd'].hour:02}:{row['odjezd'].minute:02}\"\"\", axis=1)"
   ]
  },
  {
   "cell_type": "code",
   "execution_count": 20,
   "id": "f4e3237d-fc8f-4821-ae75-4a0850d302f5",
   "metadata": {},
   "outputs": [
    {
     "name": "stderr",
     "output_type": "stream",
     "text": [
      "C:\\Users\\micha\\AppData\\Local\\Temp\\ipykernel_32532\\3376779085.py:1: FutureWarning: The default of observed=False is deprecated and will be changed to True in a future version of pandas. Pass observed=False to retain current behavior or observed=True to adopt the future default and silence this warning.\n",
      "  (df.groupby([\"spoj\",\"odkud\",\"kam\"])['cena'].max() / df.groupby([\"spoj\",\"odkud\",\"kam\"])['cena'].min()).dropna().nlargest(100)\n",
      "C:\\Users\\micha\\AppData\\Local\\Temp\\ipykernel_32532\\3376779085.py:1: FutureWarning: The default of observed=False is deprecated and will be changed to True in a future version of pandas. Pass observed=False to retain current behavior or observed=True to adopt the future default and silence this warning.\n",
      "  (df.groupby([\"spoj\",\"odkud\",\"kam\"])['cena'].max() / df.groupby([\"spoj\",\"odkud\",\"kam\"])['cena'].min()).dropna().nlargest(100)\n"
     ]
    },
    {
     "data": {
      "text/plain": [
       "spoj         odkud                      kam              \n",
       "LE ne 10:58  Praha hl.n.                Ostrava hl.n.        7.767677\n",
       "                                        Ostrava-Svinov       7.767677\n",
       "LE pá 19:59  Pardubice hl.n.            Košice               6.150502\n",
       "ČD ne 17:16  Berlin Hbf (tief)          Praha hl.n.          5.612403\n",
       "ČD pá 06:28  Praha hl.n.                Berlin Hbf (tief)    5.612403\n",
       "ČD pá 17:16  Berlin Hbf (tief)          Praha hl.n.          5.612403\n",
       "ČD so 06:28  Praha hl.n.                Berlin Hbf (tief)    5.612403\n",
       "ČD so 17:16  Berlin Hbf (tief)          Praha hl.n.          5.612403\n",
       "ČD út 06:28  Praha hl.n.                Berlin Hbf (tief)    5.612403\n",
       "LE čt 13:58  Praha hl.n.                Ostrava hl.n.        5.581006\n",
       "LE čt 14:59  Pardubice hl.n.            Košice               5.516129\n",
       "LE čt 13:58  Praha hl.n.                Ostrava-Svinov       5.413408\n",
       "LE st 22:53  Košice                     Pardubice hl.n.      5.200627\n",
       "LE so 14:59  Pardubice hl.n.            Košice               5.061697\n",
       "LE ne 07:58  Praha hl.n.                Ostrava hl.n.        5.040404\n",
       "                                        Ostrava-Svinov       5.040404\n",
       "LE ne 08:58  Praha hl.n.                Ostrava hl.n.        5.040404\n",
       "                                        Ostrava-Svinov       5.040404\n",
       "LE po 17:06  Ostrava hl.n.              Praha hl.n.          5.040404\n",
       "LE po 17:13  Ostrava-Svinov             Praha hl.n.          5.040404\n",
       "LE so 17:06  Ostrava hl.n.              Praha hl.n.          5.040404\n",
       "LE so 17:13  Ostrava-Svinov             Praha hl.n.          5.040404\n",
       "LE so 20:58  Praha hl.n.                Ostrava hl.n.        5.040404\n",
       "                                        Ostrava-Svinov       5.040404\n",
       "LE čt 17:06  Ostrava hl.n.              Praha hl.n.          5.040404\n",
       "LE čt 17:13  Ostrava-Svinov             Praha hl.n.          5.040404\n",
       "LE pá 18:58  Praha hl.n.                Ostrava hl.n.        5.020101\n",
       "                                        Ostrava-Svinov       5.020101\n",
       "LE čt 03:56  Ostrava hl.n.              Praha hl.n.          5.020101\n",
       "LE čt 04:03  Ostrava-Svinov             Praha hl.n.          5.020101\n",
       "LE čt 18:58  Praha hl.n.                Ostrava hl.n.        4.869347\n",
       "                                        Ostrava-Svinov       4.869347\n",
       "LE po 14:59  Pardubice hl.n.            Košice               4.846154\n",
       "LE pá 17:06  Ostrava hl.n.              Praha hl.n.          4.838384\n",
       "LE pá 17:13  Ostrava-Svinov             Praha hl.n.          4.838384\n",
       "LE čt 19:59  Pardubice hl.n.            Košice               4.812709\n",
       "LE po 13:58  Praha hl.n.                Ostrava hl.n.        4.718593\n",
       "                                        Ostrava-Svinov       4.718593\n",
       "LE so 19:59  Pardubice hl.n.            Košice               4.612040\n",
       "LE so 18:58  Praha hl.n.                Ostrava hl.n.        4.517588\n",
       "                                        Ostrava-Svinov       4.517588\n",
       "LE so 13:58  Praha hl.n.                Ostrava hl.n.        4.012048\n",
       "                                        Ostrava-Svinov       4.012048\n",
       "ČD ne 06:28  Praha hl.n.                Berlin Hbf (tief)    3.932817\n",
       "ČD po 06:28  Praha hl.n.                Berlin Hbf (tief)    3.932817\n",
       "ČD po 17:16  Berlin Hbf (tief)          Praha hl.n.          3.932817\n",
       "ČD st 17:16  Berlin Hbf (tief)          Praha hl.n.          3.932817\n",
       "ČD út 17:16  Berlin Hbf (tief)          Praha hl.n.          3.932817\n",
       "ČD čt 06:28  Praha hl.n.                Berlin Hbf (tief)    3.932817\n",
       "ČD ne 11:12  Krakow Glowny              Praha hl.n.          3.867036\n",
       "LE ne 18:58  Praha hl.n.                Ostrava hl.n.        3.864322\n",
       "                                        Ostrava-Svinov       3.864322\n",
       "LE ne 19:59  Pardubice hl.n.            Košice               3.842809\n",
       "LE po 15:00  Praha hl.n.                Ostrava hl.n.        3.737430\n",
       "                                        Ostrava-Svinov       3.737430\n",
       "ČD ne 14:56  Wien Franz-Josefs-Bahnhof  Praha hl.n.          3.690205\n",
       "RJ po 21:47  Praha                      Krakov               3.636364\n",
       "RJ út 21:47  Praha                      Krakov               3.636364\n",
       "ČD ne 15:10  Wien Hbf                   Praha hl.n.          3.633075\n",
       "ČD ne 17:10  Wien Hbf                   Praha hl.n.          3.633075\n",
       "ČD ne 19:10  Wien Hbf                   Praha hl.n.          3.633075\n",
       "ČD so 04:42  Praha hl.n.                Wien Hbf             3.633075\n",
       "ČD so 06:44  Praha hl.n.                Wien Hbf             3.633075\n",
       "ČD so 19:10  Wien Hbf                   Praha hl.n.          3.633075\n",
       "ČD st 06:28  Praha hl.n.                Berlin Hbf (tief)    3.599483\n",
       "ČD čt 17:16  Berlin Hbf (tief)          Praha hl.n.          3.599483\n",
       "LE pá 14:59  Pardubice hl.n.            Košice               3.592593\n",
       "LE ne 17:06  Ostrava hl.n.              Praha hl.n.          3.530120\n",
       "LE ne 17:13  Ostrava-Svinov             Praha hl.n.          3.530120\n",
       "LE so 04:58  Ostrava hl.n.              Praha hl.n.          3.512563\n",
       "LE so 05:05  Ostrava-Svinov             Praha hl.n.          3.512563\n",
       "LE út 15:00  Praha hl.n.                Ostrava hl.n.        3.485207\n",
       "                                        Ostrava-Svinov       3.485207\n",
       "LE čt 16:58  Praha hl.n.                Ostrava hl.n.        3.462312\n",
       "                                        Ostrava-Svinov       3.462312\n",
       "LE po 03:56  Ostrava hl.n.              Praha hl.n.          3.361809\n",
       "LE po 04:03  Ostrava-Svinov             Praha hl.n.          3.361809\n",
       "LE po 08:00  Praha hl.n.                Ostrava hl.n.        3.361809\n",
       "                                        Ostrava-Svinov       3.361809\n",
       "LE po 11:00  Praha hl.n.                Ostrava hl.n.        3.361809\n",
       "                                        Ostrava-Svinov       3.361809\n",
       "LE po 11:57  Ostrava hl.n.              Praha hl.n.          3.361809\n",
       "LE po 12:04  Ostrava-Svinov             Praha hl.n.          3.361809\n",
       "LE po 15:57  Ostrava hl.n.              Praha hl.n.          3.361809\n",
       "LE po 16:04  Ostrava-Svinov             Praha hl.n.          3.361809\n",
       "LE ne 14:58  Ostrava hl.n.              Praha hl.n.          3.341137\n",
       "LE ne 15:05  Ostrava-Svinov             Praha hl.n.          3.341137\n",
       "LE út 13:00  Praha hl.n.                Ostrava hl.n.        3.311558\n",
       "                                        Ostrava-Svinov       3.311558\n",
       "LE út 15:57  Ostrava hl.n.              Praha hl.n.          3.311558\n",
       "LE út 16:04  Ostrava-Svinov             Praha hl.n.          3.311558\n",
       "LE čt 18:57  Ostrava hl.n.              Praha hl.n.          3.307692\n",
       "LE čt 19:04  Ostrava-Svinov             Praha hl.n.          3.307692\n",
       "LE pá 11:00  Praha hl.n.                Ostrava hl.n.        3.254335\n",
       "                                        Ostrava-Svinov       3.254335\n",
       "LE po 13:59  Pardubice hl.n.            Košice               3.227171\n",
       "LE pá 20:59  Pardubice hl.n.            Košice               3.227171\n",
       "LE pá 03:56  Ostrava hl.n.              Praha hl.n.          3.211055\n",
       "LE pá 04:03  Ostrava-Svinov             Praha hl.n.          3.211055\n",
       "LE st 08:57  Ostrava hl.n.              Praha hl.n.          3.211055\n",
       "Name: cena, dtype: float64"
      ]
     },
     "execution_count": 20,
     "metadata": {},
     "output_type": "execute_result"
    }
   ],
   "source": [
    "(df.groupby([\"spoj\",\"odkud\",\"kam\"])['cena'].max() / df.groupby([\"spoj\",\"odkud\",\"kam\"])['cena'].min()).dropna().nlargest(100)"
   ]
  }
 ],
 "metadata": {
  "kernelspec": {
   "display_name": "Python 3 (ipykernel)",
   "language": "python",
   "name": "python3"
  },
  "language_info": {
   "codemirror_mode": {
    "name": "ipython",
    "version": 3
   },
   "file_extension": ".py",
   "mimetype": "text/x-python",
   "name": "python",
   "nbconvert_exporter": "python",
   "pygments_lexer": "ipython3",
   "version": "3.12.3"
  }
 },
 "nbformat": 4,
 "nbformat_minor": 5
}
