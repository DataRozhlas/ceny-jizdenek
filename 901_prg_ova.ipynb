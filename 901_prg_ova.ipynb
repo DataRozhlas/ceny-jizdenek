{
 "cells": [
  {
   "cell_type": "code",
   "execution_count": 175,
   "id": "3c781ae2-91da-4a7d-ace5-efad5c20ca9e",
   "metadata": {},
   "outputs": [],
   "source": [
    "import os\n",
    "import pandas as pd\n",
    "pd.set_option('display.max_columns', 100)\n",
    "pd.set_option('display.max_rows', 500)"
   ]
  },
  {
   "cell_type": "code",
   "execution_count": 176,
   "id": "14f18a43-03fc-4160-887b-e28b569c5f38",
   "metadata": {},
   "outputs": [],
   "source": [
    "def obdobi(radek):\n",
    "    return f\"\"\"{radek['odjezd'].dayofweek + 1}-{radek['odjezd'].hour // 4}\"\"\""
   ]
  },
  {
   "cell_type": "code",
   "execution_count": 177,
   "id": "69f1fe8a-9447-4ec4-8b51-6053ee563520",
   "metadata": {},
   "outputs": [
    {
     "name": "stdout",
     "output_type": "stream",
     "text": [
      "Nejdelší započítané spojení: 216 minut.\n"
     ]
    }
   ],
   "source": [
    "df = pd.read_parquet(os.path.join('data','jizdenky.parquet'))\n",
    "df = df[df['odkud'].str.contains('Ostrava') | df['odkud'].str.contains('Praha')]\n",
    "df = df[df['kam'].str.contains('Ostrava') | df['kam'].str.contains('Praha')]\n",
    "df = df[df['odjezd'] >= '2024-11-08']\n",
    "df = df[df['prostredek'] != 'autobus']\n",
    "df = df[df['prestupy'] == 0]\n",
    "nejdelsi = df['jizdni_doba'].quantile(0.95)\n",
    "print(f\"Nejdelší započítané spojení: {int(nejdelsi)} minut.\")\n",
    "df = df[df['jizdni_doba'] <= nejdelsi]\n",
    "df['spoj'] = df.apply(lambda row: f\"\"\"{row['prodejce']} {row['den']} {row['odjezd'].hour:02}:{row['odjezd'].minute:02}\"\"\", axis=1)\n",
    "df['obdobi'] = df.apply(lambda row: obdobi(row), axis=1)"
   ]
  },
  {
   "cell_type": "code",
   "execution_count": 178,
   "id": "e77223b4-7efb-4d8f-b91e-a160969238dd",
   "metadata": {},
   "outputs": [],
   "source": [
    "df = df[df['predstih_h'] <= 4]\n",
    "df = df[df['predstih_h'] >= 0]"
   ]
  },
  {
   "cell_type": "code",
   "execution_count": 179,
   "id": "0b0cc89b-8391-4ff0-a50a-9d6c0acbd33a",
   "metadata": {},
   "outputs": [],
   "source": [
    "prgova = df[df['odkud'].str.contains('Pra') & df['kam'].str.contains('Ostra')]"
   ]
  },
  {
   "cell_type": "code",
   "execution_count": 180,
   "id": "a50cdf59-45ce-4b8a-93d6-12bebda576bc",
   "metadata": {},
   "outputs": [],
   "source": [
    "ovaprg = df[df['odkud'].str.contains('Ostra') & df['kam'].str.contains('Pra')]"
   ]
  },
  {
   "cell_type": "code",
   "execution_count": 181,
   "id": "a8ba36ac-3bb5-4f36-9be4-b29c411b9ffb",
   "metadata": {},
   "outputs": [
    {
     "data": {
      "text/plain": [
       "<Axes: xlabel='obdobi'>"
      ]
     },
     "execution_count": 181,
     "metadata": {},
     "output_type": "execute_result"
    },
    {
     "data": {
      "image/png": "[encoded data removed]",
      "text/plain": [
       "<Figure size 640x480 with 1 Axes>"
      ]
     },
     "metadata": {},
     "output_type": "display_data"
    }
   ],
   "source": [
    "prgova.groupby('obdobi')['cena'].median().plot.bar()"
   ]
  },
  {
   "cell_type": "code",
   "execution_count": 182,
   "id": "692fbf95-727c-40a8-ba08-346bdfa78211",
   "metadata": {},
   "outputs": [
    {
     "data": {
      "text/plain": [
       "<Axes: xlabel='obdobi'>"
      ]
     },
     "execution_count": 182,
     "metadata": {},
     "output_type": "execute_result"
    },
    {
     "data": {
      "image/png": "[encoded data removed]",
      "text/plain": [
       "<Figure size 640x480 with 1 Axes>"
      ]
     },
     "metadata": {},
     "output_type": "display_data"
    }
   ],
   "source": [
    "ovaprg.groupby('obdobi')['cena'].median().plot.bar()"
   ]
  },
  {
   "cell_type": "code",
   "execution_count": 183,
   "id": "15caabf3-b740-4aa0-bdf3-4058670c5e0b",
   "metadata": {},
   "outputs": [
    {
     "data": {
      "text/plain": [
       "obdobi\n",
       "4-5    799.0\n",
       "5-3    744.0\n",
       "7-3    744.0\n",
       "7-5    701.5\n",
       "5-2    689.0\n",
       "5-4    644.0\n",
       "5-5    639.0\n",
       "7-4    639.0\n",
       "7-2    619.0\n",
       "5-1    606.5\n",
       "Name: cena, dtype: float64"
      ]
     },
     "execution_count": 183,
     "metadata": {},
     "output_type": "execute_result"
    }
   ],
   "source": [
    "df[df['odkud'].str.contains('Pra')].groupby('obdobi')['cena'].median().nlargest(10)"
   ]
  },
  {
   "cell_type": "code",
   "execution_count": 184,
   "id": "ed250f12-e5ba-4b98-a387-fe0386562e2d",
   "metadata": {},
   "outputs": [
    {
     "data": {
      "text/plain": [
       "obdobi\n",
       "5-2    899.0\n",
       "5-3    769.0\n",
       "7-3    769.0\n",
       "7-4    751.5\n",
       "1-0    669.0\n",
       "7-2    639.0\n",
       "1-2    619.0\n",
       "1-1    579.0\n",
       "6-1    579.0\n",
       "6-2    579.0\n",
       "Name: cena, dtype: float64"
      ]
     },
     "execution_count": 184,
     "metadata": {},
     "output_type": "execute_result"
    }
   ],
   "source": [
    "df[df['odkud'].str.contains('Ostra')].groupby('obdobi')['cena'].median().nlargest(10)"
   ]
  },
  {
   "cell_type": "code",
   "execution_count": 185,
   "id": "edc193c9-d285-44b4-9fc2-1c3176447ace",
   "metadata": {},
   "outputs": [
    {
     "data": {
      "text/plain": [
       "obdobi\n",
       "4-5    799.0\n",
       "5-3    769.0\n",
       "7-3    759.0\n",
       "7-5    701.5\n",
       "5-2    689.0\n",
       "1-0    669.0\n",
       "7-4    654.0\n",
       "5-5    639.0\n",
       "7-2    639.0\n",
       "5-4    619.0\n",
       "Name: cena, dtype: float64"
      ]
     },
     "execution_count": 185,
     "metadata": {},
     "output_type": "execute_result"
    }
   ],
   "source": [
    "df.groupby('obdobi')['cena'].median().nlargest(10)"
   ]
  },
  {
   "cell_type": "code",
   "execution_count": 186,
   "id": "c9710a1b-71d3-4880-aa4c-84dbaffb75fe",
   "metadata": {
    "scrolled": true
   },
   "outputs": [
    {
     "data": {
      "text/plain": [
       "obdobi\n",
       "7-3     2.00\n",
       "5-3     6.50\n",
       "5-2     7.51\n",
       "5-1    10.55\n",
       "7-4    11.00\n",
       "4-3    20.87\n",
       "5-4    21.98\n",
       "7-2    27.08\n",
       "3-2    30.00\n",
       "3-3    30.00\n",
       "4-2    30.00\n",
       "7-5    30.00\n",
       "1-0    30.66\n",
       "4-5    31.00\n",
       "6-2    31.00\n",
       "5-5    31.83\n",
       "3-5    33.00\n",
       "6-1    33.63\n",
       "1-2    34.36\n",
       "2-0    34.81\n",
       "Name: volnych_mist, dtype: float64"
      ]
     },
     "execution_count": 186,
     "metadata": {},
     "output_type": "execute_result"
    }
   ],
   "source": [
    "df[df['prodejce'].isin(['RJ','LE'])].groupby('obdobi')['volnych_mist'].quantile(0.33).nsmallest(20)"
   ]
  },
  {
   "cell_type": "code",
   "execution_count": 187,
   "id": "51f6df3a-dd50-48d4-bd3c-bdbc747caafe",
   "metadata": {},
   "outputs": [
    {
     "data": {
      "text/plain": [
       "obdobi\n",
       "7-3     2.00\n",
       "5-3     6.50\n",
       "5-2     7.51\n",
       "5-1    10.55\n",
       "7-4    11.00\n",
       "4-3    20.87\n",
       "5-4    21.98\n",
       "7-2    27.08\n",
       "3-2    30.00\n",
       "3-3    30.00\n",
       "Name: volnych_mist, dtype: float64"
      ]
     },
     "execution_count": 187,
     "metadata": {},
     "output_type": "execute_result"
    }
   ],
   "source": [
    "df[df['prodejce'].isin(['RJ','LE'])].groupby('obdobi')['volnych_mist'].quantile(0.33).nsmallest(10)"
   ]
  },
  {
   "cell_type": "code",
   "execution_count": 188,
   "id": "73fc53c4-a672-4d0b-ae9c-0d143f0ab657",
   "metadata": {},
   "outputs": [],
   "source": [
    "spicka = df[df['prodejce'].isin(['RJ','LE'])].groupby('obdobi')['volnych_mist'].quantile(0.33).nsmallest(4).index.to_list()"
   ]
  },
  {
   "cell_type": "code",
   "execution_count": 189,
   "id": "db0fe4a1-f6f3-40e5-8204-e61a52d24f01",
   "metadata": {},
   "outputs": [
    {
     "name": "stdout",
     "output_type": "stream",
     "text": [
      "Nejdelší započítané spojení: 216 minut.\n"
     ]
    }
   ],
   "source": [
    "df = pd.read_parquet(os.path.join('data','jizdenky.parquet'))\n",
    "df = df[df['odkud'].str.contains('Ostrava') | df['odkud'].str.contains('Praha')]\n",
    "df = df[df['kam'].str.contains('Ostrava') | df['kam'].str.contains('Praha')]\n",
    "df = df[df['odjezd'] >= '2024-11-08']\n",
    "df = df[df['prostredek'] != 'autobus']\n",
    "df = df[df['prestupy'] == 0]\n",
    "nejdelsi = df['jizdni_doba'].quantile(0.95)\n",
    "print(f\"Nejdelší započítané spojení: {int(nejdelsi)} minut.\")\n",
    "df = df[df['jizdni_doba'] <= nejdelsi]\n",
    "df['spoj'] = df.apply(lambda row: f\"\"\"{row['prodejce']} {row['den']} {row['odjezd'].hour:02}:{row['odjezd'].minute:02}\"\"\", axis=1)\n",
    "df['obdobi'] = df.apply(lambda row: obdobi(row), axis=1)"
   ]
  },
  {
   "cell_type": "markdown",
   "id": "490b633c-fff4-4458-9fb6-1c2a787aee20",
   "metadata": {},
   "source": [
    "\"Pro srovnání: střední cena jízdenky poptávané kdykoliv během týdne do 24 hodin před odjezdem je …\""
   ]
  },
  {
   "cell_type": "code",
   "execution_count": 245,
   "id": "f463081a-067b-4a1a-8e3e-5bf7a4ec413c",
   "metadata": {},
   "outputs": [
    {
     "data": {
      "text/plain": [
       "504.0"
      ]
     },
     "execution_count": 245,
     "metadata": {},
     "output_type": "execute_result"
    }
   ],
   "source": [
    "df[(df['predstih_h'] <= 24) & (df['odjezd'] >= '2024-11-11') & (df['odjezd'] <= '2024-11-24')]['cena'].median()"
   ]
  },
  {
   "cell_type": "code",
   "execution_count": 190,
   "id": "1087b7cf-3141-4e77-b75b-97f32e43d718",
   "metadata": {},
   "outputs": [
    {
     "name": "stderr",
     "output_type": "stream",
     "text": [
      "C:\\Users\\micha\\AppData\\Local\\Temp\\ipykernel_12872\\4213510884.py:1: FutureWarning: The default of observed=False is deprecated and will be changed to True in a future version of pandas. Pass observed=False to retain current behavior or observed=True to adopt the future default and silence this warning.\n",
      "  (df.groupby(['spoj','kam'])['cena'].max() / df.groupby(['spoj','kam'])['cena'].min()).dropna().nlargest(10)\n",
      "C:\\Users\\micha\\AppData\\Local\\Temp\\ipykernel_12872\\4213510884.py:1: FutureWarning: The default of observed=False is deprecated and will be changed to True in a future version of pandas. Pass observed=False to retain current behavior or observed=True to adopt the future default and silence this warning.\n",
      "  (df.groupby(['spoj','kam'])['cena'].max() / df.groupby(['spoj','kam'])['cena'].min()).dropna().nlargest(10)\n"
     ]
    },
    {
     "data": {
      "text/plain": [
       "spoj         kam           \n",
       "LE ne 10:58  Ostrava hl.n.     7.767677\n",
       "             Ostrava-Svinov    7.767677\n",
       "LE čt 13:58  Ostrava hl.n.     5.581006\n",
       "             Ostrava-Svinov    5.413408\n",
       "LE ne 07:58  Ostrava hl.n.     5.040404\n",
       "             Ostrava-Svinov    5.040404\n",
       "LE ne 08:58  Ostrava hl.n.     5.040404\n",
       "             Ostrava-Svinov    5.040404\n",
       "LE po 17:06  Praha hl.n.       5.040404\n",
       "LE po 17:13  Praha hl.n.       5.040404\n",
       "Name: cena, dtype: float64"
      ]
     },
     "execution_count": 190,
     "metadata": {},
     "output_type": "execute_result"
    }
   ],
   "source": [
    "(df.groupby(['spoj','kam'])['cena'].max() / df.groupby(['spoj','kam'])['cena'].min()).dropna().nlargest(10)"
   ]
  },
  {
   "cell_type": "code",
   "execution_count": 191,
   "id": "2b9244be-b904-426c-bdf9-4aca43a442ee",
   "metadata": {},
   "outputs": [],
   "source": [
    "df = df[df['predstih_h'] >= 0]"
   ]
  },
  {
   "cell_type": "code",
   "execution_count": 192,
   "id": "5fee0b04-9e07-4cf8-a2f2-bef88983e0aa",
   "metadata": {},
   "outputs": [],
   "source": [
    "df['predstih_d2'] = df['predstih_h'] / 24"
   ]
  },
  {
   "cell_type": "code",
   "execution_count": 193,
   "id": "008a6b63-3dfe-4a4c-82da-068b99b38a42",
   "metadata": {},
   "outputs": [
    {
     "data": {
      "text/html": [
       "<div>\n",
       "<style scoped>\n",
       "    .dataframe tbody tr th:only-of-type {\n",
       "        vertical-align: middle;\n",
       "    }\n",
       "\n",
       "    .dataframe tbody tr th {\n",
       "        vertical-align: top;\n",
       "    }\n",
       "\n",
       "    .dataframe thead th {\n",
       "        text-align: right;\n",
       "    }\n",
       "</style>\n",
       "<table border=\"1\" class=\"dataframe\">\n",
       "  <thead>\n",
       "    <tr style=\"text-align: right;\">\n",
       "      <th></th>\n",
       "      <th>oscrapovano</th>\n",
       "      <th>prodejce</th>\n",
       "      <th>odkud</th>\n",
       "      <th>kam</th>\n",
       "      <th>odjezd</th>\n",
       "      <th>predstih</th>\n",
       "      <th>predstih_d</th>\n",
       "      <th>predstih_h</th>\n",
       "      <th>cena</th>\n",
       "      <th>prostredek</th>\n",
       "      <th>volnych_mist</th>\n",
       "      <th>obsazenost</th>\n",
       "      <th>jizdni_doba</th>\n",
       "      <th>vzdalenost</th>\n",
       "      <th>zpozdeni</th>\n",
       "      <th>cena_poznamka</th>\n",
       "      <th>den</th>\n",
       "      <th>prestupy</th>\n",
       "      <th>vlaky</th>\n",
       "      <th>mistenka_zdarma</th>\n",
       "      <th>nahradni_bus</th>\n",
       "      <th>volna_mista_economy</th>\n",
       "      <th>volna_mista_economy_plus</th>\n",
       "      <th>volna_mista_economy_business</th>\n",
       "      <th>volna_mista_premium</th>\n",
       "      <th>spoj</th>\n",
       "      <th>obdobi</th>\n",
       "      <th>predstih_d2</th>\n",
       "    </tr>\n",
       "  </thead>\n",
       "  <tbody>\n",
       "    <tr>\n",
       "      <th>634267</th>\n",
       "      <td>2024-11-20 10:20:06</td>\n",
       "      <td>LE</td>\n",
       "      <td>Ostrava-Svinov</td>\n",
       "      <td>Praha hl.n.</td>\n",
       "      <td>2024-11-28 16:04:00</td>\n",
       "      <td>8 days 05:43:54</td>\n",
       "      <td>8</td>\n",
       "      <td>197.731667</td>\n",
       "      <td>559.0</td>\n",
       "      <td>None</td>\n",
       "      <td>36.0</td>\n",
       "      <td>None</td>\n",
       "      <td>204.0</td>\n",
       "      <td>351.0</td>\n",
       "      <td>None</td>\n",
       "      <td>None</td>\n",
       "      <td>čt</td>\n",
       "      <td>0</td>\n",
       "      <td>[LE1260]</td>\n",
       "      <td>None</td>\n",
       "      <td>None</td>\n",
       "      <td>21.0</td>\n",
       "      <td>8.0</td>\n",
       "      <td>7.0</td>\n",
       "      <td>0.0</td>\n",
       "      <td>LE čt 16:04</td>\n",
       "      <td>4-4</td>\n",
       "      <td>8.238819</td>\n",
       "    </tr>\n",
       "    <tr>\n",
       "      <th>239217</th>\n",
       "      <td>2024-11-10 09:53:03</td>\n",
       "      <td>ČD</td>\n",
       "      <td>Ostrava hl.n.</td>\n",
       "      <td>Praha hl.n.</td>\n",
       "      <td>2024-11-21 17:10:00</td>\n",
       "      <td>11 days 07:16:57</td>\n",
       "      <td>11</td>\n",
       "      <td>271.282500</td>\n",
       "      <td>504.0</td>\n",
       "      <td>vlak</td>\n",
       "      <td>NaN</td>\n",
       "      <td>[Předpokládané nízké obsazení]</td>\n",
       "      <td>189.0</td>\n",
       "      <td>356.0</td>\n",
       "      <td>[0]</td>\n",
       "      <td>None</td>\n",
       "      <td>čt</td>\n",
       "      <td>0</td>\n",
       "      <td>[SC 500 Pendolino]</td>\n",
       "      <td>None</td>\n",
       "      <td>None</td>\n",
       "      <td>NaN</td>\n",
       "      <td>NaN</td>\n",
       "      <td>NaN</td>\n",
       "      <td>NaN</td>\n",
       "      <td>ČD čt 17:10</td>\n",
       "      <td>4-4</td>\n",
       "      <td>11.303438</td>\n",
       "    </tr>\n",
       "    <tr>\n",
       "      <th>541269</th>\n",
       "      <td>2024-11-17 23:47:40</td>\n",
       "      <td>ČD</td>\n",
       "      <td>Ostrava hl.n.</td>\n",
       "      <td>Praha hl.n.</td>\n",
       "      <td>2024-11-25 15:10:00</td>\n",
       "      <td>7 days 15:22:20</td>\n",
       "      <td>7</td>\n",
       "      <td>183.372222</td>\n",
       "      <td>504.0</td>\n",
       "      <td>vlak</td>\n",
       "      <td>NaN</td>\n",
       "      <td>[Předpokládané střední obsazení - doporučujeme...</td>\n",
       "      <td>189.0</td>\n",
       "      <td>356.0</td>\n",
       "      <td>[0]</td>\n",
       "      <td>None</td>\n",
       "      <td>po</td>\n",
       "      <td>0</td>\n",
       "      <td>[SC 504 Pendolino]</td>\n",
       "      <td>None</td>\n",
       "      <td>None</td>\n",
       "      <td>NaN</td>\n",
       "      <td>NaN</td>\n",
       "      <td>NaN</td>\n",
       "      <td>NaN</td>\n",
       "      <td>ČD po 15:10</td>\n",
       "      <td>1-3</td>\n",
       "      <td>7.640509</td>\n",
       "    </tr>\n",
       "    <tr>\n",
       "      <th>700366</th>\n",
       "      <td>2024-11-22 00:17:08</td>\n",
       "      <td>LE</td>\n",
       "      <td>Ostrava-Svinov</td>\n",
       "      <td>Praha hl.n.</td>\n",
       "      <td>2024-11-26 09:04:00</td>\n",
       "      <td>4 days 08:46:52</td>\n",
       "      <td>4</td>\n",
       "      <td>104.781111</td>\n",
       "      <td>419.0</td>\n",
       "      <td>None</td>\n",
       "      <td>29.0</td>\n",
       "      <td>None</td>\n",
       "      <td>204.0</td>\n",
       "      <td>351.0</td>\n",
       "      <td>None</td>\n",
       "      <td>None</td>\n",
       "      <td>út</td>\n",
       "      <td>0</td>\n",
       "      <td>[LE412]</td>\n",
       "      <td>None</td>\n",
       "      <td>None</td>\n",
       "      <td>21.0</td>\n",
       "      <td>5.0</td>\n",
       "      <td>2.0</td>\n",
       "      <td>1.0</td>\n",
       "      <td>LE út 09:04</td>\n",
       "      <td>2-2</td>\n",
       "      <td>4.365880</td>\n",
       "    </tr>\n",
       "    <tr>\n",
       "      <th>655351</th>\n",
       "      <td>2024-11-20 21:46:37</td>\n",
       "      <td>ČD</td>\n",
       "      <td>Praha hl.n.</td>\n",
       "      <td>Ostrava hl.n.</td>\n",
       "      <td>2024-11-27 06:00:00</td>\n",
       "      <td>6 days 08:13:23</td>\n",
       "      <td>6</td>\n",
       "      <td>152.223056</td>\n",
       "      <td>504.0</td>\n",
       "      <td>vlak</td>\n",
       "      <td>NaN</td>\n",
       "      <td>[Předpokládané nízké obsazení]</td>\n",
       "      <td>193.0</td>\n",
       "      <td>356.0</td>\n",
       "      <td>[0]</td>\n",
       "      <td>None</td>\n",
       "      <td>st</td>\n",
       "      <td>0</td>\n",
       "      <td>[EC 241 Košičan]</td>\n",
       "      <td>None</td>\n",
       "      <td>None</td>\n",
       "      <td>NaN</td>\n",
       "      <td>NaN</td>\n",
       "      <td>NaN</td>\n",
       "      <td>NaN</td>\n",
       "      <td>ČD st 06:00</td>\n",
       "      <td>3-1</td>\n",
       "      <td>6.342627</td>\n",
       "    </tr>\n",
       "    <tr>\n",
       "      <th>561653</th>\n",
       "      <td>2024-11-18 15:57:35</td>\n",
       "      <td>ČD</td>\n",
       "      <td>Ostrava hl.n.</td>\n",
       "      <td>Praha hl.n.</td>\n",
       "      <td>2024-12-15 19:34:00</td>\n",
       "      <td>27 days 03:36:25</td>\n",
       "      <td>27</td>\n",
       "      <td>651.606944</td>\n",
       "      <td>584.0</td>\n",
       "      <td>vlak</td>\n",
       "      <td>NaN</td>\n",
       "      <td>[Předpokládané vysoké obsazení - doporučujeme ...</td>\n",
       "      <td>193.0</td>\n",
       "      <td>356.0</td>\n",
       "      <td>[0]</td>\n",
       "      <td>None</td>\n",
       "      <td>ne</td>\n",
       "      <td>0</td>\n",
       "      <td>[EC 240 Košičan]</td>\n",
       "      <td>None</td>\n",
       "      <td>None</td>\n",
       "      <td>NaN</td>\n",
       "      <td>NaN</td>\n",
       "      <td>NaN</td>\n",
       "      <td>NaN</td>\n",
       "      <td>ČD ne 19:34</td>\n",
       "      <td>7-4</td>\n",
       "      <td>27.150289</td>\n",
       "    </tr>\n",
       "    <tr>\n",
       "      <th>549125</th>\n",
       "      <td>2024-11-18 08:06:54</td>\n",
       "      <td>RJ</td>\n",
       "      <td>Praha</td>\n",
       "      <td>Ostrava</td>\n",
       "      <td>2024-11-22 21:52:00</td>\n",
       "      <td>4 days 13:45:06</td>\n",
       "      <td>4</td>\n",
       "      <td>109.751667</td>\n",
       "      <td>439.0</td>\n",
       "      <td>vlak</td>\n",
       "      <td>275.0</td>\n",
       "      <td>None</td>\n",
       "      <td>187.0</td>\n",
       "      <td>NaN</td>\n",
       "      <td>None</td>\n",
       "      <td>None</td>\n",
       "      <td>pá</td>\n",
       "      <td>0</td>\n",
       "      <td>None</td>\n",
       "      <td>None</td>\n",
       "      <td>None</td>\n",
       "      <td>NaN</td>\n",
       "      <td>NaN</td>\n",
       "      <td>NaN</td>\n",
       "      <td>NaN</td>\n",
       "      <td>RJ pá 21:52</td>\n",
       "      <td>5-5</td>\n",
       "      <td>4.572986</td>\n",
       "    </tr>\n",
       "    <tr>\n",
       "      <th>503752</th>\n",
       "      <td>2024-11-17 00:15:57</td>\n",
       "      <td>RJ</td>\n",
       "      <td>Ostrava</td>\n",
       "      <td>Praha</td>\n",
       "      <td>2024-11-17 07:53:00</td>\n",
       "      <td>0 days 07:37:03</td>\n",
       "      <td>0</td>\n",
       "      <td>7.617500</td>\n",
       "      <td>439.0</td>\n",
       "      <td>vlak</td>\n",
       "      <td>47.0</td>\n",
       "      <td>None</td>\n",
       "      <td>194.0</td>\n",
       "      <td>NaN</td>\n",
       "      <td>None</td>\n",
       "      <td>None</td>\n",
       "      <td>ne</td>\n",
       "      <td>0</td>\n",
       "      <td>None</td>\n",
       "      <td>None</td>\n",
       "      <td>None</td>\n",
       "      <td>NaN</td>\n",
       "      <td>NaN</td>\n",
       "      <td>NaN</td>\n",
       "      <td>NaN</td>\n",
       "      <td>RJ ne 07:53</td>\n",
       "      <td>7-1</td>\n",
       "      <td>0.317396</td>\n",
       "    </tr>\n",
       "    <tr>\n",
       "      <th>544429</th>\n",
       "      <td>2024-11-18 05:47:44</td>\n",
       "      <td>ČD</td>\n",
       "      <td>Praha hl.n.</td>\n",
       "      <td>Ostrava hl.n.</td>\n",
       "      <td>2024-11-23 12:19:00</td>\n",
       "      <td>5 days 06:31:16</td>\n",
       "      <td>5</td>\n",
       "      <td>126.521111</td>\n",
       "      <td>469.0</td>\n",
       "      <td>vlak</td>\n",
       "      <td>NaN</td>\n",
       "      <td>[Předpokládané střední obsazení - doporučujeme...</td>\n",
       "      <td>209.0</td>\n",
       "      <td>356.0</td>\n",
       "      <td>[0]</td>\n",
       "      <td>None</td>\n",
       "      <td>so</td>\n",
       "      <td>0</td>\n",
       "      <td>[EC 143 Ostravan]</td>\n",
       "      <td>True</td>\n",
       "      <td>None</td>\n",
       "      <td>NaN</td>\n",
       "      <td>NaN</td>\n",
       "      <td>NaN</td>\n",
       "      <td>NaN</td>\n",
       "      <td>ČD so 12:19</td>\n",
       "      <td>6-3</td>\n",
       "      <td>5.271713</td>\n",
       "    </tr>\n",
       "    <tr>\n",
       "      <th>708472</th>\n",
       "      <td>2024-11-22 09:30:18</td>\n",
       "      <td>ČD</td>\n",
       "      <td>Praha hl.n.</td>\n",
       "      <td>Ostrava hl.n.</td>\n",
       "      <td>2024-11-22 16:19:00</td>\n",
       "      <td>0 days 06:48:42</td>\n",
       "      <td>0</td>\n",
       "      <td>6.811667</td>\n",
       "      <td>619.0</td>\n",
       "      <td>vlak</td>\n",
       "      <td>NaN</td>\n",
       "      <td>[Předpokládané střední obsazení - doporučujeme...</td>\n",
       "      <td>212.0</td>\n",
       "      <td>356.0</td>\n",
       "      <td>[0]</td>\n",
       "      <td>None</td>\n",
       "      <td>pá</td>\n",
       "      <td>0</td>\n",
       "      <td>[EC 145 Ostravan]</td>\n",
       "      <td>True</td>\n",
       "      <td>None</td>\n",
       "      <td>NaN</td>\n",
       "      <td>NaN</td>\n",
       "      <td>NaN</td>\n",
       "      <td>NaN</td>\n",
       "      <td>ČD pá 16:19</td>\n",
       "      <td>5-4</td>\n",
       "      <td>0.283819</td>\n",
       "    </tr>\n",
       "  </tbody>\n",
       "</table>\n",
       "</div>"
      ],
      "text/plain": [
       "               oscrapovano prodejce           odkud            kam  \\\n",
       "634267 2024-11-20 10:20:06       LE  Ostrava-Svinov    Praha hl.n.   \n",
       "239217 2024-11-10 09:53:03       ČD   Ostrava hl.n.    Praha hl.n.   \n",
       "541269 2024-11-17 23:47:40       ČD   Ostrava hl.n.    Praha hl.n.   \n",
       "700366 2024-11-22 00:17:08       LE  Ostrava-Svinov    Praha hl.n.   \n",
       "655351 2024-11-20 21:46:37       ČD     Praha hl.n.  Ostrava hl.n.   \n",
       "561653 2024-11-18 15:57:35       ČD   Ostrava hl.n.    Praha hl.n.   \n",
       "549125 2024-11-18 08:06:54       RJ           Praha        Ostrava   \n",
       "503752 2024-11-17 00:15:57       RJ         Ostrava          Praha   \n",
       "544429 2024-11-18 05:47:44       ČD     Praha hl.n.  Ostrava hl.n.   \n",
       "708472 2024-11-22 09:30:18       ČD     Praha hl.n.  Ostrava hl.n.   \n",
       "\n",
       "                    odjezd         predstih  predstih_d  predstih_h   cena  \\\n",
       "634267 2024-11-28 16:04:00  8 days 05:43:54           8  197.731667  559.0   \n",
       "239217 2024-11-21 17:10:00 11 days 07:16:57          11  271.282500  504.0   \n",
       "541269 2024-11-25 15:10:00  7 days 15:22:20           7  183.372222  504.0   \n",
       "700366 2024-11-26 09:04:00  4 days 08:46:52           4  104.781111  419.0   \n",
       "655351 2024-11-27 06:00:00  6 days 08:13:23           6  152.223056  504.0   \n",
       "561653 2024-12-15 19:34:00 27 days 03:36:25          27  651.606944  584.0   \n",
       "549125 2024-11-22 21:52:00  4 days 13:45:06           4  109.751667  439.0   \n",
       "503752 2024-11-17 07:53:00  0 days 07:37:03           0    7.617500  439.0   \n",
       "544429 2024-11-23 12:19:00  5 days 06:31:16           5  126.521111  469.0   \n",
       "708472 2024-11-22 16:19:00  0 days 06:48:42           0    6.811667  619.0   \n",
       "\n",
       "       prostredek  volnych_mist  \\\n",
       "634267       None          36.0   \n",
       "239217       vlak           NaN   \n",
       "541269       vlak           NaN   \n",
       "700366       None          29.0   \n",
       "655351       vlak           NaN   \n",
       "561653       vlak           NaN   \n",
       "549125       vlak         275.0   \n",
       "503752       vlak          47.0   \n",
       "544429       vlak           NaN   \n",
       "708472       vlak           NaN   \n",
       "\n",
       "                                               obsazenost  jizdni_doba  \\\n",
       "634267                                               None        204.0   \n",
       "239217                     [Předpokládané nízké obsazení]        189.0   \n",
       "541269  [Předpokládané střední obsazení - doporučujeme...        189.0   \n",
       "700366                                               None        204.0   \n",
       "655351                     [Předpokládané nízké obsazení]        193.0   \n",
       "561653  [Předpokládané vysoké obsazení - doporučujeme ...        193.0   \n",
       "549125                                               None        187.0   \n",
       "503752                                               None        194.0   \n",
       "544429  [Předpokládané střední obsazení - doporučujeme...        209.0   \n",
       "708472  [Předpokládané střední obsazení - doporučujeme...        212.0   \n",
       "\n",
       "        vzdalenost zpozdeni cena_poznamka den  prestupy               vlaky  \\\n",
       "634267       351.0     None          None  čt         0            [LE1260]   \n",
       "239217       356.0      [0]          None  čt         0  [SC 500 Pendolino]   \n",
       "541269       356.0      [0]          None  po         0  [SC 504 Pendolino]   \n",
       "700366       351.0     None          None  út         0             [LE412]   \n",
       "655351       356.0      [0]          None  st         0    [EC 241 Košičan]   \n",
       "561653       356.0      [0]          None  ne         0    [EC 240 Košičan]   \n",
       "549125         NaN     None          None  pá         0                None   \n",
       "503752         NaN     None          None  ne         0                None   \n",
       "544429       356.0      [0]          None  so         0   [EC 143 Ostravan]   \n",
       "708472       356.0      [0]          None  pá         0   [EC 145 Ostravan]   \n",
       "\n",
       "       mistenka_zdarma nahradni_bus  volna_mista_economy  \\\n",
       "634267            None         None                 21.0   \n",
       "239217            None         None                  NaN   \n",
       "541269            None         None                  NaN   \n",
       "700366            None         None                 21.0   \n",
       "655351            None         None                  NaN   \n",
       "561653            None         None                  NaN   \n",
       "549125            None         None                  NaN   \n",
       "503752            None         None                  NaN   \n",
       "544429            True         None                  NaN   \n",
       "708472            True         None                  NaN   \n",
       "\n",
       "        volna_mista_economy_plus  volna_mista_economy_business  \\\n",
       "634267                       8.0                           7.0   \n",
       "239217                       NaN                           NaN   \n",
       "541269                       NaN                           NaN   \n",
       "700366                       5.0                           2.0   \n",
       "655351                       NaN                           NaN   \n",
       "561653                       NaN                           NaN   \n",
       "549125                       NaN                           NaN   \n",
       "503752                       NaN                           NaN   \n",
       "544429                       NaN                           NaN   \n",
       "708472                       NaN                           NaN   \n",
       "\n",
       "        volna_mista_premium         spoj obdobi  predstih_d2  \n",
       "634267                  0.0  LE čt 16:04    4-4     8.238819  \n",
       "239217                  NaN  ČD čt 17:10    4-4    11.303438  \n",
       "541269                  NaN  ČD po 15:10    1-3     7.640509  \n",
       "700366                  1.0  LE út 09:04    2-2     4.365880  \n",
       "655351                  NaN  ČD st 06:00    3-1     6.342627  \n",
       "561653                  NaN  ČD ne 19:34    7-4    27.150289  \n",
       "549125                  NaN  RJ pá 21:52    5-5     4.572986  \n",
       "503752                  NaN  RJ ne 07:53    7-1     0.317396  \n",
       "544429                  NaN  ČD so 12:19    6-3     5.271713  \n",
       "708472                  NaN  ČD pá 16:19    5-4     0.283819  "
      ]
     },
     "execution_count": 193,
     "metadata": {},
     "output_type": "execute_result"
    }
   ],
   "source": [
    "df.sample(10)"
   ]
  },
  {
   "cell_type": "code",
   "execution_count": 194,
   "id": "b90b5f86-ab55-4d48-86a0-ee0cbd05d97b",
   "metadata": {},
   "outputs": [
    {
     "name": "stderr",
     "output_type": "stream",
     "text": [
      "C:\\Users\\micha\\AppData\\Local\\Temp\\ipykernel_12872\\716896998.py:2: DeprecationWarning: DataFrameGroupBy.apply operated on the grouping columns. This behavior is deprecated, and in a future version of pandas the grouping columns will be excluded from the operation. Either pass `include_groups=False` to exclude the groupings or explicitly select the grouping columns after groupby to silence this warning.\n",
      "  cd2 = cd2.groupby('predstih_d').apply(lambda x: list(zip(x['cena'], x[0])))\n"
     ]
    },
    {
     "data": {
      "text/plain": [
       "predstih_d\n",
       "0     [(369.0, 4), (425.0, 12), (535.0, 29), (569.0,...\n",
       "1     [(369.0, 11), (425.0, 9), (535.0, 24), (569.0,...\n",
       "2     [(369.0, 20), (469.0, 3), (535.0, 32), (569.0,...\n",
       "3     [(369.0, 20), (469.0, 15), (535.0, 16), (569.0...\n",
       "4     [(369.0, 27), (425.0, 1), (469.0, 26), (535.0,...\n",
       "5     [(369.0, 22), (469.0, 20), (535.0, 31), (569.0...\n",
       "6     [(369.0, 24), (469.0, 21), (535.0, 35), (569.0...\n",
       "7     [(289.0, 6), (369.0, 11), (425.0, 1), (469.0, ...\n",
       "8     [(289.0, 4), (369.0, 3), (425.0, 3), (469.0, 4...\n",
       "9     [(289.0, 4), (469.0, 9), (535.0, 5), (569.0, 3...\n",
       "10    [(289.0, 4), (369.0, 1), (425.0, 3), (469.0, 4...\n",
       "11    [(289.0, 6), (425.0, 1), (469.0, 8), (535.0, 8...\n",
       "12    [(289.0, 7), (425.0, 3), (469.0, 5), (535.0, 2...\n",
       "13    [(289.0, 7), (425.0, 3), (469.0, 7), (535.0, 1...\n",
       "14    [(289.0, 7), (425.0, 2), (460.0, 1), (469.0, 6...\n",
       "15    [(289.0, 4), (425.0, 2), (460.0, 2), (469.0, 4...\n",
       "16    [(289.0, 5), (425.0, 3), (460.0, 2), (469.0, 7...\n",
       "17    [(289.0, 3), (425.0, 2), (460.0, 1), (469.0, 2...\n",
       "18    [(289.0, 5), (425.0, 2), (460.0, 2), (469.0, 8...\n",
       "19    [(289.0, 3), (425.0, 2), (469.0, 7), (535.0, 6...\n",
       "20    [(289.0, 6), (425.0, 2), (469.0, 8), (535.0, 6...\n",
       "21    [(289.0, 1), (469.0, 2), (535.0, 4), (569.0, 1...\n",
       "22    [(289.0, 2), (460.0, 1), (469.0, 4), (535.0, 5...\n",
       "23    [(289.0, 2), (460.0, 2), (469.0, 12), (535.0, ...\n",
       "24    [(289.0, 1), (425.0, 1), (460.0, 1), (469.0, 6...\n",
       "25    [(289.0, 4), (369.0, 3), (425.0, 1), (460.0, 4...\n",
       "26    [(289.0, 3), (425.0, 1), (460.0, 1), (469.0, 1...\n",
       "27    [(289.0, 4), (369.0, 1), (425.0, 1), (460.0, 2...\n",
       "28    [(289.0, 3), (369.0, 1), (460.0, 1), (469.0, 7...\n",
       "29    [(469.0, 3), (535.0, 1), (549.0, 5), (569.0, 4...\n",
       "30    [(289.0, 2), (469.0, 5), (549.0, 2), (569.0, 3...\n",
       "31    [(289.0, 3), (369.0, 1), (460.0, 1), (469.0, 8...\n",
       "32    [(549.0, 3), (584.0, 1), (589.0, 1), (619.0, 1...\n",
       "33    [(289.0, 1), (369.0, 1), (460.0, 1), (549.0, 2...\n",
       "34    [(549.0, 3), (569.0, 2), (584.0, 1), (589.0, 1...\n",
       "35    [(549.0, 10), (584.0, 5), (589.0, 2), (619.0, ...\n",
       "37                 [(549.0, 1), (584.0, 2), (589.0, 1)]\n",
       "38    [(289.0, 1), (369.0, 1), (460.0, 1), (549.0, 8...\n",
       "42    [(460.0, 2), (549.0, 8), (584.0, 2), (619.0, 2...\n",
       "43    [(289.0, 1), (369.0, 1), (460.0, 3), (549.0, 9...\n",
       "44    [(469.0, 3), (549.0, 3), (584.0, 1), (619.0, 3...\n",
       "45    [(404.0, 2), (549.0, 7), (584.0, 2), (619.0, 2...\n",
       "46    [(404.0, 1), (549.0, 4), (584.0, 1), (619.0, 1...\n",
       "47    [(289.0, 1), (369.0, 1), (460.0, 1), (469.0, 2...\n",
       "48    [(289.0, 3), (369.0, 2), (460.0, 2), (469.0, 6...\n",
       "49    [(404.0, 2), (549.0, 8), (584.0, 2), (619.0, 2...\n",
       "50    [(289.0, 1), (404.0, 1), (549.0, 6), (584.0, 1...\n",
       "51    [(289.0, 1), (369.0, 1), (404.0, 3), (460.0, 1...\n",
       "52     [(469.0, 2), (549.0, 2), (619.0, 3), (649.0, 1)]\n",
       "53    [(289.0, 1), (369.0, 1), (460.0, 1), (469.0, 3...\n",
       "54    [(369.0, 1), (404.0, 1), (469.0, 3), (549.0, 1...\n",
       "55    [(404.0, 1), (549.0, 4), (584.0, 1), (619.0, 1...\n",
       "56    [(404.0, 1), (549.0, 4), (584.0, 1), (619.0, 1...\n",
       "57    [(289.0, 2), (369.0, 2), (460.0, 2), (469.0, 3...\n",
       "58     [(469.0, 2), (549.0, 2), (619.0, 3), (649.0, 1)]\n",
       "59    [(469.0, 3), (549.0, 5), (584.0, 3), (619.0, 3...\n",
       "60     [(469.0, 2), (549.0, 2), (619.0, 3), (649.0, 1)]\n",
       "dtype: object"
      ]
     },
     "execution_count": 194,
     "metadata": {},
     "output_type": "execute_result"
    }
   ],
   "source": [
    "cd2 = df[df['obdobi'].isin(spicka) & (df['predstih_d'] <= 60) & (df['prodejce'] == \"ČD\")].groupby(['predstih_d','cena']).size().reset_index()\n",
    "cd2 = cd2.groupby('predstih_d').apply(lambda x: list(zip(x['cena'], x[0])))\n",
    "cd2"
   ]
  },
  {
   "cell_type": "code",
   "execution_count": 195,
   "id": "092946b7-4004-48be-81c6-5240ceeddedd",
   "metadata": {},
   "outputs": [],
   "source": [
    "def dopravce(dopr):\n",
    "    if dopr == \"ČD\":\n",
    "        dlouhe = \"České dráhy\"\n",
    "    elif dopr == \"RJ\":\n",
    "        dlouhe = \"RegioJet\"\n",
    "    elif dopr == \"LE\":\n",
    "        dlouhe = \"Leo Express\"\n",
    "    x = df[df['obdobi'].isin(spicka) & (df['predstih_d'] <= 60) & (df['prodejce'] == dopr)].groupby(['predstih_d','cena']).size().reset_index()\n",
    "    x = x[['predstih_d','cena', 0]].values.tolist()\n",
    "    x = pd.Series(x, name=dlouhe)\n",
    "    x.index = x.index.map(lambda x: f\"{x} d\")\n",
    "    return x"
   ]
  },
  {
   "cell_type": "code",
   "execution_count": 196,
   "id": "222b3d1c-ef9c-4e93-aac0-5535127c6232",
   "metadata": {},
   "outputs": [],
   "source": [
    "cd = dopravce(\"ČD\")\n",
    "le = dopravce(\"LE\")\n",
    "rj = dopravce(\"RJ\")"
   ]
  },
  {
   "cell_type": "code",
   "execution_count": 197,
   "id": "4beb9bb6-8a84-4033-814f-8f9170a05abc",
   "metadata": {},
   "outputs": [
    {
     "data": {
      "text/plain": [
       "<Axes: xlabel='predstih_d2', ylabel='cena'>"
      ]
     },
     "execution_count": 197,
     "metadata": {},
     "output_type": "execute_result"
    },
    {
     "data": {
      "image/png": "[encoded data removed]",
      "text/plain": [
       "<Figure size 640x480 with 1 Axes>"
      ]
     },
     "metadata": {},
     "output_type": "display_data"
    }
   ],
   "source": [
    "df[df['obdobi'].isin(spicka) & (df['predstih_d2'] <= 60)][['prodejce','predstih_d2','cena']].plot.scatter(x='predstih_d2', y='cena')"
   ]
  },
  {
   "cell_type": "code",
   "execution_count": 198,
   "id": "64eafabd-5004-4fb0-99fc-9ddc56876c04",
   "metadata": {},
   "outputs": [
    {
     "data": {
      "text/plain": [
       "0 d       [0.0, 369.0, 4.0]\n",
       "1 d      [0.0, 425.0, 12.0]\n",
       "2 d      [0.0, 535.0, 29.0]\n",
       "3 d       [0.0, 569.0, 8.0]\n",
       "4 d      [0.0, 604.0, 64.0]\n",
       "                ...        \n",
       "658 d    [59.0, 649.0, 1.0]\n",
       "659 d    [60.0, 469.0, 2.0]\n",
       "660 d    [60.0, 549.0, 2.0]\n",
       "661 d    [60.0, 619.0, 3.0]\n",
       "662 d    [60.0, 649.0, 1.0]\n",
       "Name: České dráhy, Length: 663, dtype: object"
      ]
     },
     "execution_count": 198,
     "metadata": {},
     "output_type": "execute_result"
    }
   ],
   "source": [
    "cd"
   ]
  },
  {
   "cell_type": "markdown",
   "id": "669acb3e-3dca-4a20-b4a0-17a12d23a38a",
   "metadata": {},
   "source": [
    "Opět strašlivá ad hoc úprava funkce pro generování grafu:"
   ]
  },
  {
   "cell_type": "code",
   "execution_count": 200,
   "id": "2e0d0fe8-5906-4aa8-9836-d27630e45f00",
   "metadata": {},
   "outputs": [],
   "source": [
    "def irozhlas_graf(\n",
    "    carovy=[],\n",
    "    sloupcovy=[],\n",
    "    vodorovny=[],\n",
    "    scatter=[],\n",
    "    procenta=[],\n",
    "    skryte=[],\n",
    "    barvy=[],\n",
    "    histogram=False,\n",
    "    max_procenta=100,\n",
    "    target=\"\",\n",
    "    titulek=\"\",\n",
    "    podtitulek=\"\",\n",
    "    naproti=[],\n",
    "    osay=\" \",\n",
    "    osay2=\" \",\n",
    "    osaymin=None,\n",
    "    osaymax=None,\n",
    "    kredity=[\"zdroj dat a autorstvo\", \"url odkazu\"],\n",
    "    zaokrouhleni=1,\n",
    "    prvni=True,\n",
    "    skladany=False,\n",
    "    naopak=False,\n",
    "    vzhurunohama=False,\n",
    "    skrytnuly=False,\n",
    "):\n",
    "    \"\"\"\n",
    "    Funkce vygeneruje HighCharts graf z pandas Series (jedné nebo více).\n",
    "\n",
    "    iROZHLAS-friendly barvy:\n",
    "    - \"#b2e061\" světle zelená\n",
    "    - \"#7eb0d5\" světle modrá\n",
    "    - \"#fd7f6f\" světle červená\n",
    "    - \"#bd7ebe\" světle fialová\n",
    "    - \"#ffb55a\" oranžová\n",
    "    - \"#ffee65\" žlutá\n",
    "    - \"#beb9db\" levandulová\n",
    "    - \"#fdcce5\" skoro černá\n",
    "    - \"#8bd3c7\" světle tyrkysová\n",
    "    \"\"\"\n",
    "\n",
    "    import os\n",
    "    import pandas as pd\n",
    "    from highcharts_core.chart import Chart\n",
    "    from highcharts_core.options.series.area import LineSeries\n",
    "    from highcharts_core.options.series.bar import ColumnSeries\n",
    "    from highcharts_core.options.series.bar import BarSeries\n",
    "    from highcharts_core.options.series.histogram import HistogramSeries\n",
    "    from highcharts_core.options.series.bubble import BubbleSeries\n",
    "    from highcharts_core.options.plot_options.scatter import ScatterOptions\n",
    "    from highcharts_core.options.plot_options.bubble import BubbleOptions\n",
    "    from highcharts_core.options.series.scatter import ScatterSeries\n",
    "    from highcharts_core.options.legend import Legend\n",
    "    from highcharts_core.options.title import Title\n",
    "    from highcharts_core.options.subtitle import Subtitle\n",
    "    from highcharts_core.options.credits import Credits\n",
    "\n",
    "    nastaveni = {}\n",
    "\n",
    "    if prvni:\n",
    "        zdrojaky = f\"\"\"<script src=\"https://code.highcharts.com/highcharts.js\"></script><script src=\"https://code.highcharts.com/highcharts-more.js\"></script>\n",
    "<script src=\"https://code.highcharts.com/modules/exporting.js\"></script>\n",
    "<script src=\"https://code.highcharts.com/modules/export-data.js\"></script>\n",
    "<script src=\"https://code.highcharts.com/modules/accessibility.js\"></script>\n",
    "<link\n",
    "  rel=\"stylesheet\"\n",
    "  href=\"https://fonts.googleapis.com/css?family=Noticia+Text\"\n",
    "/>\n",
    "<link\n",
    "  href=\"https://fonts.googleapis.com/css2?family=Asap\"\n",
    "  rel=\"stylesheet\"\n",
    "/>\n",
    "<link\n",
    "  href=\"https://fonts.googleapis.com/css2?family=Roboto\"\n",
    "  rel=\"stylesheet\"\n",
    "/>\n",
    "\n",
    "<link\n",
    "  rel=\"stylesheet\"\n",
    "  href=\"https://data.irozhlas.cz/hhighcharts-template/style.css\"\n",
    "/>\n",
    "<link\n",
    "  rel=\"stylesheet\"\n",
    "  href=\"https://data.irozhlas.cz/hhighcharts-template/highcharts-style.css\"\n",
    "/>\n",
    "<style type=\"text/css\">text{{font-family:\"Asap\"!important}}.paragraph{{font-family:\"Noticia text\"!important}}.href{{color:#666;fill:#666}}.highcharts-title{{font-family:\"Noticia text\"!important;font-weight:700!important;text-align:left!important;left:10px!important}}.highcharts-subtitle{{text-align:left!important;font-size:.95rem!important;left:10px!important;font-family:\"Asap\"!important}}.highcharts-data-labels text{{font-size:.85rem!important}}.highcharts-axis-labels text{{font-size:.85rem!important}}text.highcharts-plot-line-label{{font-size:.85rem!important;fill:#666}}text.highcharts-plot-band-label{{font-size:.85rem!important;fill:#666}}text.highcharts-credits{{font-size:.75rem!important}}.highcharts-tooltip span{{font-family:\"Asap\"!important}}.axis-label-on-tick{{fill:#aaa;color:#aaa}}.mock-empty-line{{fill:#fff;color:#fff}}</style>\"\"\"\n",
    "    else:\n",
    "        zdrojaky = \"\"\n",
    "\n",
    "    pred = f\"\"\"{zdrojaky}\n",
    "        <figure id=\"{target}\">\n",
    "        <div id=\"container\"></div>\n",
    "        </figure>\n",
    "        <script>\"\"\"\n",
    "\n",
    "    if len(carovy) > 0:\n",
    "        categories = carovy[0].index.to_list()\n",
    "    if len(sloupcovy) > 0:\n",
    "        categories = sloupcovy[0].index.to_list()\n",
    "    if len(vodorovny) > 0:\n",
    "        categories = vodorovny[0].index.to_list()\n",
    "    if len(scatter) > 0:\n",
    "        categories = scatter[0].index.to_list()\n",
    "\n",
    "    categories = [str(x) for x in categories]\n",
    "    \n",
    "    nastaveni[\"xAxis\"] = {\"categories\": categories, \"min\": 0, \"title\": {\"text\": \"předstih nákupu\"}}\n",
    "    nastaveni[\"yAxis\"] = [\n",
    "        {\n",
    "            \"title\": {\"text\": osay},\n",
    "            \"reversed\": vzhurunohama,\n",
    "            \"max\": osaymax,\n",
    "            \"min\": osaymin,\n",
    "        }\n",
    "    ]\n",
    "\n",
    "    if skladany:\n",
    "        if len(sloupcovy) > 0:\n",
    "            nastaveni[\"plotOptions\"] = {\"column\": {\"stacking\": \"normal\"}}\n",
    "        if len(vodorovny) > 0:\n",
    "            nastaveni[\"plotOptions\"] = {\"bar\": {\"stacking\": \"normal\"}}\n",
    "    if histogram:\n",
    "        nastaveni[\"plotOptions\"] = {\n",
    "            \"column\": {\n",
    "                \"pointPadding\": 0,\n",
    "                \"borderWidth\": 0,\n",
    "                \"groupPadding\": 0,\n",
    "                \"shadow\": False,\n",
    "            }\n",
    "        }\n",
    "\n",
    "    if len(procenta) > 0:\n",
    "        osa_procent = {\n",
    "            \"title\": {\"text\": osay2},\n",
    "            \"max\": max_procenta,\n",
    "            \"min\": 0,\n",
    "            \"labels\": {\"format\": \"{value} %\"},\n",
    "        }\n",
    "\n",
    "        if len(procenta) != len(carovy) + len(sloupcovy):\n",
    "            osa_procent[\"opposite\"] = True\n",
    "            druha_osa = 1\n",
    "            nastaveni[\"yAxis\"].append(osa_procent)\n",
    "            nastaveni[\"alignTicks\"] = False\n",
    "        if len(procenta) == len(carovy) + len(sloupcovy):\n",
    "            nastaveni[\"yAxis\"] = [osa_procent]\n",
    "            druha_osa = 0\n",
    "\n",
    "    if len(naproti) > 0:\n",
    "        druha_osa = 1\n",
    "        druha_osa_y = {\n",
    "            \"title\": {\"text\": osay2},\n",
    "            \"opposite\": True,\n",
    "            \"max\": naproti[0].max(),\n",
    "            \"min\": 0,\n",
    "        }\n",
    "        nastaveni[\"yAxis\"].append(druha_osa_y)\n",
    "\n",
    "    my_chart = Chart(container=target, options=nastaveni)\n",
    "\n",
    "    procenta = [p.name for p in procenta]\n",
    "    naproti = [n.name for n in naproti]\n",
    "    skryte = [s.name for s in skryte]\n",
    "\n",
    "    def vykresleni(serie, typ):\n",
    "        for s in serie:\n",
    "            popisek = s.name\n",
    "\n",
    "            if s.name in skryte:\n",
    "                viditelnost = False\n",
    "            else:\n",
    "                viditelnost = True\n",
    "\n",
    "            ktera_osa = 0\n",
    "            if s.name in naproti:\n",
    "                ktera_osa = druha_osa\n",
    "\n",
    "            if s.name in procenta:\n",
    "                s = [round(x * 100, zaokrouhleni) for x in s.fillna(0).to_list()]\n",
    "                my_chart.add_series(\n",
    "                    typ(\n",
    "                        data=s,\n",
    "                        visible=viditelnost,\n",
    "                        name=popisek,\n",
    "                        y_axis=druha_osa,\n",
    "                        tooltip={\"valueSuffix\": \" %\"},\n",
    "                    )\n",
    "                )\n",
    "\n",
    "            else:\n",
    "                my_chart.add_series(\n",
    "                    typ(\n",
    "                        data=s.fillna(0).to_list(),\n",
    "                        visible=viditelnost,\n",
    "                        name=popisek,\n",
    "                        y_axis=ktera_osa,\n",
    "                        tooltip = {\n",
    "\t\t\t\t'pointFormat': '{point.x}denní předstih: {point.y} Kč, nabídnuto {point.z}×'\n",
    "\t\t\t}\n",
    "                    )\n",
    "                )\n",
    "\n",
    "    if len(sloupcovy) > 0:\n",
    "        vykresleni(sloupcovy, ColumnSeries)\n",
    "    if len(carovy) > 0:\n",
    "        vykresleni(carovy, LineSeries)\n",
    "    if len(vodorovny) > 0:\n",
    "        vykresleni(vodorovny, BarSeries)\n",
    "    if len(scatter) > 0:\n",
    "        vykresleni(scatter, BubbleSeries)\n",
    "\n",
    "    if len(barvy) > 0:\n",
    "        my_chart.options.colors = barvy\n",
    "    else:\n",
    "        my_chart.options.colors = colors = [\n",
    "            \"#b2e061\",  ## světle zelená (light green)\n",
    "            \"#7eb0d5\",  ## světle modrá (light blue)\n",
    "            \"#fd7f6f\",  ## světle červená (light red)\n",
    "            \"#bd7ebe\",  ## světle fialová (light purple)\n",
    "            \"#ffb55a\",  ## oranžová (orange)\n",
    "            \"#ffee65\",  ## žlutá (yellow)\n",
    "            \"#beb9db\",  ## levandulová (lavender)\n",
    "            \"#fdcce5\",  ## skoro černá\n",
    "            \"#8bd3c7\",  ## světle tyrkysová (light turquoise)\n",
    "        ]\n",
    "\n",
    "    if naopak:\n",
    "        my_chart.options.legend = Legend(reversed=True)\n",
    "\n",
    "    my_chart.options.title = Title(text=titulek, align=\"left\", margin=30)\n",
    "\n",
    "    if len(podtitulek) > 0:\n",
    "        my_chart.options.subtitle = Subtitle(text=podtitulek, align=\"left\")\n",
    "\n",
    "    my_chart.options.credits = Credits(text=kredity[0], enabled=True, href=kredity[1])\n",
    "\n",
    "    as_js_literal = my_chart.to_js_literal()\n",
    "\n",
    "    if skrytnuly == True:\n",
    "        as_js_literal = as_js_literal.replace(\"y: 0.0\", \"y: null\")\n",
    "\n",
    "    code = f\"<html><head><title>{titulek}</title></head><body>{pred}{as_js_literal}</script></body></html>\"\n",
    "\n",
    "    if not os.path.exists(\"grafy\"):\n",
    "        os.mkdir(\"grafy\")\n",
    "\n",
    "    with open(os.path.join(\"grafy\", target + \".html\"), \"w+\") as f:\n",
    "        f.write(code)\n",
    "\n",
    "    with open(os.path.join(\"grafy\", target + \".txt\"), \"w+\") as f:\n",
    "        f.write(f\"{pred}{as_js_literal}</script>\")\n",
    "\n",
    "        print(\"Graf uložen.\")"
   ]
  },
  {
   "cell_type": "code",
   "execution_count": 201,
   "id": "c096a292-d6f8-49b8-b6a0-10324c986dff",
   "metadata": {},
   "outputs": [
    {
     "data": {
      "text/plain": [
       "['7-3', '5-3', '5-2', '5-1']"
      ]
     },
     "execution_count": 201,
     "metadata": {},
     "output_type": "execute_result"
    }
   ],
   "source": [
    "spicka"
   ]
  },
  {
   "cell_type": "code",
   "execution_count": 249,
   "id": "94454e4f-2c40-4fa9-9f2b-35444323d1a4",
   "metadata": {},
   "outputs": [
    {
     "name": "stdout",
     "output_type": "stream",
     "text": [
      "Graf uložen.\n"
     ]
    }
   ],
   "source": [
    "irozhlas_graf(scatter=[cd, rj, le], barvy=[\"#526d77\",\"#fabb00\",\"#e68014\"], target='prgova_bubble', titulek='Jízdné Praha &#8596; Ostrava na začátku a konci víkendu', osaymin=0, podtitulek='Nabízené ceny jízdenek na páteční (8.00-16.00) a nedělní (12.00-20.00) špičku', kredity=['Zdroj dat: e-shopy dopravců od 7. 11. do 25. 11. 2024. Vizualizace: iROZHLAS.cz','https://www.irozhlas.cz/zpravy-tag/datova-zurnalistika'])"
   ]
  }
 ],
 "metadata": {
  "kernelspec": {
   "display_name": "Python 3 (ipykernel)",
   "language": "python",
   "name": "python3"
  },
  "language_info": {
   "codemirror_mode": {
    "name": "ipython",
    "version": 3
   },
   "file_extension": ".py",
   "mimetype": "text/x-python",
   "name": "python",
   "nbconvert_exporter": "python",
   "pygments_lexer": "ipython3",
   "version": "3.12.3"
  }
 },
 "nbformat": 4,
 "nbformat_minor": 5
}
