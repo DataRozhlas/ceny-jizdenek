{
 "cells": [
  {
   "cell_type": "code",
   "execution_count": 3,
   "id": "3c781ae2-91da-4a7d-ace5-efad5c20ca9e",
   "metadata": {},
   "outputs": [],
   "source": [
    "import os\n",
    "import pandas as pd\n",
    "pd.set_option('display.max_columns', 100)\n",
    "pd.set_option('display.max_rows', 500)"
   ]
  },
  {
   "cell_type": "code",
   "execution_count": 4,
   "id": "14f18a43-03fc-4160-887b-e28b569c5f38",
   "metadata": {},
   "outputs": [],
   "source": [
    "def obdobi(radek):\n",
    "    return f\"\"\"{radek['odjezd'].dayofweek + 1}-{radek['odjezd'].hour // 4}\"\"\""
   ]
  },
  {
   "cell_type": "code",
   "execution_count": 5,
   "id": "69f1fe8a-9447-4ec4-8b51-6053ee563520",
   "metadata": {},
   "outputs": [
    {
     "name": "stdout",
     "output_type": "stream",
     "text": [
      "Nejdelší započítané spojení: 216 minut.\n"
     ]
    }
   ],
   "source": [
    "df = pd.read_parquet(os.path.join('data','jizdenky.parquet'))\n",
    "df = df[df['odkud'].str.contains('Ostrava') | df['odkud'].str.contains('Praha')]\n",
    "df = df[df['kam'].str.contains('Ostrava') | df['kam'].str.contains('Praha')]\n",
    "df = df[df['odjezd'] >= '2024-11-08']\n",
    "df = df[df['prostredek'] != 'autobus']\n",
    "df = df[df['prestupy'] == 0]\n",
    "nejdelsi = df['jizdni_doba'].quantile(0.95)\n",
    "print(f\"Nejdelší započítané spojení: {int(nejdelsi)} minut.\")\n",
    "df = df[df['jizdni_doba'] <= nejdelsi]\n",
    "df['spoj'] = df.apply(lambda row: f\"\"\"{row['prodejce']} {row['den']} {row['odjezd'].hour:02}:{row['odjezd'].minute:02}\"\"\", axis=1)\n",
    "df['obdobi'] = df.apply(lambda row: obdobi(row), axis=1)"
   ]
  },
  {
   "cell_type": "code",
   "execution_count": 6,
   "id": "e77223b4-7efb-4d8f-b91e-a160969238dd",
   "metadata": {},
   "outputs": [],
   "source": [
    "df = df[df['predstih_h'] <= 4]\n",
    "df = df[df['predstih_h'] >= 0]"
   ]
  },
  {
   "cell_type": "code",
   "execution_count": 7,
   "id": "0b0cc89b-8391-4ff0-a50a-9d6c0acbd33a",
   "metadata": {},
   "outputs": [],
   "source": [
    "prgova = df[df['odkud'].str.contains('Pra') & df['kam'].str.contains('Ostra')]"
   ]
  },
  {
   "cell_type": "code",
   "execution_count": 8,
   "id": "a50cdf59-45ce-4b8a-93d6-12bebda576bc",
   "metadata": {},
   "outputs": [],
   "source": [
    "ovaprg = df[df['odkud'].str.contains('Ostra') & df['kam'].str.contains('Pra')]"
   ]
  },
  {
   "cell_type": "code",
   "execution_count": 9,
   "id": "a8ba36ac-3bb5-4f36-9be4-b29c411b9ffb",
   "metadata": {},
   "outputs": [
    {
     "data": {
      "text/plain": [
       "<Axes: xlabel='obdobi'>"
      ]
     },
     "execution_count": 9,
     "metadata": {},
     "output_type": "execute_result"
    },
    {
     "data": {
      "image/png": "[encoded data removed]",
      "text/plain": [
       "<Figure size 640x480 with 1 Axes>"
      ]
     },
     "metadata": {},
     "output_type": "display_data"
    }
   ],
   "source": [
    "prgova.groupby('obdobi')['cena'].median().plot.bar()"
   ]
  },
  {
   "cell_type": "code",
   "execution_count": 10,
   "id": "692fbf95-727c-40a8-ba08-346bdfa78211",
   "metadata": {},
   "outputs": [
    {
     "data": {
      "text/plain": [
       "<Axes: xlabel='obdobi'>"
      ]
     },
     "execution_count": 10,
     "metadata": {},
     "output_type": "execute_result"
    },
    {
     "data": {
      "image/png": "[encoded data removed]",
      "text/plain": [
       "<Figure size 640x480 with 1 Axes>"
      ]
     },
     "metadata": {},
     "output_type": "display_data"
    }
   ],
   "source": [
    "ovaprg.groupby('obdobi')['cena'].median().plot.bar()"
   ]
  },
  {
   "cell_type": "code",
   "execution_count": 11,
   "id": "faae39f9-d862-41d7-be75-22b344f0c20d",
   "metadata": {},
   "outputs": [
    {
     "data": {
      "text/plain": [
       "obdobi\n",
       "7-3     4.0\n",
       "5-3    17.0\n",
       "5-2    20.0\n",
       "7-4    20.0\n",
       "5-4    23.0\n",
       "4-3    23.5\n",
       "6-1    25.0\n",
       "3-3    31.0\n",
       "7-5    32.0\n",
       "4-5    32.5\n",
       "Name: volnych_mist, dtype: float64"
      ]
     },
     "execution_count": 11,
     "metadata": {},
     "output_type": "execute_result"
    }
   ],
   "source": [
    "df[df['odkud'].str.contains('Pra')].groupby('obdobi')['volnych_mist'].median().nsmallest(10)"
   ]
  },
  {
   "cell_type": "code",
   "execution_count": 12,
   "id": "c06624ab-8431-490c-9e39-c6cf5a984b78",
   "metadata": {},
   "outputs": [
    {
     "data": {
      "text/plain": [
       "obdobi\n",
       "7-3    12.0\n",
       "5-1    14.5\n",
       "7-4    15.0\n",
       "5-3    18.0\n",
       "5-2    19.0\n",
       "3-2    29.0\n",
       "4-2    29.0\n",
       "4-3    29.5\n",
       "7-2    30.0\n",
       "1-0    31.0\n",
       "Name: volnych_mist, dtype: float64"
      ]
     },
     "execution_count": 12,
     "metadata": {},
     "output_type": "execute_result"
    }
   ],
   "source": [
    "df[df['odkud'].str.contains('Ostra')].groupby('obdobi')['volnych_mist'].median().nsmallest(10)"
   ]
  },
  {
   "cell_type": "code",
   "execution_count": 13,
   "id": "15caabf3-b740-4aa0-bdf3-4058670c5e0b",
   "metadata": {},
   "outputs": [
    {
     "data": {
      "text/plain": [
       "obdobi\n",
       "4-5    799.0\n",
       "5-3    744.0\n",
       "7-3    744.0\n",
       "7-5    701.5\n",
       "5-2    689.0\n",
       "5-4    644.0\n",
       "5-5    639.0\n",
       "7-4    639.0\n",
       "7-2    619.0\n",
       "5-1    606.5\n",
       "Name: cena, dtype: float64"
      ]
     },
     "execution_count": 13,
     "metadata": {},
     "output_type": "execute_result"
    }
   ],
   "source": [
    "df[df['odkud'].str.contains('Pra')].groupby('obdobi')['cena'].median().nlargest(10)"
   ]
  },
  {
   "cell_type": "code",
   "execution_count": 14,
   "id": "ed250f12-e5ba-4b98-a387-fe0386562e2d",
   "metadata": {},
   "outputs": [
    {
     "data": {
      "text/plain": [
       "obdobi\n",
       "5-2    899.0\n",
       "5-3    769.0\n",
       "7-3    769.0\n",
       "7-4    751.5\n",
       "1-0    669.0\n",
       "7-2    639.0\n",
       "1-2    589.0\n",
       "6-1    579.0\n",
       "6-2    579.0\n",
       "1-1    570.0\n",
       "Name: cena, dtype: float64"
      ]
     },
     "execution_count": 14,
     "metadata": {},
     "output_type": "execute_result"
    }
   ],
   "source": [
    "df[df['odkud'].str.contains('Ostra')].groupby('obdobi')['cena'].median().nlargest(10)"
   ]
  },
  {
   "cell_type": "code",
   "execution_count": 15,
   "id": "edc193c9-d285-44b4-9fc2-1c3176447ace",
   "metadata": {},
   "outputs": [
    {
     "data": {
      "text/plain": [
       "obdobi\n",
       "4-5    799.0\n",
       "5-3    769.0\n",
       "7-3    759.0\n",
       "7-5    701.5\n",
       "5-2    689.0\n",
       "1-0    669.0\n",
       "7-4    654.0\n",
       "5-5    639.0\n",
       "7-2    639.0\n",
       "5-4    619.0\n",
       "Name: cena, dtype: float64"
      ]
     },
     "execution_count": 15,
     "metadata": {},
     "output_type": "execute_result"
    }
   ],
   "source": [
    "df.groupby('obdobi')['cena'].median().nlargest(10)"
   ]
  },
  {
   "cell_type": "code",
   "execution_count": 16,
   "id": "c9710a1b-71d3-4880-aa4c-84dbaffb75fe",
   "metadata": {
    "scrolled": true
   },
   "outputs": [
    {
     "data": {
      "text/plain": [
       "obdobi\n",
       "7-3     2.00\n",
       "5-3     6.50\n",
       "5-2     7.51\n",
       "5-1    10.55\n",
       "7-4    11.00\n",
       "4-3    20.87\n",
       "5-4    21.98\n",
       "7-2    27.08\n",
       "3-2    30.00\n",
       "3-3    30.00\n",
       "4-2    30.00\n",
       "7-5    30.00\n",
       "1-0    30.32\n",
       "4-5    31.00\n",
       "6-2    31.00\n",
       "5-5    31.83\n",
       "3-5    33.00\n",
       "6-1    33.63\n",
       "1-2    33.76\n",
       "2-0    34.81\n",
       "Name: volnych_mist, dtype: float64"
      ]
     },
     "execution_count": 16,
     "metadata": {},
     "output_type": "execute_result"
    }
   ],
   "source": [
    "df[df['prodejce'].isin(['RJ','LE'])].groupby('obdobi')['volnych_mist'].quantile(0.33).nsmallest(20)"
   ]
  },
  {
   "cell_type": "code",
   "execution_count": 17,
   "id": "51f6df3a-dd50-48d4-bd3c-bdbc747caafe",
   "metadata": {},
   "outputs": [
    {
     "data": {
      "text/plain": [
       "obdobi\n",
       "7-3     2.00\n",
       "5-3     6.50\n",
       "5-2     7.51\n",
       "5-1    10.55\n",
       "7-4    11.00\n",
       "4-3    20.87\n",
       "5-4    21.98\n",
       "7-2    27.08\n",
       "3-2    30.00\n",
       "3-3    30.00\n",
       "Name: volnych_mist, dtype: float64"
      ]
     },
     "execution_count": 17,
     "metadata": {},
     "output_type": "execute_result"
    }
   ],
   "source": [
    "df[df['prodejce'].isin(['RJ','LE'])].groupby('obdobi')['volnych_mist'].quantile(0.33).nsmallest(10)"
   ]
  },
  {
   "cell_type": "code",
   "execution_count": 18,
   "id": "73fc53c4-a672-4d0b-ae9c-0d143f0ab657",
   "metadata": {},
   "outputs": [],
   "source": [
    "spicka = df[df['prodejce'].isin(['RJ','LE'])].groupby('obdobi')['volnych_mist'].quantile(0.33).nsmallest(4).index.to_list()"
   ]
  },
  {
   "cell_type": "code",
   "execution_count": 19,
   "id": "db0fe4a1-f6f3-40e5-8204-e61a52d24f01",
   "metadata": {},
   "outputs": [
    {
     "name": "stdout",
     "output_type": "stream",
     "text": [
      "Nejdelší započítané spojení: 216 minut.\n"
     ]
    }
   ],
   "source": [
    "df = pd.read_parquet(os.path.join('data','jizdenky.parquet'))\n",
    "df = df[df['odkud'].str.contains('Ostrava') | df['odkud'].str.contains('Praha')]\n",
    "df = df[df['kam'].str.contains('Ostrava') | df['kam'].str.contains('Praha')]\n",
    "df = df[df['odjezd'] >= '2024-11-08']\n",
    "df = df[df['prostredek'] != 'autobus']\n",
    "df = df[df['prestupy'] == 0]\n",
    "nejdelsi = df['jizdni_doba'].quantile(0.95)\n",
    "print(f\"Nejdelší započítané spojení: {int(nejdelsi)} minut.\")\n",
    "df = df[df['jizdni_doba'] <= nejdelsi]\n",
    "df['spoj'] = df.apply(lambda row: f\"\"\"{row['prodejce']} {row['den']} {row['odjezd'].hour:02}:{row['odjezd'].minute:02}\"\"\", axis=1)\n",
    "df['obdobi'] = df.apply(lambda row: obdobi(row), axis=1)"
   ]
  },
  {
   "cell_type": "markdown",
   "id": "490b633c-fff4-4458-9fb6-1c2a787aee20",
   "metadata": {},
   "source": [
    "\"Pro srovnání: střední cena jízdenky poptávané kdykoliv během týdne do 24 hodin před odjezdem je …\""
   ]
  },
  {
   "cell_type": "code",
   "execution_count": 21,
   "id": "f463081a-067b-4a1a-8e3e-5bf7a4ec413c",
   "metadata": {},
   "outputs": [
    {
     "data": {
      "text/plain": [
       "504.0"
      ]
     },
     "execution_count": 21,
     "metadata": {},
     "output_type": "execute_result"
    }
   ],
   "source": [
    "df[(df['predstih_h'] <= 24) & (df['odjezd'] >= '2024-11-11') & (df['odjezd'] <= '2024-11-24')]['cena'].median()"
   ]
  },
  {
   "cell_type": "code",
   "execution_count": 22,
   "id": "1087b7cf-3141-4e77-b75b-97f32e43d718",
   "metadata": {},
   "outputs": [
    {
     "name": "stderr",
     "output_type": "stream",
     "text": [
      "C:\\Users\\micha\\AppData\\Local\\Temp\\ipykernel_27568\\4213510884.py:1: FutureWarning: The default of observed=False is deprecated and will be changed to True in a future version of pandas. Pass observed=False to retain current behavior or observed=True to adopt the future default and silence this warning.\n",
      "  (df.groupby(['spoj','kam'])['cena'].max() / df.groupby(['spoj','kam'])['cena'].min()).dropna().nlargest(10)\n",
      "C:\\Users\\micha\\AppData\\Local\\Temp\\ipykernel_27568\\4213510884.py:1: FutureWarning: The default of observed=False is deprecated and will be changed to True in a future version of pandas. Pass observed=False to retain current behavior or observed=True to adopt the future default and silence this warning.\n",
      "  (df.groupby(['spoj','kam'])['cena'].max() / df.groupby(['spoj','kam'])['cena'].min()).dropna().nlargest(10)\n"
     ]
    },
    {
     "data": {
      "text/plain": [
       "spoj         kam           \n",
       "LE ne 10:58  Ostrava hl.n.     7.767677\n",
       "             Ostrava-Svinov    7.767677\n",
       "LE čt 13:58  Ostrava hl.n.     5.581006\n",
       "             Ostrava-Svinov    5.413408\n",
       "LE ne 07:58  Ostrava hl.n.     5.040404\n",
       "             Ostrava-Svinov    5.040404\n",
       "LE ne 08:58  Ostrava hl.n.     5.040404\n",
       "             Ostrava-Svinov    5.040404\n",
       "LE po 17:06  Praha hl.n.       5.040404\n",
       "LE po 17:13  Praha hl.n.       5.040404\n",
       "Name: cena, dtype: float64"
      ]
     },
     "execution_count": 22,
     "metadata": {},
     "output_type": "execute_result"
    }
   ],
   "source": [
    "(df.groupby(['spoj','kam'])['cena'].max() / df.groupby(['spoj','kam'])['cena'].min()).dropna().nlargest(10)"
   ]
  },
  {
   "cell_type": "code",
   "execution_count": 23,
   "id": "2b9244be-b904-426c-bdf9-4aca43a442ee",
   "metadata": {},
   "outputs": [],
   "source": [
    "df = df[df['predstih_h'] >= 0]"
   ]
  },
  {
   "cell_type": "code",
   "execution_count": 24,
   "id": "5fee0b04-9e07-4cf8-a2f2-bef88983e0aa",
   "metadata": {},
   "outputs": [],
   "source": [
    "df['predstih_d2'] = df['predstih_h'] / 24"
   ]
  },
  {
   "cell_type": "code",
   "execution_count": 25,
   "id": "008a6b63-3dfe-4a4c-82da-068b99b38a42",
   "metadata": {},
   "outputs": [
    {
     "data": {
      "text/html": [
       "<div>\n",
       "<style scoped>\n",
       "    .dataframe tbody tr th:only-of-type {\n",
       "        vertical-align: middle;\n",
       "    }\n",
       "\n",
       "    .dataframe tbody tr th {\n",
       "        vertical-align: top;\n",
       "    }\n",
       "\n",
       "    .dataframe thead th {\n",
       "        text-align: right;\n",
       "    }\n",
       "</style>\n",
       "<table border=\"1\" class=\"dataframe\">\n",
       "  <thead>\n",
       "    <tr style=\"text-align: right;\">\n",
       "      <th></th>\n",
       "      <th>oscrapovano</th>\n",
       "      <th>prodejce</th>\n",
       "      <th>odkud</th>\n",
       "      <th>kam</th>\n",
       "      <th>odjezd</th>\n",
       "      <th>predstih</th>\n",
       "      <th>predstih_d</th>\n",
       "      <th>predstih_h</th>\n",
       "      <th>cena</th>\n",
       "      <th>prostredek</th>\n",
       "      <th>volnych_mist</th>\n",
       "      <th>obsazenost</th>\n",
       "      <th>jizdni_doba</th>\n",
       "      <th>vzdalenost</th>\n",
       "      <th>zpozdeni</th>\n",
       "      <th>cena_poznamka</th>\n",
       "      <th>den</th>\n",
       "      <th>prestupy</th>\n",
       "      <th>vlaky</th>\n",
       "      <th>mistenka_zdarma</th>\n",
       "      <th>nahradni_bus</th>\n",
       "      <th>volna_mista_economy</th>\n",
       "      <th>volna_mista_economy_plus</th>\n",
       "      <th>volna_mista_economy_business</th>\n",
       "      <th>volna_mista_premium</th>\n",
       "      <th>spoj</th>\n",
       "      <th>obdobi</th>\n",
       "      <th>predstih_d2</th>\n",
       "    </tr>\n",
       "  </thead>\n",
       "  <tbody>\n",
       "    <tr>\n",
       "      <th>793283</th>\n",
       "      <td>2024-11-24 13:51:40</td>\n",
       "      <td>ČD</td>\n",
       "      <td>Ostrava hl.n.</td>\n",
       "      <td>Praha hl.n.</td>\n",
       "      <td>2024-12-08 08:12:00</td>\n",
       "      <td>13 days 18:20:20</td>\n",
       "      <td>13</td>\n",
       "      <td>330.338889</td>\n",
       "      <td>569.0</td>\n",
       "      <td>vlak</td>\n",
       "      <td>NaN</td>\n",
       "      <td>[Předpokládané střední obsazení - doporučujeme...</td>\n",
       "      <td>202.0</td>\n",
       "      <td>356.0</td>\n",
       "      <td>[0]</td>\n",
       "      <td>None</td>\n",
       "      <td>ne</td>\n",
       "      <td>0</td>\n",
       "      <td>[EC 144 Ostravan]</td>\n",
       "      <td>True</td>\n",
       "      <td>None</td>\n",
       "      <td>NaN</td>\n",
       "      <td>NaN</td>\n",
       "      <td>NaN</td>\n",
       "      <td>NaN</td>\n",
       "      <td>ČD ne 08:12</td>\n",
       "      <td>7-2</td>\n",
       "      <td>13.764120</td>\n",
       "    </tr>\n",
       "    <tr>\n",
       "      <th>694472</th>\n",
       "      <td>2024-11-21 21:47:38</td>\n",
       "      <td>ČD</td>\n",
       "      <td>Praha hl.n.</td>\n",
       "      <td>Ostrava hl.n.</td>\n",
       "      <td>2024-11-30 13:32:00</td>\n",
       "      <td>8 days 15:44:22</td>\n",
       "      <td>8</td>\n",
       "      <td>207.739444</td>\n",
       "      <td>504.0</td>\n",
       "      <td>vlak</td>\n",
       "      <td>NaN</td>\n",
       "      <td>[Předpokládané střední obsazení - doporučujeme...</td>\n",
       "      <td>192.0</td>\n",
       "      <td>356.0</td>\n",
       "      <td>[0]</td>\n",
       "      <td>None</td>\n",
       "      <td>so</td>\n",
       "      <td>0</td>\n",
       "      <td>[SC 507 Pendolino]</td>\n",
       "      <td>None</td>\n",
       "      <td>None</td>\n",
       "      <td>NaN</td>\n",
       "      <td>NaN</td>\n",
       "      <td>NaN</td>\n",
       "      <td>NaN</td>\n",
       "      <td>ČD so 13:32</td>\n",
       "      <td>6-3</td>\n",
       "      <td>8.655810</td>\n",
       "    </tr>\n",
       "    <tr>\n",
       "      <th>486942</th>\n",
       "      <td>2024-11-16 16:18:52</td>\n",
       "      <td>LE</td>\n",
       "      <td>Praha hl.n.</td>\n",
       "      <td>Ostrava-Svinov</td>\n",
       "      <td>2024-11-20 11:00:00</td>\n",
       "      <td>3 days 18:41:08</td>\n",
       "      <td>3</td>\n",
       "      <td>90.685556</td>\n",
       "      <td>299.0</td>\n",
       "      <td>None</td>\n",
       "      <td>51.0</td>\n",
       "      <td>None</td>\n",
       "      <td>204.0</td>\n",
       "      <td>351.0</td>\n",
       "      <td>None</td>\n",
       "      <td>None</td>\n",
       "      <td>st</td>\n",
       "      <td>0</td>\n",
       "      <td>[LE1257]</td>\n",
       "      <td>None</td>\n",
       "      <td>None</td>\n",
       "      <td>21.0</td>\n",
       "      <td>18.0</td>\n",
       "      <td>11.0</td>\n",
       "      <td>1.0</td>\n",
       "      <td>LE st 11:00</td>\n",
       "      <td>3-2</td>\n",
       "      <td>3.778565</td>\n",
       "    </tr>\n",
       "    <tr>\n",
       "      <th>794919</th>\n",
       "      <td>2024-11-24 14:14:13</td>\n",
       "      <td>RJ</td>\n",
       "      <td>Praha</td>\n",
       "      <td>Ostrava</td>\n",
       "      <td>2024-11-25 13:50:00</td>\n",
       "      <td>0 days 23:35:47</td>\n",
       "      <td>0</td>\n",
       "      <td>23.596389</td>\n",
       "      <td>319.0</td>\n",
       "      <td>vlak</td>\n",
       "      <td>177.0</td>\n",
       "      <td>None</td>\n",
       "      <td>191.0</td>\n",
       "      <td>NaN</td>\n",
       "      <td>None</td>\n",
       "      <td>None</td>\n",
       "      <td>po</td>\n",
       "      <td>0</td>\n",
       "      <td>None</td>\n",
       "      <td>None</td>\n",
       "      <td>None</td>\n",
       "      <td>NaN</td>\n",
       "      <td>NaN</td>\n",
       "      <td>NaN</td>\n",
       "      <td>NaN</td>\n",
       "      <td>RJ po 13:50</td>\n",
       "      <td>1-3</td>\n",
       "      <td>0.983183</td>\n",
       "    </tr>\n",
       "    <tr>\n",
       "      <th>437456</th>\n",
       "      <td>2024-11-15 11:39:28</td>\n",
       "      <td>ČD</td>\n",
       "      <td>Ostrava hl.n.</td>\n",
       "      <td>Praha hl.n.</td>\n",
       "      <td>2024-11-18 05:10:00</td>\n",
       "      <td>2 days 17:30:32</td>\n",
       "      <td>2</td>\n",
       "      <td>65.508889</td>\n",
       "      <td>719.0</td>\n",
       "      <td>vlak</td>\n",
       "      <td>NaN</td>\n",
       "      <td>[Předpokládané vysoké obsazení - doporučujeme ...</td>\n",
       "      <td>189.0</td>\n",
       "      <td>356.0</td>\n",
       "      <td>[0]</td>\n",
       "      <td>None</td>\n",
       "      <td>po</td>\n",
       "      <td>0</td>\n",
       "      <td>[SC 516 Pendolino]</td>\n",
       "      <td>None</td>\n",
       "      <td>None</td>\n",
       "      <td>NaN</td>\n",
       "      <td>NaN</td>\n",
       "      <td>NaN</td>\n",
       "      <td>NaN</td>\n",
       "      <td>ČD po 05:10</td>\n",
       "      <td>1-1</td>\n",
       "      <td>2.729537</td>\n",
       "    </tr>\n",
       "    <tr>\n",
       "      <th>290953</th>\n",
       "      <td>2024-11-11 18:40:56</td>\n",
       "      <td>ČD</td>\n",
       "      <td>Ostrava hl.n.</td>\n",
       "      <td>Praha hl.n.</td>\n",
       "      <td>2024-11-16 06:02:00</td>\n",
       "      <td>4 days 11:21:04</td>\n",
       "      <td>4</td>\n",
       "      <td>107.351111</td>\n",
       "      <td>469.0</td>\n",
       "      <td>vlak</td>\n",
       "      <td>NaN</td>\n",
       "      <td>[Předpokládané střední obsazení - doporučujeme...</td>\n",
       "      <td>212.0</td>\n",
       "      <td>356.0</td>\n",
       "      <td>[0]</td>\n",
       "      <td>None</td>\n",
       "      <td>so</td>\n",
       "      <td>0</td>\n",
       "      <td>[IC 546 Ostravan]</td>\n",
       "      <td>True</td>\n",
       "      <td>None</td>\n",
       "      <td>NaN</td>\n",
       "      <td>NaN</td>\n",
       "      <td>NaN</td>\n",
       "      <td>NaN</td>\n",
       "      <td>ČD so 06:02</td>\n",
       "      <td>6-1</td>\n",
       "      <td>4.472963</td>\n",
       "    </tr>\n",
       "    <tr>\n",
       "      <th>428901</th>\n",
       "      <td>2024-11-15 06:25:05</td>\n",
       "      <td>LE</td>\n",
       "      <td>Ostrava-Svinov</td>\n",
       "      <td>Praha hl.n.</td>\n",
       "      <td>2025-01-06 15:05:00</td>\n",
       "      <td>52 days 08:39:55</td>\n",
       "      <td>52</td>\n",
       "      <td>1256.665278</td>\n",
       "      <td>199.0</td>\n",
       "      <td>None</td>\n",
       "      <td>67.0</td>\n",
       "      <td>None</td>\n",
       "      <td>202.0</td>\n",
       "      <td>351.0</td>\n",
       "      <td>None</td>\n",
       "      <td>None</td>\n",
       "      <td>po</td>\n",
       "      <td>0</td>\n",
       "      <td>[LE1260]</td>\n",
       "      <td>None</td>\n",
       "      <td>None</td>\n",
       "      <td>21.0</td>\n",
       "      <td>21.0</td>\n",
       "      <td>19.0</td>\n",
       "      <td>6.0</td>\n",
       "      <td>LE po 15:05</td>\n",
       "      <td>1-3</td>\n",
       "      <td>52.361053</td>\n",
       "    </tr>\n",
       "    <tr>\n",
       "      <th>151333</th>\n",
       "      <td>2024-11-08 11:40:16</td>\n",
       "      <td>ČD</td>\n",
       "      <td>Praha hl.n.</td>\n",
       "      <td>Ostrava hl.n.</td>\n",
       "      <td>2024-11-13 15:32:00</td>\n",
       "      <td>5 days 03:51:44</td>\n",
       "      <td>5</td>\n",
       "      <td>123.862222</td>\n",
       "      <td>504.0</td>\n",
       "      <td>vlak</td>\n",
       "      <td>NaN</td>\n",
       "      <td>[Předpokládané nízké obsazení]</td>\n",
       "      <td>192.0</td>\n",
       "      <td>356.0</td>\n",
       "      <td>[0]</td>\n",
       "      <td>None</td>\n",
       "      <td>st</td>\n",
       "      <td>0</td>\n",
       "      <td>[IC 511 Ostravan]</td>\n",
       "      <td>None</td>\n",
       "      <td>None</td>\n",
       "      <td>NaN</td>\n",
       "      <td>NaN</td>\n",
       "      <td>NaN</td>\n",
       "      <td>NaN</td>\n",
       "      <td>ČD st 15:32</td>\n",
       "      <td>3-3</td>\n",
       "      <td>5.160926</td>\n",
       "    </tr>\n",
       "    <tr>\n",
       "      <th>635204</th>\n",
       "      <td>2024-11-20 11:37:01</td>\n",
       "      <td>ČD</td>\n",
       "      <td>Praha hl.n.</td>\n",
       "      <td>Ostrava hl.n.</td>\n",
       "      <td>2024-11-23 09:32:00</td>\n",
       "      <td>2 days 21:54:59</td>\n",
       "      <td>2</td>\n",
       "      <td>69.916389</td>\n",
       "      <td>605.0</td>\n",
       "      <td>vlak</td>\n",
       "      <td>NaN</td>\n",
       "      <td>[Předpokládané střední obsazení - doporučujeme...</td>\n",
       "      <td>192.0</td>\n",
       "      <td>356.0</td>\n",
       "      <td>[0]</td>\n",
       "      <td>None</td>\n",
       "      <td>so</td>\n",
       "      <td>0</td>\n",
       "      <td>[SC 503 Pendolino]</td>\n",
       "      <td>None</td>\n",
       "      <td>None</td>\n",
       "      <td>NaN</td>\n",
       "      <td>NaN</td>\n",
       "      <td>NaN</td>\n",
       "      <td>NaN</td>\n",
       "      <td>ČD so 09:32</td>\n",
       "      <td>6-2</td>\n",
       "      <td>2.913183</td>\n",
       "    </tr>\n",
       "    <tr>\n",
       "      <th>817355</th>\n",
       "      <td>2024-11-25 05:19:48</td>\n",
       "      <td>RJ</td>\n",
       "      <td>Ostrava</td>\n",
       "      <td>Praha</td>\n",
       "      <td>2024-11-25 12:53:00</td>\n",
       "      <td>0 days 07:33:12</td>\n",
       "      <td>0</td>\n",
       "      <td>7.553333</td>\n",
       "      <td>369.0</td>\n",
       "      <td>vlak</td>\n",
       "      <td>79.0</td>\n",
       "      <td>None</td>\n",
       "      <td>194.0</td>\n",
       "      <td>NaN</td>\n",
       "      <td>None</td>\n",
       "      <td>None</td>\n",
       "      <td>po</td>\n",
       "      <td>0</td>\n",
       "      <td>None</td>\n",
       "      <td>None</td>\n",
       "      <td>None</td>\n",
       "      <td>NaN</td>\n",
       "      <td>NaN</td>\n",
       "      <td>NaN</td>\n",
       "      <td>NaN</td>\n",
       "      <td>RJ po 12:53</td>\n",
       "      <td>1-3</td>\n",
       "      <td>0.314722</td>\n",
       "    </tr>\n",
       "  </tbody>\n",
       "</table>\n",
       "</div>"
      ],
      "text/plain": [
       "               oscrapovano prodejce           odkud             kam  \\\n",
       "793283 2024-11-24 13:51:40       ČD   Ostrava hl.n.     Praha hl.n.   \n",
       "694472 2024-11-21 21:47:38       ČD     Praha hl.n.   Ostrava hl.n.   \n",
       "486942 2024-11-16 16:18:52       LE     Praha hl.n.  Ostrava-Svinov   \n",
       "794919 2024-11-24 14:14:13       RJ           Praha         Ostrava   \n",
       "437456 2024-11-15 11:39:28       ČD   Ostrava hl.n.     Praha hl.n.   \n",
       "290953 2024-11-11 18:40:56       ČD   Ostrava hl.n.     Praha hl.n.   \n",
       "428901 2024-11-15 06:25:05       LE  Ostrava-Svinov     Praha hl.n.   \n",
       "151333 2024-11-08 11:40:16       ČD     Praha hl.n.   Ostrava hl.n.   \n",
       "635204 2024-11-20 11:37:01       ČD     Praha hl.n.   Ostrava hl.n.   \n",
       "817355 2024-11-25 05:19:48       RJ         Ostrava           Praha   \n",
       "\n",
       "                    odjezd         predstih  predstih_d   predstih_h   cena  \\\n",
       "793283 2024-12-08 08:12:00 13 days 18:20:20          13   330.338889  569.0   \n",
       "694472 2024-11-30 13:32:00  8 days 15:44:22           8   207.739444  504.0   \n",
       "486942 2024-11-20 11:00:00  3 days 18:41:08           3    90.685556  299.0   \n",
       "794919 2024-11-25 13:50:00  0 days 23:35:47           0    23.596389  319.0   \n",
       "437456 2024-11-18 05:10:00  2 days 17:30:32           2    65.508889  719.0   \n",
       "290953 2024-11-16 06:02:00  4 days 11:21:04           4   107.351111  469.0   \n",
       "428901 2025-01-06 15:05:00 52 days 08:39:55          52  1256.665278  199.0   \n",
       "151333 2024-11-13 15:32:00  5 days 03:51:44           5   123.862222  504.0   \n",
       "635204 2024-11-23 09:32:00  2 days 21:54:59           2    69.916389  605.0   \n",
       "817355 2024-11-25 12:53:00  0 days 07:33:12           0     7.553333  369.0   \n",
       "\n",
       "       prostredek  volnych_mist  \\\n",
       "793283       vlak           NaN   \n",
       "694472       vlak           NaN   \n",
       "486942       None          51.0   \n",
       "794919       vlak         177.0   \n",
       "437456       vlak           NaN   \n",
       "290953       vlak           NaN   \n",
       "428901       None          67.0   \n",
       "151333       vlak           NaN   \n",
       "635204       vlak           NaN   \n",
       "817355       vlak          79.0   \n",
       "\n",
       "                                               obsazenost  jizdni_doba  \\\n",
       "793283  [Předpokládané střední obsazení - doporučujeme...        202.0   \n",
       "694472  [Předpokládané střední obsazení - doporučujeme...        192.0   \n",
       "486942                                               None        204.0   \n",
       "794919                                               None        191.0   \n",
       "437456  [Předpokládané vysoké obsazení - doporučujeme ...        189.0   \n",
       "290953  [Předpokládané střední obsazení - doporučujeme...        212.0   \n",
       "428901                                               None        202.0   \n",
       "151333                     [Předpokládané nízké obsazení]        192.0   \n",
       "635204  [Předpokládané střední obsazení - doporučujeme...        192.0   \n",
       "817355                                               None        194.0   \n",
       "\n",
       "        vzdalenost zpozdeni cena_poznamka den  prestupy               vlaky  \\\n",
       "793283       356.0      [0]          None  ne         0   [EC 144 Ostravan]   \n",
       "694472       356.0      [0]          None  so         0  [SC 507 Pendolino]   \n",
       "486942       351.0     None          None  st         0            [LE1257]   \n",
       "794919         NaN     None          None  po         0                None   \n",
       "437456       356.0      [0]          None  po         0  [SC 516 Pendolino]   \n",
       "290953       356.0      [0]          None  so         0   [IC 546 Ostravan]   \n",
       "428901       351.0     None          None  po         0            [LE1260]   \n",
       "151333       356.0      [0]          None  st         0   [IC 511 Ostravan]   \n",
       "635204       356.0      [0]          None  so         0  [SC 503 Pendolino]   \n",
       "817355         NaN     None          None  po         0                None   \n",
       "\n",
       "       mistenka_zdarma nahradni_bus  volna_mista_economy  \\\n",
       "793283            True         None                  NaN   \n",
       "694472            None         None                  NaN   \n",
       "486942            None         None                 21.0   \n",
       "794919            None         None                  NaN   \n",
       "437456            None         None                  NaN   \n",
       "290953            True         None                  NaN   \n",
       "428901            None         None                 21.0   \n",
       "151333            None         None                  NaN   \n",
       "635204            None         None                  NaN   \n",
       "817355            None         None                  NaN   \n",
       "\n",
       "        volna_mista_economy_plus  volna_mista_economy_business  \\\n",
       "793283                       NaN                           NaN   \n",
       "694472                       NaN                           NaN   \n",
       "486942                      18.0                          11.0   \n",
       "794919                       NaN                           NaN   \n",
       "437456                       NaN                           NaN   \n",
       "290953                       NaN                           NaN   \n",
       "428901                      21.0                          19.0   \n",
       "151333                       NaN                           NaN   \n",
       "635204                       NaN                           NaN   \n",
       "817355                       NaN                           NaN   \n",
       "\n",
       "        volna_mista_premium         spoj obdobi  predstih_d2  \n",
       "793283                  NaN  ČD ne 08:12    7-2    13.764120  \n",
       "694472                  NaN  ČD so 13:32    6-3     8.655810  \n",
       "486942                  1.0  LE st 11:00    3-2     3.778565  \n",
       "794919                  NaN  RJ po 13:50    1-3     0.983183  \n",
       "437456                  NaN  ČD po 05:10    1-1     2.729537  \n",
       "290953                  NaN  ČD so 06:02    6-1     4.472963  \n",
       "428901                  6.0  LE po 15:05    1-3    52.361053  \n",
       "151333                  NaN  ČD st 15:32    3-3     5.160926  \n",
       "635204                  NaN  ČD so 09:32    6-2     2.913183  \n",
       "817355                  NaN  RJ po 12:53    1-3     0.314722  "
      ]
     },
     "execution_count": 25,
     "metadata": {},
     "output_type": "execute_result"
    }
   ],
   "source": [
    "df.sample(10)"
   ]
  },
  {
   "cell_type": "code",
   "execution_count": 69,
   "id": "092946b7-4004-48be-81c6-5240ceeddedd",
   "metadata": {},
   "outputs": [],
   "source": [
    "def dopravce(dopr):\n",
    "    if dopr == \"ČD\":\n",
    "        dlouhe = \"České dráhy\"\n",
    "    elif dopr == \"RJ\":\n",
    "        dlouhe = \"RegioJet\"\n",
    "    elif dopr == \"LE\":\n",
    "        dlouhe = \"Leo Express\"\n",
    "    x = df[df['obdobi'].isin(spicka) & (df['predstih_d'] <= 60) & (df['prodejce'] == dopr)].groupby(['predstih_d','cena']).size().reset_index()\n",
    "    x = x[['predstih_d','cena', 0]].values.tolist()\n",
    "    x = pd.Series(x, name=dlouhe)\n",
    "    x.index = x.index.map(lambda x: f\"{x} d\")\n",
    "    return x"
   ]
  },
  {
   "cell_type": "code",
   "execution_count": 71,
   "id": "222b3d1c-ef9c-4e93-aac0-5535127c6232",
   "metadata": {},
   "outputs": [],
   "source": [
    "cd = dopravce(\"ČD\")\n",
    "le = dopravce(\"LE\")\n",
    "rj = dopravce(\"RJ\")"
   ]
  },
  {
   "cell_type": "code",
   "execution_count": 28,
   "id": "4beb9bb6-8a84-4033-814f-8f9170a05abc",
   "metadata": {},
   "outputs": [
    {
     "data": {
      "text/plain": [
       "<Axes: xlabel='predstih_d2', ylabel='cena'>"
      ]
     },
     "execution_count": 28,
     "metadata": {},
     "output_type": "execute_result"
    },
    {
     "data": {
      "image/png": "[encoded data removed]",
      "text/plain": [
       "<Figure size 640x480 with 1 Axes>"
      ]
     },
     "metadata": {},
     "output_type": "display_data"
    }
   ],
   "source": [
    "df[df['obdobi'].isin(spicka) & (df['predstih_d2'] <= 60)][['prodejce','predstih_d2','cena']].plot.scatter(x='predstih_d2', y='cena')"
   ]
  },
  {
   "cell_type": "code",
   "execution_count": 29,
   "id": "64eafabd-5004-4fb0-99fc-9ddc56876c04",
   "metadata": {},
   "outputs": [
    {
     "data": {
      "text/plain": [
       "0 d       [0.0, 369.0, 4.0]\n",
       "1 d      [0.0, 425.0, 12.0]\n",
       "2 d      [0.0, 535.0, 29.0]\n",
       "3 d       [0.0, 569.0, 8.0]\n",
       "4 d      [0.0, 604.0, 64.0]\n",
       "                ...        \n",
       "506 d    [30.0, 609.0, 1.0]\n",
       "507 d    [30.0, 619.0, 1.0]\n",
       "508 d    [30.0, 639.0, 2.0]\n",
       "509 d    [30.0, 649.0, 2.0]\n",
       "510 d    [30.0, 659.0, 1.0]\n",
       "Name: České dráhy, Length: 511, dtype: object"
      ]
     },
     "execution_count": 29,
     "metadata": {},
     "output_type": "execute_result"
    }
   ],
   "source": [
    "cd"
   ]
  },
  {
   "cell_type": "markdown",
   "id": "669acb3e-3dca-4a20-b4a0-17a12d23a38a",
   "metadata": {},
   "source": [
    "Strašlivá ad hoc úprava funkce pro generování grafu:"
   ]
  },
  {
   "cell_type": "code",
   "execution_count": 31,
   "id": "2e0d0fe8-5906-4aa8-9836-d27630e45f00",
   "metadata": {},
   "outputs": [],
   "source": [
    "def irozhlas_graf(\n",
    "    carovy=[],\n",
    "    sloupcovy=[],\n",
    "    vodorovny=[],\n",
    "    scatter=[],\n",
    "    procenta=[],\n",
    "    skryte=[],\n",
    "    barvy=[],\n",
    "    histogram=False,\n",
    "    max_procenta=100,\n",
    "    target=\"\",\n",
    "    titulek=\"\",\n",
    "    podtitulek=\"\",\n",
    "    naproti=[],\n",
    "    osay=\" \",\n",
    "    osay2=\" \",\n",
    "    osaymin=None,\n",
    "    osaymax=None,\n",
    "    kredity=[\"zdroj dat a autorstvo\", \"url odkazu\"],\n",
    "    zaokrouhleni=1,\n",
    "    prvni=True,\n",
    "    skladany=False,\n",
    "    naopak=False,\n",
    "    vzhurunohama=False,\n",
    "    skrytnuly=False,\n",
    "):\n",
    "    \"\"\"\n",
    "    Funkce vygeneruje HighCharts graf z pandas Series (jedné nebo více).\n",
    "\n",
    "    iROZHLAS-friendly barvy:\n",
    "    - \"#b2e061\" světle zelená\n",
    "    - \"#7eb0d5\" světle modrá\n",
    "    - \"#fd7f6f\" světle červená\n",
    "    - \"#bd7ebe\" světle fialová\n",
    "    - \"#ffb55a\" oranžová\n",
    "    - \"#ffee65\" žlutá\n",
    "    - \"#beb9db\" levandulová\n",
    "    - \"#fdcce5\" skoro černá\n",
    "    - \"#8bd3c7\" světle tyrkysová\n",
    "    \"\"\"\n",
    "\n",
    "    import os\n",
    "    import pandas as pd\n",
    "    from highcharts_core.chart import Chart\n",
    "    from highcharts_core.options.series.area import LineSeries\n",
    "    from highcharts_core.options.series.bar import ColumnSeries\n",
    "    from highcharts_core.options.series.bar import BarSeries\n",
    "    from highcharts_core.options.series.histogram import HistogramSeries\n",
    "    from highcharts_core.options.series.bubble import BubbleSeries\n",
    "    from highcharts_core.options.plot_options.scatter import ScatterOptions\n",
    "    from highcharts_core.options.plot_options.bubble import BubbleOptions\n",
    "    from highcharts_core.options.series.scatter import ScatterSeries\n",
    "    from highcharts_core.options.legend import Legend\n",
    "    from highcharts_core.options.title import Title\n",
    "    from highcharts_core.options.subtitle import Subtitle\n",
    "    from highcharts_core.options.credits import Credits\n",
    "\n",
    "    nastaveni = {}\n",
    "\n",
    "    if prvni:\n",
    "        zdrojaky = f\"\"\"<script src=\"https://code.highcharts.com/highcharts.js\"></script><script src=\"https://code.highcharts.com/highcharts-more.js\"></script>\n",
    "<script src=\"https://code.highcharts.com/modules/exporting.js\"></script>\n",
    "<script src=\"https://code.highcharts.com/modules/export-data.js\"></script>\n",
    "<script src=\"https://code.highcharts.com/modules/accessibility.js\"></script>\n",
    "<link\n",
    "  rel=\"stylesheet\"\n",
    "  href=\"https://fonts.googleapis.com/css?family=Noticia+Text\"\n",
    "/>\n",
    "<link\n",
    "  href=\"https://fonts.googleapis.com/css2?family=Asap\"\n",
    "  rel=\"stylesheet\"\n",
    "/>\n",
    "<link\n",
    "  href=\"https://fonts.googleapis.com/css2?family=Roboto\"\n",
    "  rel=\"stylesheet\"\n",
    "/>\n",
    "\n",
    "<link\n",
    "  rel=\"stylesheet\"\n",
    "  href=\"https://data.irozhlas.cz/hhighcharts-template/style.css\"\n",
    "/>\n",
    "<link\n",
    "  rel=\"stylesheet\"\n",
    "  href=\"https://data.irozhlas.cz/hhighcharts-template/highcharts-style.css\"\n",
    "/>\n",
    "<style type=\"text/css\">text{{font-family:\"Asap\"!important}}.paragraph{{font-family:\"Noticia text\"!important}}.href{{color:#666;fill:#666}}.highcharts-title{{font-family:\"Noticia text\"!important;font-weight:700!important;text-align:left!important;left:10px!important}}.highcharts-subtitle{{text-align:left!important;font-size:.95rem!important;left:10px!important;font-family:\"Asap\"!important}}.highcharts-data-labels text{{font-size:.85rem!important}}.highcharts-axis-labels text{{font-size:.85rem!important}}text.highcharts-plot-line-label{{font-size:.85rem!important;fill:#666}}text.highcharts-plot-band-label{{font-size:.85rem!important;fill:#666}}text.highcharts-credits{{font-size:.75rem!important}}.highcharts-tooltip span{{font-family:\"Asap\"!important}}.axis-label-on-tick{{fill:#aaa;color:#aaa}}.mock-empty-line{{fill:#fff;color:#fff}}</style>\"\"\"\n",
    "    else:\n",
    "        zdrojaky = \"\"\n",
    "\n",
    "    pred = f\"\"\"{zdrojaky}\n",
    "        <figure id=\"{target}\">\n",
    "        <div id=\"container\"></div>\n",
    "        </figure>\n",
    "        <script>\"\"\"\n",
    "\n",
    "    if len(carovy) > 0:\n",
    "        categories = carovy[0].index.to_list()\n",
    "    if len(sloupcovy) > 0:\n",
    "        categories = sloupcovy[0].index.to_list()\n",
    "    if len(vodorovny) > 0:\n",
    "        categories = vodorovny[0].index.to_list()\n",
    "    if len(scatter) > 0:\n",
    "        categories = scatter[0].index.to_list()\n",
    "\n",
    "    categories = [str(x) for x in categories]\n",
    "    \n",
    "    nastaveni[\"xAxis\"] = {\"categories\": categories, \"min\": 0, \"title\": {\"text\": \"předstih nákupu\"}}\n",
    "    nastaveni[\"yAxis\"] = [\n",
    "        {\n",
    "            \"title\": {\"text\": osay},\n",
    "            \"reversed\": vzhurunohama,\n",
    "            \"max\": osaymax,\n",
    "            \"min\": osaymin,\n",
    "        }\n",
    "    ]\n",
    "\n",
    "    if skladany:\n",
    "        if len(sloupcovy) > 0:\n",
    "            nastaveni[\"plotOptions\"] = {\"column\": {\"stacking\": \"normal\"}}\n",
    "        if len(vodorovny) > 0:\n",
    "            nastaveni[\"plotOptions\"] = {\"bar\": {\"stacking\": \"normal\"}}\n",
    "    if histogram:\n",
    "        nastaveni[\"plotOptions\"] = {\n",
    "            \"column\": {\n",
    "                \"pointPadding\": 0,\n",
    "                \"borderWidth\": 0,\n",
    "                \"groupPadding\": 0,\n",
    "                \"shadow\": False,\n",
    "            }\n",
    "        }\n",
    "\n",
    "    if len(procenta) > 0:\n",
    "        osa_procent = {\n",
    "            \"title\": {\"text\": osay2},\n",
    "            \"max\": max_procenta,\n",
    "            \"min\": 0,\n",
    "            \"labels\": {\"format\": \"{value} %\"},\n",
    "        }\n",
    "\n",
    "        if len(procenta) != len(carovy) + len(sloupcovy):\n",
    "            osa_procent[\"opposite\"] = True\n",
    "            druha_osa = 1\n",
    "            nastaveni[\"yAxis\"].append(osa_procent)\n",
    "            nastaveni[\"alignTicks\"] = False\n",
    "        if len(procenta) == len(carovy) + len(sloupcovy):\n",
    "            nastaveni[\"yAxis\"] = [osa_procent]\n",
    "            druha_osa = 0\n",
    "\n",
    "    if len(naproti) > 0:\n",
    "        druha_osa = 1\n",
    "        druha_osa_y = {\n",
    "            \"title\": {\"text\": osay2},\n",
    "            \"opposite\": True,\n",
    "            \"max\": naproti[0].max(),\n",
    "            \"min\": 0,\n",
    "        }\n",
    "        nastaveni[\"yAxis\"].append(druha_osa_y)\n",
    "\n",
    "    my_chart = Chart(container=target, options=nastaveni)\n",
    "\n",
    "    procenta = [p.name for p in procenta]\n",
    "    naproti = [n.name for n in naproti]\n",
    "    skryte = [s.name for s in skryte]\n",
    "\n",
    "    def vykresleni(serie, typ):\n",
    "        for s in serie:\n",
    "            popisek = s.name\n",
    "\n",
    "            if s.name in skryte:\n",
    "                viditelnost = False\n",
    "            else:\n",
    "                viditelnost = True\n",
    "\n",
    "            ktera_osa = 0\n",
    "            if s.name in naproti:\n",
    "                ktera_osa = druha_osa\n",
    "\n",
    "            if s.name in procenta:\n",
    "                s = [round(x * 100, zaokrouhleni) for x in s.fillna(0).to_list()]\n",
    "                my_chart.add_series(\n",
    "                    typ(\n",
    "                        data=s,\n",
    "                        visible=viditelnost,\n",
    "                        name=popisek,\n",
    "                        y_axis=druha_osa,\n",
    "                        tooltip={\"valueSuffix\": \" %\"},\n",
    "                    )\n",
    "                )\n",
    "\n",
    "            else:\n",
    "                my_chart.add_series(\n",
    "                    typ(\n",
    "                        data=s.fillna(0).to_list(),\n",
    "                        visible=viditelnost,\n",
    "                        name=popisek,\n",
    "                        y_axis=ktera_osa,\n",
    "                        tooltip = {\n",
    "\t\t\t\t'pointFormat': '{point.x}denní předstih: {point.y} Kč, nabídnuto {point.z}×'\n",
    "\t\t\t}\n",
    "                    )\n",
    "                )\n",
    "\n",
    "    if len(sloupcovy) > 0:\n",
    "        vykresleni(sloupcovy, ColumnSeries)\n",
    "    if len(carovy) > 0:\n",
    "        vykresleni(carovy, LineSeries)\n",
    "    if len(vodorovny) > 0:\n",
    "        vykresleni(vodorovny, BarSeries)\n",
    "    if len(scatter) > 0:\n",
    "        vykresleni(scatter, BubbleSeries)\n",
    "\n",
    "    if len(barvy) > 0:\n",
    "        my_chart.options.colors = barvy\n",
    "    else:\n",
    "        my_chart.options.colors = colors = [\n",
    "            \"#b2e061\",  ## světle zelená (light green)\n",
    "            \"#7eb0d5\",  ## světle modrá (light blue)\n",
    "            \"#fd7f6f\",  ## světle červená (light red)\n",
    "            \"#bd7ebe\",  ## světle fialová (light purple)\n",
    "            \"#ffb55a\",  ## oranžová (orange)\n",
    "            \"#ffee65\",  ## žlutá (yellow)\n",
    "            \"#beb9db\",  ## levandulová (lavender)\n",
    "            \"#fdcce5\",  ## skoro černá\n",
    "            \"#8bd3c7\",  ## světle tyrkysová (light turquoise)\n",
    "        ]\n",
    "\n",
    "    if naopak:\n",
    "        my_chart.options.legend = Legend(reversed=True)\n",
    "\n",
    "    my_chart.options.title = Title(text=titulek, align=\"left\", margin=30)\n",
    "\n",
    "    if len(podtitulek) > 0:\n",
    "        my_chart.options.subtitle = Subtitle(text=podtitulek, align=\"left\")\n",
    "\n",
    "    my_chart.options.credits = Credits(text=kredity[0], enabled=True, href=kredity[1])\n",
    "\n",
    "    as_js_literal = my_chart.to_js_literal()\n",
    "\n",
    "    if skrytnuly == True:\n",
    "        as_js_literal = as_js_literal.replace(\"y: 0.0\", \"y: null\")\n",
    "\n",
    "    code = f\"<html><head><title>{titulek}</title></head><body>{pred}{as_js_literal}</script></body></html>\"\n",
    "\n",
    "    if not os.path.exists(\"grafy\"):\n",
    "        os.mkdir(\"grafy\")\n",
    "\n",
    "    with open(os.path.join(\"grafy\", target + \".html\"), \"w+\") as f:\n",
    "        f.write(code)\n",
    "\n",
    "    with open(os.path.join(\"grafy\", target + \".txt\"), \"w+\") as f:\n",
    "        f.write(f\"{pred}{as_js_literal}</script>\")\n",
    "\n",
    "        print(\"Graf uložen.\")"
   ]
  },
  {
   "cell_type": "code",
   "execution_count": 32,
   "id": "c096a292-d6f8-49b8-b6a0-10324c986dff",
   "metadata": {},
   "outputs": [
    {
     "data": {
      "text/plain": [
       "['7-3', '5-3', '5-2', '5-1']"
      ]
     },
     "execution_count": 32,
     "metadata": {},
     "output_type": "execute_result"
    }
   ],
   "source": [
    "spicka"
   ]
  },
  {
   "cell_type": "code",
   "execution_count": 73,
   "id": "94454e4f-2c40-4fa9-9f2b-35444323d1a4",
   "metadata": {},
   "outputs": [
    {
     "name": "stdout",
     "output_type": "stream",
     "text": [
      "Graf uložen.\n"
     ]
    }
   ],
   "source": [
    "irozhlas_graf(scatter=[cd, rj, le], barvy=[\"#526d77\",\"#fabb00\",\"#e68014\"], target='prgova_bubble', titulek='Jízdné Praha &#8596; Ostrava na začátku a konci víkendu', osaymin=0, podtitulek='Nabízené ceny jízdenek na páteční (8.00-16.00) a nedělní (12.00-20.00) špičku', kredity=['Zdroj dat: e-shopy dopravců od 7. 11. do 26. 11. 2024. Vizualizace: iROZHLAS.cz','https://www.irozhlas.cz/zpravy-tag/datova-zurnalistika'])"
   ]
  }
 ],
 "metadata": {
  "kernelspec": {
   "display_name": "Python 3 (ipykernel)",
   "language": "python",
   "name": "python3"
  },
  "language_info": {
   "codemirror_mode": {
    "name": "ipython",
    "version": 3
   },
   "file_extension": ".py",
   "mimetype": "text/x-python",
   "name": "python",
   "nbconvert_exporter": "python",
   "pygments_lexer": "ipython3",
   "version": "3.12.3"
  }
 },
 "nbformat": 4,
 "nbformat_minor": 5
}
