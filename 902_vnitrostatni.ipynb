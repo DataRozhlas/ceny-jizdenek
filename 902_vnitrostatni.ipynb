{
 "cells": [
  {
   "cell_type": "code",
   "execution_count": 1,
   "id": "a602b8c6-3f78-4758-b1ff-bab33393ddc9",
   "metadata": {},
   "outputs": [],
   "source": [
    "import os\n",
    "import pandas as pd\n",
    "pd.set_option('display.max_columns', 100)\n",
    "pd.set_option('display.max_rows', 500)"
   ]
  },
  {
   "cell_type": "code",
   "execution_count": 2,
   "id": "4c4cc114-bd0b-432e-90a9-40a2bfd98b7d",
   "metadata": {},
   "outputs": [],
   "source": [
    "df = pd.read_parquet(os.path.join('data','jizdenky.parquet'))\n",
    "df = df[df['odjezd'] >= '2024-11-08']\n",
    "df = df[df['prostredek'] != 'autobus']\n",
    "df = df[df['predstih_h'] >= 0]"
   ]
  },
  {
   "cell_type": "code",
   "execution_count": 3,
   "id": "953f8fa3-d290-4ed9-87b8-ac1b31a20996",
   "metadata": {},
   "outputs": [],
   "source": [
    "def filtr(dopravce, mesto1, mesto2, nasobek=1.25):\n",
    "    dfc = df.copy()\n",
    "    print(f\"{dopravce}: {mesto1}-{mesto2}\")\n",
    "    dfc = dfc[dfc['prodejce'] == dopravce]\n",
    "    dfc = dfc[dfc['odkud'].str.contains(mesto1) | dfc['kam'].str.contains(mesto1)]\n",
    "    dfc = dfc[dfc['odkud'].str.contains(mesto2) | dfc['kam'].str.contains(mesto2)]\n",
    "    minimum_prestupu = dfc['prestupy'].min()\n",
    "    if minimum_prestupu == -1:\n",
    "        print(\"Pozor, vylezlo nám tu -1 přestupů. Opravuji.\")\n",
    "        minimum_prestupu = 0\n",
    "    print(f\"Nejmenší počet přestupů: {minimum_prestupu}.\")\n",
    "    minimum_casu = dfc['jizdni_doba'].min()\n",
    "    print(f\"Nejrychlejší jízdní doba: {minimum_casu} min.\")\n",
    "    dfc = dfc[(dfc['prestupy'] == minimum_prestupu) & (df['jizdni_doba'] <= (minimum_casu * nasobek))]\n",
    "    dfc = dfc.drop_duplicates(subset=['odjezd','kam','predstih_d'], keep='last')\n",
    "    print(f\"Celkem řádků: {len(dfc)}\\n\")\n",
    "    return dfc.reset_index(drop=True)"
   ]
  },
  {
   "cell_type": "code",
   "execution_count": 4,
   "id": "1f3cb5c0-4675-4250-82b8-6e83743774c3",
   "metadata": {},
   "outputs": [],
   "source": [
    "def obdobi(radek):\n",
    "    return f\"\"\"{radek['odjezd'].dayofweek + 1}-{radek['odjezd'].hour // 4}\"\"\""
   ]
  },
  {
   "cell_type": "code",
   "execution_count": 5,
   "id": "aca7cf58-31ff-4fc3-a870-d8f57b1e1cd8",
   "metadata": {},
   "outputs": [],
   "source": [
    "df['obdobi'] = df.apply(lambda row: obdobi(row), axis=1)"
   ]
  },
  {
   "cell_type": "markdown",
   "id": "98d7b922-3e62-43f7-9978-aa5f0915d48c",
   "metadata": {},
   "source": [
    "Střední cena jízdenky koupené do 24 hodin před odjezdem je na trase mezi Prahou a Brnem bez slev…"
   ]
  },
  {
   "cell_type": "code",
   "execution_count": 7,
   "id": "05210688-a045-4346-ac06-e82ce2343a00",
   "metadata": {},
   "outputs": [
    {
     "name": "stdout",
     "output_type": "stream",
     "text": [
      "405931\n",
      "178476\n",
      "132321\n",
      "132258\n",
      "55411\n"
     ]
    }
   ],
   "source": [
    "prabr = df[df['odkud'].str.contains('Praha') | df['odkud'].str.contains('Brno')]\n",
    "print(len(prabr))\n",
    "prabr = prabr[prabr['kam'].str.contains('Brno') | prabr['kam'].str.contains('Praha')]\n",
    "print(len(prabr))\n",
    "prabr = prabr[prabr['jizdni_doba'] <= 180]\n",
    "print(len(prabr))\n",
    "prabr = prabr[prabr['prestupy'] == 0]\n",
    "print(len(prabr))\n",
    "prabr = prabr[(prabr['odjezd'] >= '2024-11-11') & (prabr['odjezd'] <= '2024-11-24')]\n",
    "print(len(prabr))\n",
    "prabr = prabr[(prabr['predstih_h'] <= 24)]"
   ]
  },
  {
   "cell_type": "code",
   "execution_count": 8,
   "id": "a12b231e-9c1e-49dd-8969-c804ab870e89",
   "metadata": {},
   "outputs": [
    {
     "data": {
      "text/plain": [
       "359.0"
      ]
     },
     "execution_count": 8,
     "metadata": {},
     "output_type": "execute_result"
    }
   ],
   "source": [
    "prabr['cena'].median()"
   ]
  },
  {
   "cell_type": "code",
   "execution_count": 9,
   "id": "d64ba453-3985-44e1-b593-82ae7842beee",
   "metadata": {},
   "outputs": [
    {
     "data": {
      "text/plain": [
       "obdobi\n",
       "6-0    449.0\n",
       "5-0    435.0\n",
       "5-2    435.0\n",
       "5-3    435.0\n",
       "5-4    435.0\n",
       "7-0    419.0\n",
       "1-0    409.0\n",
       "2-0    359.0\n",
       "2-3    359.0\n",
       "3-0    359.0\n",
       "Name: cena, dtype: float64"
      ]
     },
     "execution_count": 9,
     "metadata": {},
     "output_type": "execute_result"
    }
   ],
   "source": [
    "df[df['odkud'].str.contains('Pra') & df['kam'].str.contains('Brn')].groupby('obdobi')['cena'].median().nlargest(10)"
   ]
  },
  {
   "cell_type": "code",
   "execution_count": 10,
   "id": "1a583a1a-fd4b-4866-b58d-8ffda6126d44",
   "metadata": {},
   "outputs": [
    {
     "data": {
      "text/plain": [
       "obdobi\n",
       "5-3    399.0\n",
       "7-3    399.0\n",
       "4-0    388.0\n",
       "5-0    388.0\n",
       "6-0    388.0\n",
       "7-0    388.0\n",
       "4-2    359.0\n",
       "4-3    359.0\n",
       "5-2    359.0\n",
       "5-4    359.0\n",
       "Name: cena, dtype: float64"
      ]
     },
     "execution_count": 10,
     "metadata": {},
     "output_type": "execute_result"
    }
   ],
   "source": [
    "df[df['odkud'].str.contains('Brn') & df['kam'].str.contains('Pra')].groupby('obdobi')['cena'].median().nlargest(10)"
   ]
  },
  {
   "cell_type": "code",
   "execution_count": 11,
   "id": "2400dbec-1d44-4ce9-98d0-f12b8b82fa5f",
   "metadata": {},
   "outputs": [
    {
     "data": {
      "text/plain": [
       "obdobi\n",
       "5-3    279.0\n",
       "3-3    269.0\n",
       "4-3    269.0\n",
       "4-4    269.0\n",
       "5-2    269.0\n",
       "5-4    269.0\n",
       "6-2    269.0\n",
       "6-4    269.0\n",
       "7-3    269.0\n",
       "7-4    269.0\n",
       "Name: cena, dtype: float64"
      ]
     },
     "execution_count": 11,
     "metadata": {},
     "output_type": "execute_result"
    }
   ],
   "source": [
    "df[df['odkud'].str.contains('Brn') & df['kam'].str.contains('Ostra')].groupby('obdobi')['cena'].median().nlargest(10)"
   ]
  },
  {
   "cell_type": "code",
   "execution_count": 12,
   "id": "943a77e6-cdd4-41f5-8fd5-4701660b9f37",
   "metadata": {},
   "outputs": [
    {
     "data": {
      "text/plain": [
       "obdobi\n",
       "7-3    279.0\n",
       "7-4    279.0\n",
       "1-1    269.0\n",
       "2-1    269.0\n",
       "3-1    269.0\n",
       "4-1    269.0\n",
       "5-3    269.0\n",
       "6-1    269.0\n",
       "4-3    254.0\n",
       "5-1    254.0\n",
       "Name: cena, dtype: float64"
      ]
     },
     "execution_count": 12,
     "metadata": {},
     "output_type": "execute_result"
    }
   ],
   "source": [
    "df[df['odkud'].str.contains('Ostra') & df['kam'].str.contains('Brn')].groupby('obdobi')['cena'].median().nlargest(10)"
   ]
  },
  {
   "cell_type": "code",
   "execution_count": 13,
   "id": "40632a68-e76f-4990-9c56-53cdab6ae600",
   "metadata": {},
   "outputs": [
    {
     "name": "stderr",
     "output_type": "stream",
     "text": [
      "C:\\Users\\micha\\AppData\\Local\\Temp\\ipykernel_34064\\1717840207.py:1: FutureWarning: The default of observed=False is deprecated and will be changed to True in a future version of pandas. Pass observed=False to retain current behavior or observed=True to adopt the future default and silence this warning.\n",
      "  df.groupby([\"prodejce\",\"odkud\",\"kam\"]).size().nlargest(200)\n"
     ]
    },
    {
     "data": {
      "text/plain": [
       "prodejce  odkud                             kam                          \n",
       "ČD        Praha hl.n.                       Brno hl.n.                       63907\n",
       "          Brno hl.n.                        Praha hl.n.                      61760\n",
       "          Praha hl.n.                       Ostrava hl.n.                    42426\n",
       "          Ostrava hl.n.                     Praha hl.n.                      38512\n",
       "RJ        Brno                              Praha                            25743\n",
       "          Praha                             Brno                             23748\n",
       "          Ostrava                           Praha                            15788\n",
       "ČD        Praha hl.n.                       Bratislava hl.st.                14278\n",
       "RJ        Praha                             Ostrava                          12959\n",
       "ARR       Liberec                           Pardubice hl.n.                  12948\n",
       "ČD        Praha hl.n.                       Wien Hbf                         12855\n",
       "ARR       Pardubice hl.n.                   Liberec                          12762\n",
       "ČD        Bratislava hl.st.                 Praha hl.n.                      11795\n",
       "          Berlin Hbf (tief)                 Praha hl.n.                      10574\n",
       "          Praha hl.n.                       Warszawa Centralna               10478\n",
       "                                            Bruxelles-Midi                   10290\n",
       "          Wien Hbf                          Praha hl.n.                       9515\n",
       "          Praha hl.n.                       Budapest-Nyugati pu               9468\n",
       "                                            Berlin Hbf (tief)                 9041\n",
       "                                            Budapest-Kelenföld                8125\n",
       "LE        Praha hl.n.                       Ostrava hl.n.                     8093\n",
       "                                            Ostrava-Svinov                    8093\n",
       "          Ostrava hl.n.                     Praha hl.n.                       7897\n",
       "          Ostrava-Svinov                    Praha hl.n.                       7897\n",
       "ARR       Liberec                           Ústí nad Labem hlavní nádraží     7809\n",
       "ČD        Warszawa Centralna                Praha hl.n.                       7536\n",
       "ARR       Praha hl.n.                       České Budějovice                  7452\n",
       "          České Budějovice                  Praha hl.n.                       7227\n",
       "ČD        Ústí n.L.hl.n.                    Dresden Hbf                       7209\n",
       "ARR       Ústí nad Labem hlavní nádraží     Liberec                           7183\n",
       "ČD        Budapest-Nyugati pu               Praha hl.n.                       6911\n",
       "RJ        Brno                              Vídeň                             6627\n",
       "ARR       Tanvald                           Praha hl.n.                       6374\n",
       "ČD        Brno hl.n.                        Hamburg Hbf                       6289\n",
       "          Bruxelles-Midi                    Praha hl.n.                       6149\n",
       "          Slavonice                         Plzeň hl.n.                       6038\n",
       "          Karlovy Vary                      Ostrava hl.n.                     6024\n",
       "          Olomouc hl.n.                     Przemysl Gl.                      5863\n",
       "RJ        Vídeň                             Brno                              5762\n",
       "ČD        Pardubice hl.n.                   Košice                            5637\n",
       "          Praha hl.n.                       Ljubljana                         5603\n",
       "          Budapest-Kelenföld                Praha hl.n.                       5417\n",
       "RJ        Brno                              Ostrava                           5198\n",
       "          Ostrava                           Brno                              5082\n",
       "ČD        Brno hl.n.                        Ljubljana                         4984\n",
       "ARR       Praha hl.n.                       Tanvald                           4770\n",
       "ČD        Ostrava hl.n.                     Gdansk Glowny                     3973\n",
       "          Dresden Hbf                       Ústí n.L.hl.n.                    3817\n",
       "RJ        Praha                             Budapešť                          3533\n",
       "ČD        Praha hl.n.                       Bern                              3492\n",
       "          Plzeň hl.n.                       Ostrava hl.n.                     3411\n",
       "                                            Slavonice                         3338\n",
       "          Ljubljana                         Praha hl.n.                       2869\n",
       "          Praha hl.n.                       Krakow Glowny                     2803\n",
       "RJ        Praha                             Bratislava                        2618\n",
       "ČD        Krakow Glowny                     Praha hl.n.                       2519\n",
       "          Berlin Hbf                        Bruxelles-Midi                    2368\n",
       "          Praha hl.n.                       Zagreb Glavni kolodvor            2295\n",
       "          Berlin Hbf                        Warszawa Centralna                2265\n",
       "          České Budějovice                  Zürich HB                         2198\n",
       "          Köln Messe/Deutz                  Bruxelles-Midi                    2195\n",
       "          Ljubljana                         Brno hl.n.                        2128\n",
       "          Praha hl.n.                       Bratislava-Petržalka              2053\n",
       "RJ        Praha                             Vídeň                             2008\n",
       "ČD        Ostrava hl.n.                     Karlovy Vary                      1975\n",
       "          Praha hl.n.                       Wien Franz-Josefs-Bahnhof         1923\n",
       "          Praha-Holešovice                  Ostrava hl.n.                     1837\n",
       "                                            Brno hl.n.                        1685\n",
       "RJ        Vídeň                             Praha                             1661\n",
       "ČD        Liberec                           Salzburg Hbf                      1596\n",
       "          Brno hl.n.                        Praha-Holešovice                  1588\n",
       "          Znojmo                            Jihlava                           1552\n",
       "RJ        Praha                             Košice                            1526\n",
       "ČD        České Budějovice                  Plzeň hl.n.                       1475\n",
       "          Bern                              Praha hl.n.                       1463\n",
       "          Wien Franz-Josefs-Bahnhof         Praha hl.n.                       1460\n",
       "          Praha hl.n.                       Berlin Hbf                        1446\n",
       "          Košice                            Pardubice hl.n.                   1426\n",
       "          Praha hl.n.                       Ostrava-Svinov                    1419\n",
       "          Hamburg Hbf                       Brno hl.n.                        1404\n",
       "          Ostrava hl.n.                     Praha-Holešovice                  1401\n",
       "RJ        Bratislava                        Praha                             1397\n",
       "ČD        München Hbf Gl.27-36              Bern                              1382\n",
       "          Ostrava-Svinov                    Praha hl.n.                       1373\n",
       "          Berlin Hbf                        Amsterdam Centraal                1322\n",
       "          Harmica                           Zagreb Glavni kolodvor            1252\n",
       "          Praha-Holešovice                  Bratislava hl.st.                 1246\n",
       "LE        Pardubice hl.n.                   Košice                            1219\n",
       "ČD        Köln Messe/Deutz Gl.11-12         Praha hl.n.                       1217\n",
       "LE        Košice                            Pardubice hl.n.                   1185\n",
       "ČD        Praha hl.n.                       Amsterdam Centraal                1176\n",
       "          Gdansk Glowny                     Ostrava hl.n.                     1163\n",
       "          Budapest-Deli pu                  Praha hl.n.                       1101\n",
       "          Berlin Hbf                        Praha hl.n.                       1098\n",
       "          Praha-Holešovice                  Budapest-Nyugati pu                978\n",
       "          Bratislava-Petržalka              Praha hl.n.                        947\n",
       "          Praha-Holešovice                  Bruxelles-Midi                     924\n",
       "          Przemysl Gl.                      Olomouc hl.n.                      911\n",
       "          Bratislava hl.st.                 Praha-Holešovice                   883\n",
       "RJ        Budapešť                          Praha                              851\n",
       "ČD        Praha-Holešovice                  Berlin Hbf (tief)                  844\n",
       "          Berlin Hbf (tief)                 Praha-Holešovice                   843\n",
       "          Praha-Holešovice                  Wien Hbf                           835\n",
       "          Bruxelles-Midi                    Praha-Holešovice                   801\n",
       "          Plzeň, , Terminál Hlavní nádraží  Karlovy Vary, , terminál           725\n",
       "          Praha hl.n.                       Flughafen Wien                     723\n",
       "          Budapest-Nyugati pu               Praha-Holešovice                   685\n",
       "          Praha hl.n.                       Berlin Südkreuz                    677\n",
       "RJ        Praha                             Krakov                             665\n",
       "ČD        Wien Hbf                          Praha-Holešovice                   619\n",
       "          Flughafen Wien                    Praha hl.n.                        595\n",
       "          München Hbf Gl.27-36              Zürich HB                          575\n",
       "          Praha-Holešovice                  Ljubljana                          553\n",
       "                                            Zagreb Glavni kolodvor             535\n",
       "          Amsterdam Centraal                Praha hl.n.                        510\n",
       "RJ        Praha                             Čop                                442\n",
       "ČD        Praha hl.n.                       Wroclaw Glowny                     436\n",
       "          Wroclaw Glowny                    Praha hl.n.                        433\n",
       "          Berlin Hbf (tief)                 Hamburg Hbf                        426\n",
       "          Berlin Hbf                        Amsterdam Zuid                     386\n",
       "          Karlovy Vary                      Ostrava-Svinov                     384\n",
       "          Praha-Holešovice                  Bern                               374\n",
       "RJ        Krakov                            Praha                              345\n",
       "LE        Praha hl.n.                       Kraków Główny                      310\n",
       "          Kraków Główny                     Praha hl.n.                        303\n",
       "ČD        Zürich HB                         České Budějovice                   303\n",
       "RJ        Olomouc                           Przemysl                           291\n",
       "          Košice                            Praha                              261\n",
       "ČD        Ljubljana                         Praha-Holešovice                   252\n",
       "          Leipzig Hbf (tief)                Berlin Hbf (tief)                  243\n",
       "RJ        Przemysl                          Olomouc                            229\n",
       "ČD        Praha-Holešovice                  Warszawa Centralna                 219\n",
       "          Bruxelles-Central                 Praha hl.n.                        207\n",
       "          Praha hl.n.                       Amsterdam Zuid                     206\n",
       "          Praha-Holešovice                  Krakow Glowny                      191\n",
       "          Bern                              Praha-Holešovice                   189\n",
       "          München Hbf Gl.5-10               Salzburg Hbf                       184\n",
       "LE        Praha-Libeň                       Ostrava hl.n.                      170\n",
       "                                            Ostrava-Svinov                     170\n",
       "ČD        Krakow Glowny                     Praha-Holešovice                   169\n",
       "          Praha hl.n.                       Berlin Ostbahnhof                  163\n",
       "          Leipzig Hbf (tief)                Amsterdam Centraal                 154\n",
       "          Warszawa Centralna                Praha-Holešovice                   150\n",
       "          Praha hl.n.                       Wien Stadlau                       141\n",
       "          Praha-Dejvice                     Bratislava hl.st.                  140\n",
       "          Wien Stadlau                      Praha hl.n.                        139\n",
       "          München Hbf                       Praha hl.n.                        136\n",
       "RJ        Čop                               Praha                              130\n",
       "ČD        Praha-Smíchov                     Plzeň hl.n.                        128\n",
       "LE        Ostrava hl.n.                     Praha-Libeň                        122\n",
       "          Ostrava-Svinov                    Praha-Libeň                        122\n",
       "ČD        Berlin Hbf (tief)                 Praha Masarykovo n.                119\n",
       "          Ostrava-Svinov                    Karlovy Vary                       103\n",
       "          Berlin Hbf (tief)                 Brno hl.n.                         102\n",
       "          Wien Hbf (Bahnsteige 1-2)         Praha hl.n.                         96\n",
       "          Praha-Dejvice                     Warszawa Centralna                  94\n",
       "          Frankfurt Hbf (tief)              Praha hl.n.                         91\n",
       "          Plzeň hl.n.                       Ostrava-Svinov                      91\n",
       "          Praha-Dejvice                     Ostrava hl.n.                       84\n",
       "          Frankfurt(Main)Hbf                Bruxelles-Midi                      82\n",
       "          Praha hl.n.                       Wien Stadlau Frachtenbahnhof        81\n",
       "                                            Berlin-Lichtenberg                  79\n",
       "                                            Bruxelles-Central                   79\n",
       "          Železná Ruda-Alžbětín             Praha-Smíchov                       76\n",
       "          Praha-Smíchov                     Ostrava hl.n.                       71\n",
       "          Praha hl.n.                       Krakow Business Park                63\n",
       "          Praha-Dejvice                     Zagreb Glavni kolodvor              60\n",
       "                                            Budapest-Kelenföld                  59\n",
       "          Praha-Holešovice                  Amsterdam Centraal                  58\n",
       "          Berlin Gesundbrunnen              Praha hl.n.                         56\n",
       "          Praha hl.n.                       Warszawa Wschodnia                  55\n",
       "          Leipzig Hbf                       Praha hl.n.                         54\n",
       "          Berlin-Lichtenberg                Praha hl.n.                         49\n",
       "          München Hbf                       České Budějovice                    48\n",
       "          Praha-Dejvice                     Wien Hbf                            48\n",
       "          Berlin Hbf                        Hamburg-Harburg                     43\n",
       "          Praha hl.n.                       Berlin Gesundbrunnen                43\n",
       "          Wien Stadlau Frachtenbahnhof      Praha hl.n.                         43\n",
       "          Berlin Hbf                        Brno hl.n.                          38\n",
       "          Amsterdam Zuid                    Praha hl.n.                         36\n",
       "          Krakow Lotnisko                   Praha hl.n.                         35\n",
       "          Amsterdam Centraal                Praha-Holešovice                    34\n",
       "          Praha hl.n.                       Berlin Betriebsbf Schöneweide       33\n",
       "          Leipzig Hbf (tief)                Berlin Südkreuz                     32\n",
       "          Praha-Dejvice                     Berlin Hbf (tief)                   31\n",
       "                                            Ljubljana                           31\n",
       "          Praha hl.n.                       Krakow Mydlniki                     30\n",
       "          Berlin Westkreuz                  Praha hl.n.                         28\n",
       "          Berlin Hbf                        Bruxelles-Central                   27\n",
       "          Praha-Dejvice                     Budapest-Nyugati pu                 25\n",
       "          Ostrava hl.n.                     Karlovy Vary dolní n.               24\n",
       "          Praha-Smíchov                     Bratislava hl.st.                   24\n",
       "          Berlin Hbf                        Hamburg Hbf                         22\n",
       "          Praha hl.n.                       Berlin-Lichterfelde Ost             22\n",
       "          Berlin Hbf (tief)                 Amsterdam Centraal                  21\n",
       "          Bruxelles-Luxembourg              Praha hl.n.                         20\n",
       "          Praha-Smíchov                     Brno hl.n.                          20\n",
       "          Chlumčany u Dobřan                Slavonice                           19\n",
       "          Praha hl.n.                       Berlin Zoologischer Garten          19\n",
       "          Wroclaw Glowny                    Praha-Holešovice                    18\n",
       "dtype: int64"
      ]
     },
     "execution_count": 13,
     "metadata": {},
     "output_type": "execute_result"
    }
   ],
   "source": [
    "df.groupby([\"prodejce\",\"odkud\",\"kam\"]).size().nlargest(200)"
   ]
  },
  {
   "cell_type": "code",
   "execution_count": 14,
   "id": "f9de57ad-7927-4e98-9253-ef8009f0802c",
   "metadata": {},
   "outputs": [
    {
     "name": "stdout",
     "output_type": "stream",
     "text": [
      "ČD: Praha hl.n.-Brno hl.n.\n",
      "Nejmenší počet přestupů: 0.\n",
      "Nejrychlejší jízdní doba: 149.0 min.\n"
     ]
    },
    {
     "name": "stderr",
     "output_type": "stream",
     "text": [
      "C:\\Users\\micha\\AppData\\Local\\Temp\\ipykernel_34064\\2732313708.py:14: UserWarning: Boolean Series key will be reindexed to match DataFrame index.\n",
      "  dfc = dfc[(dfc['prestupy'] == minimum_prestupu) & (df['jizdni_doba'] <= (minimum_casu * nasobek))]\n"
     ]
    },
    {
     "name": "stdout",
     "output_type": "stream",
     "text": [
      "Celkem řádků: 30526\n",
      "\n",
      "RJ: Praha-Brno\n",
      "Nejmenší počet přestupů: 0.\n",
      "Nejrychlejší jízdní doba: 148.0 min.\n"
     ]
    },
    {
     "name": "stderr",
     "output_type": "stream",
     "text": [
      "C:\\Users\\micha\\AppData\\Local\\Temp\\ipykernel_34064\\2732313708.py:14: UserWarning: Boolean Series key will be reindexed to match DataFrame index.\n",
      "  dfc = dfc[(dfc['prestupy'] == minimum_prestupu) & (df['jizdni_doba'] <= (minimum_casu * nasobek))]\n"
     ]
    },
    {
     "name": "stdout",
     "output_type": "stream",
     "text": [
      "Celkem řádků: 12323\n",
      "\n",
      "RJ: Brno-Ostrava\n",
      "Nejmenší počet přestupů: 0.\n",
      "Nejrychlejší jízdní doba: 128.0 min.\n"
     ]
    },
    {
     "name": "stderr",
     "output_type": "stream",
     "text": [
      "C:\\Users\\micha\\AppData\\Local\\Temp\\ipykernel_34064\\2732313708.py:14: UserWarning: Boolean Series key will be reindexed to match DataFrame index.\n",
      "  dfc = dfc[(dfc['prestupy'] == minimum_prestupu) & (df['jizdni_doba'] <= (minimum_casu * nasobek))]\n"
     ]
    },
    {
     "name": "stdout",
     "output_type": "stream",
     "text": [
      "Celkem řádků: 5593\n",
      "\n",
      "ARR: Pardubice-Liberec\n",
      "Nejmenší počet přestupů: 0.\n",
      "Nejrychlejší jízdní doba: 165.0 min.\n"
     ]
    },
    {
     "name": "stderr",
     "output_type": "stream",
     "text": [
      "C:\\Users\\micha\\AppData\\Local\\Temp\\ipykernel_34064\\2732313708.py:14: UserWarning: Boolean Series key will be reindexed to match DataFrame index.\n",
      "  dfc = dfc[(dfc['prestupy'] == minimum_prestupu) & (df['jizdni_doba'] <= (minimum_casu * nasobek))]\n"
     ]
    },
    {
     "name": "stdout",
     "output_type": "stream",
     "text": [
      "Celkem řádků: 5339\n",
      "\n",
      "ARR: Praha-Budějovice\n",
      "Nejmenší počet přestupů: 0.\n",
      "Nejrychlejší jízdní doba: 192.0 min.\n"
     ]
    },
    {
     "name": "stderr",
     "output_type": "stream",
     "text": [
      "C:\\Users\\micha\\AppData\\Local\\Temp\\ipykernel_34064\\2732313708.py:14: UserWarning: Boolean Series key will be reindexed to match DataFrame index.\n",
      "  dfc = dfc[(dfc['prestupy'] == minimum_prestupu) & (df['jizdni_doba'] <= (minimum_casu * nasobek))]\n"
     ]
    },
    {
     "name": "stdout",
     "output_type": "stream",
     "text": [
      "Celkem řádků: 3822\n",
      "\n",
      "ARR: Pardubice-Liberec\n",
      "Nejmenší počet přestupů: 0.\n",
      "Nejrychlejší jízdní doba: 165.0 min.\n"
     ]
    },
    {
     "name": "stderr",
     "output_type": "stream",
     "text": [
      "C:\\Users\\micha\\AppData\\Local\\Temp\\ipykernel_34064\\2732313708.py:14: UserWarning: Boolean Series key will be reindexed to match DataFrame index.\n",
      "  dfc = dfc[(dfc['prestupy'] == minimum_prestupu) & (df['jizdni_doba'] <= (minimum_casu * nasobek))]\n"
     ]
    },
    {
     "name": "stdout",
     "output_type": "stream",
     "text": [
      "Celkem řádků: 5339\n",
      "\n",
      "ČD: Karlovy-Ostrava\n",
      "Nejmenší počet přestupů: 0.\n",
      "Nejrychlejší jízdní doba: 385.0 min.\n",
      "Celkem řádků: 483\n",
      "\n"
     ]
    },
    {
     "name": "stderr",
     "output_type": "stream",
     "text": [
      "C:\\Users\\micha\\AppData\\Local\\Temp\\ipykernel_34064\\2732313708.py:14: UserWarning: Boolean Series key will be reindexed to match DataFrame index.\n",
      "  dfc = dfc[(dfc['prestupy'] == minimum_prestupu) & (df['jizdni_doba'] <= (minimum_casu * nasobek))]\n"
     ]
    }
   ],
   "source": [
    "cd_brno = filtr(\"ČD\",\"Praha hl.n.\",\"Brno hl.n.\")\n",
    "cd_brno = pd.Series(cd_brno.groupby('predstih_d')['cena'].agg(lambda x: [x.max(), x.min(), x.median()]), name=\"ČD Praha-Brno\").head(30)\n",
    "rj_brno = filtr(\"RJ\",\"Praha\",\"Brno\")\n",
    "rj_brno = pd.Series(rj_brno.groupby('predstih_d')['cena'].agg(lambda x: [x.max(), x.min(), x.median()]), name=\"RJ Praha-Brno\").head(30)\n",
    "rj_brnova = filtr(\"RJ\",\"Brno\",\"Ostrava\")\n",
    "rj_brnova = pd.Series(rj_brnova.groupby('predstih_d')['cena'].agg(lambda x: [x.max(), x.min(), x.median()]), name=\"RJ Brno-Ostrava\").head(30)\n",
    "arr_libpa = filtr(\"ARR\",\"Pardubice\",\"Liberec\")\n",
    "arr_libpa = pd.Series(arr_libpa.groupby('predstih_d')['cena'].agg(lambda x: [x.max(), x.min(), x.median()]), name=\"ARR Liberec-Pardubice\").head(30)\n",
    "arr_bud = filtr(\"ARR\",\"Praha\",\"Budějovice\")\n",
    "arr_bud = pd.Series(arr_bud.groupby('predstih_d')['cena'].agg(lambda x: [x.max(), x.min(), x.median()]), name=\"ARR Praha-Budějovice\").head(30)\n",
    "arr_libpa = filtr(\"ARR\",\"Pardubice\",\"Liberec\")\n",
    "arr_libpa = pd.Series(arr_libpa.groupby('predstih_d')['cena'].agg(lambda x: [x.max(), x.min(), x.median()]), name=\"ARR Liberec-Pardubice\").head(30)\n",
    "cd_kv = filtr(\"ČD\",\"Karlovy\",\"Ostrava\")\n",
    "cd_kv = pd.Series(cd_kv.groupby('predstih_d')['cena'].agg(lambda x: [x.max(), x.min(), x.median()]), name=\"ČD Ostrava-Karlovy Vary\").head(30)\n",
    "ukazat = [cd_brno, rj_brno, rj_brnova, arr_libpa, arr_bud, cd_kv]\n",
    "len(ukazat)\n",
    "for u in ukazat:\n",
    "    u.name = u.name.replace(\"-\",\" &#8596; \")\n",
    "    u.index = u.index.map(lambda x: f\"{x} d\")"
   ]
  },
  {
   "cell_type": "code",
   "execution_count": 15,
   "id": "acfdd32e-e545-46f8-8950-06f1ab56eb0b",
   "metadata": {},
   "outputs": [
    {
     "data": {
      "text/plain": [
       "['#173a79', '#fabb00', '#fabb00', '#e68014', '#e68014', '#173a79']"
      ]
     },
     "execution_count": 15,
     "metadata": {},
     "output_type": "execute_result"
    }
   ],
   "source": [
    "farby = []\n",
    "for u in ukazat:\n",
    "    if \"ČD\" in u.name:\n",
    "        farby.append(\"#173a79\")\n",
    "    elif \"RJ\" in u.name:\n",
    "        farby.append(\"#fabb00\")\n",
    "    elif \"LE\" in u.name:\n",
    "        farby.append(\"#010202\")\n",
    "    elif \"ARR\" in u.name:\n",
    "        farby.append(\"#e68014\")\n",
    "farby"
   ]
  },
  {
   "cell_type": "code",
   "execution_count": 16,
   "id": "b9167957-1b11-4478-b056-0af7e45ba26a",
   "metadata": {},
   "outputs": [],
   "source": [
    "def irozhlas_graf(\n",
    "    carovy=[],\n",
    "    sloupcovy=[],\n",
    "    vodorovny=[],\n",
    "    rozpeti=[],\n",
    "    procenta=[],\n",
    "    skryte=[],\n",
    "    barvy=[\n",
    "            \"#b2e061\",  ## světle zelená (light green)\n",
    "            \"#7eb0d5\",  ## světle modrá (light blue)\n",
    "            \"#fd7f6f\",  ## světle červená (light red)\n",
    "            \"#bd7ebe\",  ## světle fialová (light purple)\n",
    "            \"#ffb55a\",  ## oranžová (orange)\n",
    "            \"#ffee65\",  ## žlutá (yellow)\n",
    "            \"#beb9db\",  ## levandulová (lavender)\n",
    "            \"#fdcce5\",  ## skoro černá\n",
    "            \"#8bd3c7\",  ## světle tyrkysová (light turquoise),\n",
    "        \"red\",\n",
    "        \"blue\",\n",
    "        \"purple\"\n",
    "        ],\n",
    "    histogram=False,\n",
    "    max_procenta=100,\n",
    "    target=\"\",\n",
    "    titulek=\"\",\n",
    "    podtitulek=\"\",\n",
    "    naproti=[],\n",
    "    osay=\" \",\n",
    "    osay2=\" \",\n",
    "    osaymin=None,\n",
    "    osaymax=None,\n",
    "    kredity=[\"zdroj dat a autorstvo\", \"url odkazu\"],\n",
    "    zaokrouhleni=1,\n",
    "    prvni=True,\n",
    "    skladany=False,\n",
    "    naopak=False,\n",
    "    vzhurunohama=False,\n",
    "    skrytnuly=False,\n",
    "):\n",
    "    \"\"\"\n",
    "    Funkce vygeneruje HighCharts graf z pandas Series (jedné nebo více).\n",
    "\n",
    "    iROZHLAS-friendly barvy:\n",
    "    - \"#b2e061\" světle zelená\n",
    "    - \"#7eb0d5\" světle modrá\n",
    "    - \"#fd7f6f\" světle červená\n",
    "    - \"#bd7ebe\" světle fialová\n",
    "    - \"#ffb55a\" oranžová\n",
    "    - \"#ffee65\" žlutá\n",
    "    - \"#beb9db\" levandulová\n",
    "    - \"#fdcce5\" skoro černá\n",
    "    - \"#8bd3c7\" světle tyrkysová\n",
    "    \"\"\"\n",
    "\n",
    "    import os\n",
    "    import pandas as pd\n",
    "    from highcharts_core.chart import Chart\n",
    "    from highcharts_core.options.series.area import LineSeries\n",
    "    from highcharts_core.options.series.bar import ColumnSeries\n",
    "    from highcharts_core.options.series.bar import BarSeries\n",
    "    from highcharts_core.options.series.area import AreaRangeSeries\n",
    "    from highcharts_core.options.series.histogram import HistogramSeries\n",
    "    from highcharts_core.options.legend import Legend\n",
    "    from highcharts_core.options.title import Title\n",
    "    from highcharts_core.options.subtitle import Subtitle\n",
    "    from highcharts_core.options.credits import Credits\n",
    "\n",
    "    pocitadlo_barev = 0\n",
    "    \n",
    "    nastaveni = {}\n",
    "\n",
    "    if prvni:\n",
    "        zdrojaky = f\"\"\"<script src=\"https://code.highcharts.com/highcharts.js\"></script><script src=\"https://code.highcharts.com/highcharts-more.js\"></script><script src=\"https://code.highcharts.com/modules/exporting.js\"></script><script src=\"https://code.highcharts.com/modules/export-data.js\"></script><script src=\"https://code.highcharts.com/modules/accessibility.js\"></script>\n",
    "        <link\n",
    "  rel=\"stylesheet\"\n",
    "  href=\"https://fonts.googleapis.com/css?family=Noticia+Text\"\n",
    "/>\n",
    "<link\n",
    "  href=\"https://fonts.googleapis.com/css2?family=Asap\"\n",
    "  rel=\"stylesheet\"\n",
    "/>\n",
    "<link\n",
    "  href=\"https://fonts.googleapis.com/css2?family=Roboto\"\n",
    "  rel=\"stylesheet\"\n",
    "/>\n",
    "<link\n",
    "  rel=\"stylesheet\"\n",
    "  href=\"https://data.irozhlas.cz/hhighcharts-template/style.css\"\n",
    "/>\n",
    "<link\n",
    "  rel=\"stylesheet\"\n",
    "  href=\"https://data.irozhlas.cz/hhighcharts-template/highcharts-style.css\"\n",
    "/>\n",
    "<style type=\"text/css\">text{{font-family:\"Asap\"!important}}.paragraph{{font-family:\"Noticia text\"!important}}.href{{color:#666;fill:#666}}.highcharts-title{{font-family:\"Noticia text\"!important;font-weight:700!important;text-align:left!important;left:10px!important}}.highcharts-subtitle{{text-align:left!important;font-size:.95rem!important;left:10px!important;font-family:\"Asap\"!important}}.highcharts-data-labels text{{font-size:.85rem!important}}.highcharts-axis-labels text{{font-size:.85rem!important}}text.highcharts-plot-line-label{{font-size:.85rem!important;fill:#666}}text.highcharts-plot-band-label{{font-size:.85rem!important;fill:#666}}text.highcharts-credits{{font-size:.75rem!important}}.highcharts-tooltip span{{font-family:\"Asap\"!important}}.axis-label-on-tick{{fill:#aaa;color:#aaa}}.mock-empty-line{{fill:#fff;color:#fff}}</style>\"\"\"\n",
    "    else:\n",
    "        zdrojaky = \"\"\n",
    "\n",
    "    pred = f\"\"\"{zdrojaky}\n",
    "        <figure id=\"{target}\">\n",
    "        <div id=\"container\"></div>\n",
    "        </figure>\n",
    "        <script>\"\"\"\n",
    "\n",
    "    if len(carovy) > 0:\n",
    "        categories = carovy[0].index.to_list()\n",
    "    if len(sloupcovy) > 0:\n",
    "        categories = sloupcovy[0].index.to_list()\n",
    "    if len(vodorovny) > 0:\n",
    "        categories = vodorovny[0].index.to_list()\n",
    "    if len(rozpeti) > 0:\n",
    "        categories = rozpeti[0].index.to_list()\n",
    "\n",
    "    categories = [str(x) for x in categories]\n",
    "\n",
    "    nastaveni[\"xAxis\"] = {\"categories\": categories, \"min\": 0}\n",
    "    nastaveni[\"yAxis\"] = [\n",
    "        {\n",
    "            \"title\": {\"text\": osay},\n",
    "            \"reversed\": vzhurunohama,\n",
    "            \"max\": osaymax,\n",
    "            \"min\": osaymin,\n",
    "        }\n",
    "    ]\n",
    "\n",
    "    if skladany:\n",
    "        if len(sloupcovy) > 0:\n",
    "            nastaveni[\"plotOptions\"] = {\"column\": {\"stacking\": \"normal\"}}\n",
    "        if len(vodorovny) > 0:\n",
    "            nastaveni[\"plotOptions\"] = {\"bar\": {\"stacking\": \"normal\"}}\n",
    "    if histogram:\n",
    "        nastaveni[\"plotOptions\"] = {\n",
    "            \"column\": {\n",
    "                \"pointPadding\": 0,\n",
    "                \"borderWidth\": 0,\n",
    "                \"groupPadding\": 0,\n",
    "                \"shadow\": False,\n",
    "            }\n",
    "        }\n",
    "\n",
    "    \n",
    "    if len(procenta) > 0:\n",
    "        osa_procent = {\n",
    "            \"title\": {\"text\": osay2},\n",
    "            \"max\": max_procenta,\n",
    "            \"min\": 0,\n",
    "            \"labels\": {\"format\": \"{value} %\"},\n",
    "        }\n",
    "\n",
    "        if len(procenta) != len(carovy) + len(sloupcovy):\n",
    "            osa_procent[\"opposite\"] = True\n",
    "            druha_osa = 1\n",
    "            nastaveni[\"yAxis\"].append(osa_procent)\n",
    "            nastaveni[\"alignTicks\"] = False\n",
    "        if len(procenta) == len(carovy) + len(sloupcovy):\n",
    "            nastaveni[\"yAxis\"] = [osa_procent]\n",
    "            druha_osa = 0\n",
    "\n",
    "    if len(naproti) > 0:\n",
    "        druha_osa = 1\n",
    "        druha_osa_y = {\n",
    "            \"title\": {\"text\": osay2},\n",
    "            \"opposite\": True,\n",
    "            \"max\": naproti[0].max(),\n",
    "            \"min\": 0,\n",
    "        }\n",
    "        nastaveni[\"yAxis\"].append(druha_osa_y)\n",
    "\n",
    "    my_chart = Chart(container=target, options=nastaveni)\n",
    "\n",
    "    procenta = [p.name for p in procenta]\n",
    "    naproti = [n.name for n in naproti]\n",
    "    skryte = [s.name for s in skryte]\n",
    "\n",
    "    def vykresleni(serie, typ):\n",
    "\n",
    "        pocitadlo_barev = 0\n",
    "        \n",
    "        for s in serie:\n",
    "            popisek = s.name\n",
    "            print(popisek)\n",
    "\n",
    "            if s.name in skryte:\n",
    "                viditelnost = False\n",
    "            else:\n",
    "                viditelnost = True\n",
    "\n",
    "            ktera_osa = 0\n",
    "            if s.name in naproti:\n",
    "                ktera_osa = druha_osa\n",
    "\n",
    "            if s.name in procenta:\n",
    "                s = [round(x * 100, zaokrouhleni) for x in s.fillna(0).to_list()]\n",
    "                my_chart.add_series(\n",
    "                    typ(\n",
    "                        data=s,\n",
    "                        visible=viditelnost,\n",
    "                        name=popisek,\n",
    "                        y_axis=druha_osa,\n",
    "                        tooltip={\"valueSuffix\": \" %\"},\n",
    "                    )\n",
    "                )\n",
    "\n",
    "            if any(s.name == x.name for x in rozpeti):\n",
    "                line_id = f\"line_{popisek}\"\n",
    "                print(line_id)\n",
    "                my_chart.add_series(\n",
    "                    LineSeries(\n",
    "                        data=s.apply(lambda x: x[2]).fillna(0).to_list(),\n",
    "                        visible=viditelnost,\n",
    "                        id = line_id,\n",
    "                        name=popisek,\n",
    "                        y_axis=ktera_osa,\n",
    "                        color = barvy[pocitadlo_barev],\n",
    "                        tooltip={\"valuePrefix\": \"střední: \",\"valueSuffix\": \" Kč\"},\n",
    "                    ))\n",
    "                my_chart.add_series(\n",
    "                    AreaRangeSeries(\n",
    "                        data=s.apply(lambda x: x[0:2]).fillna(0).to_list(),\n",
    "                        visible=viditelnost,\n",
    "                        type='arearange',\n",
    "                        name=popisek,\n",
    "                        linkedto = line_id,\n",
    "                        y_axis=ktera_osa,\n",
    "                        color = barvy[pocitadlo_barev],\n",
    "                        fillOpacity=0.3,\n",
    "                        tooltip={\"valueSuffix\": \" Kč\"},\n",
    "                    lineWidth=0,\n",
    "                    marker={\"enabled\": False}\n",
    "                    ))\n",
    "                pocitadlo_barev += 1\n",
    "\n",
    "   #         else:\n",
    "                #my_chart.add_series(\n",
    "                    #typ(\n",
    "                     #   data=s.fillna(0).to_list(),\n",
    "                    #    visible=viditelnost,\n",
    "                   #     name=popisek,\n",
    "                  #      y_axis=ktera_osa,\n",
    "                 #   )\n",
    "                #)\n",
    "\n",
    "    if len(sloupcovy) > 0:\n",
    "        vykresleni(sloupcovy, ColumnSeries)\n",
    "    if len(carovy) > 0:\n",
    "        vykresleni(carovy, LineSeries)\n",
    "    if len(vodorovny) > 0:\n",
    "        vykresleni(vodorovny, BarSeries)\n",
    "    if len(rozpeti) > 0:\n",
    "        vykresleni(rozpeti, AreaRangeSeries)\n",
    "\n",
    "    my_chart.options.colors = barvy\n",
    "\n",
    "    if naopak:\n",
    "        my_chart.options.legend = Legend(reversed=True)\n",
    "\n",
    "    my_chart.options.title = Title(text=titulek, align=\"left\", margin=30)\n",
    "\n",
    "    if len(podtitulek) > 0:\n",
    "        my_chart.options.subtitle = Subtitle(text=podtitulek, align=\"left\")\n",
    "\n",
    "    my_chart.options.credits = Credits(text=kredity[0], enabled=True, href=kredity[1])\n",
    "\n",
    "    as_js_literal = my_chart.to_js_literal()\n",
    "\n",
    "    if skrytnuly == True:\n",
    "        as_js_literal = as_js_literal.replace(\"y: 0.0\", \"y: null\")\n",
    "\n",
    " #   if len(rozpeti) > 0:\n",
    "    \n",
    "  #      as_js_literal = as_js_literal.replace(\n",
    "   #         '\"type\":\"arearange\"', \n",
    "    #        '\"type\":\"arearange\", \"linkedTo\": \"previous\", \"fillOpacity\": 0.3, \"lineWidth\": 0, \"marker\": {\"enabled\": false}'\n",
    "     #   )\n",
    "\n",
    "    \n",
    "#    if len(rozpeti) > 0:\n",
    "#        as_js_literal = as_js_literal.replace(\"type: 'arearange'\", \"type: 'arearange',linkedTo: 'previous',fillOpacity: 0.3,lineWidth: 0,marker: {enabled: false}\")\n",
    "\n",
    "    as_js_literal = as_js_literal.splitlines()\n",
    "\n",
    "    as_js_literal2 = []\n",
    "    \n",
    "    for line in as_js_literal:\n",
    "        if 'id: ' in line:\n",
    "            ajdy = line.split(\"'\")[1]\n",
    "            print(ajdy)\n",
    "        if \"type: 'arearange'\" in line:\n",
    "            line = line.replace(\" type: 'arearange'\",f\" type: 'arearange',linkedTo: '{ajdy}', fillOpacity: 0.3, lineWidth: 0\")\n",
    "        as_js_literal2.append(line)\n",
    "    as_js_literal2 = \"\\n\".join(as_js_literal2)\n",
    "    \n",
    "    code = f\"<html><head><title>{titulek}</title></head><body>{pred}{as_js_literal2}</script></body></html>\"\n",
    "\n",
    "    \n",
    "    if not os.path.exists(\"grafy\"):\n",
    "        os.mkdir(\"grafy\")\n",
    "\n",
    "    with open(os.path.join(\"grafy\", target + \".html\"), \"w+\") as f:\n",
    "        f.write(code)\n",
    "\n",
    "    with open(os.path.join(\"grafy\", target + \".txt\"), \"w+\") as f:\n",
    "        f.write(f\"{pred}{as_js_literal2}</script>\")\n",
    "\n",
    "        print(\"Graf uložen.\")"
   ]
  },
  {
   "cell_type": "code",
   "execution_count": 17,
   "id": "9a378bd5-c7f4-4fbe-8c83-5d63b5690620",
   "metadata": {},
   "outputs": [
    {
     "name": "stdout",
     "output_type": "stream",
     "text": [
      "ČD Praha &#8596; Brno\n",
      "line_ČD Praha &#8596; Brno\n",
      "RJ Praha &#8596; Brno\n",
      "line_RJ Praha &#8596; Brno\n",
      "RJ Brno &#8596; Ostrava\n",
      "line_RJ Brno &#8596; Ostrava\n",
      "ARR Liberec &#8596; Pardubice\n",
      "line_ARR Liberec &#8596; Pardubice\n",
      "ARR Praha &#8596; Budějovice\n",
      "line_ARR Praha &#8596; Budějovice\n",
      "ČD Ostrava &#8596; Karlovy Vary\n",
      "line_ČD Ostrava &#8596; Karlovy Vary\n",
      "line_ČD Praha &#8596; Brno\n",
      "line_RJ Praha &#8596; Brno\n",
      "line_RJ Brno &#8596; Ostrava\n",
      "line_ARR Liberec &#8596; Pardubice\n",
      "line_ARR Praha &#8596; Budějovice\n",
      "line_ČD Ostrava &#8596; Karlovy Vary\n",
      "Graf uložen.\n"
     ]
    }
   ],
   "source": [
    "irozhlas_graf(rozpeti=ukazat, skryte=ukazat[1:], barvy=farby, target='vnitrostatni_jizdne', titulek='Vnitrostátní jízdné podle předstihu nákupu', osaymin=0, podtitulek='Nejnižší, střední a nejvyšší cena na přímých spojích', kredity=['Zdroj dat: e-shopy dopravců od 7. 11. do 25. 11. 2024. Vizualizace: iROZHLAS.cz','https://www.irozhlas.cz/zpravy-tag/datova-zurnalistika'])"
   ]
  }
 ],
 "metadata": {
  "kernelspec": {
   "display_name": "Python 3 (ipykernel)",
   "language": "python",
   "name": "python3"
  },
  "language_info": {
   "codemirror_mode": {
    "name": "ipython",
    "version": 3
   },
   "file_extension": ".py",
   "mimetype": "text/x-python",
   "name": "python",
   "nbconvert_exporter": "python",
   "pygments_lexer": "ipython3",
   "version": "3.12.3"
  }
 },
 "nbformat": 4,
 "nbformat_minor": 5
}
