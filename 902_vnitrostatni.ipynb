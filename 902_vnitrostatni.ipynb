{
 "cells": [
  {
   "cell_type": "code",
   "execution_count": 34,
   "id": "a602b8c6-3f78-4758-b1ff-bab33393ddc9",
   "metadata": {},
   "outputs": [],
   "source": [
    "import os\n",
    "import pandas as pd\n",
    "pd.set_option('display.max_columns', 100)\n",
    "pd.set_option('display.max_rows', 500)"
   ]
  },
  {
   "cell_type": "code",
   "execution_count": 35,
   "id": "4c4cc114-bd0b-432e-90a9-40a2bfd98b7d",
   "metadata": {},
   "outputs": [],
   "source": [
    "df = pd.read_parquet(os.path.join('data','jizdenky.parquet'))\n",
    "df[df['oscrapovano'] <= '2024-11-26']\n",
    "df = df[df['predstih_h'] >= 0]"
   ]
  },
  {
   "cell_type": "code",
   "execution_count": 36,
   "id": "953f8fa3-d290-4ed9-87b8-ac1b31a20996",
   "metadata": {},
   "outputs": [],
   "source": [
    "def filtr(dopravce, mesto1, mesto2, nasobek=1.25):\n",
    "    dfc = df.copy()\n",
    "    print(f\"{dopravce}: {mesto1}-{mesto2}\")\n",
    "    dfc = dfc[dfc['prodejce'] == dopravce]\n",
    "    dfc = dfc[dfc['odkud'].str.contains(mesto1) | dfc['kam'].str.contains(mesto1)]\n",
    "    dfc = dfc[dfc['odkud'].str.contains(mesto2) | dfc['kam'].str.contains(mesto2)]\n",
    "    minimum_prestupu = dfc['prestupy'].min()\n",
    "    if minimum_prestupu == -1:\n",
    "        print(\"Pozor, vylezlo nám tu -1 přestupů. Opravuji.\")\n",
    "        minimum_prestupu = 0\n",
    "    print(f\"Nejmenší počet přestupů: {minimum_prestupu}.\")\n",
    "    minimum_casu = dfc['jizdni_doba'].min()\n",
    "    print(f\"Nejrychlejší jízdní doba: {minimum_casu} min.\")\n",
    "    dfc = dfc[(dfc['prestupy'] == minimum_prestupu) & (df['jizdni_doba'] <= (minimum_casu * nasobek))]\n",
    "    dfc = dfc.drop_duplicates(subset=['odjezd','kam','predstih_d'], keep='last')\n",
    "    print(f\"Celkem řádků: {len(dfc)}\\n\")\n",
    "    return dfc.reset_index(drop=True)"
   ]
  },
  {
   "cell_type": "code",
   "execution_count": 37,
   "id": "1f3cb5c0-4675-4250-82b8-6e83743774c3",
   "metadata": {},
   "outputs": [],
   "source": [
    "def obdobi(radek):\n",
    "    return f\"\"\"{radek['odjezd'].dayofweek + 1}-{radek['odjezd'].hour // 4}\"\"\""
   ]
  },
  {
   "cell_type": "code",
   "execution_count": 38,
   "id": "aca7cf58-31ff-4fc3-a870-d8f57b1e1cd8",
   "metadata": {},
   "outputs": [],
   "source": [
    "df['obdobi'] = df.apply(lambda row: obdobi(row), axis=1)"
   ]
  },
  {
   "cell_type": "markdown",
   "id": "98d7b922-3e62-43f7-9978-aa5f0915d48c",
   "metadata": {},
   "source": [
    "Střední cena jízdenky koupené do 24 hodin před odjezdem je na trase mezi Prahou a Brnem bez slev…"
   ]
  },
  {
   "cell_type": "code",
   "execution_count": 40,
   "id": "05210688-a045-4346-ac06-e82ce2343a00",
   "metadata": {},
   "outputs": [
    {
     "name": "stdout",
     "output_type": "stream",
     "text": [
      "342093\n",
      "156071\n",
      "118034\n",
      "117971\n",
      "50319\n"
     ]
    }
   ],
   "source": [
    "prabr = df[df['odkud'].str.contains('Praha') | df['odkud'].str.contains('Brno')]\n",
    "print(len(prabr))\n",
    "prabr = prabr[prabr['kam'].str.contains('Brno') | prabr['kam'].str.contains('Praha')]\n",
    "print(len(prabr))\n",
    "prabr = prabr[prabr['jizdni_doba'] <= 180]\n",
    "print(len(prabr))\n",
    "prabr = prabr[prabr['prestupy'] == 0]\n",
    "print(len(prabr))\n",
    "prabr = prabr[(prabr['odjezd'] >= '2024-11-11') & (prabr['odjezd'] <= '2024-11-24')]\n",
    "print(len(prabr))\n",
    "prabr = prabr[(prabr['predstih_h'] <= 24)]"
   ]
  },
  {
   "cell_type": "code",
   "execution_count": 41,
   "id": "a12b231e-9c1e-49dd-8969-c804ab870e89",
   "metadata": {},
   "outputs": [
    {
     "data": {
      "text/plain": [
       "359.0"
      ]
     },
     "execution_count": 41,
     "metadata": {},
     "output_type": "execute_result"
    }
   ],
   "source": [
    "prabr['cena'].median()"
   ]
  },
  {
   "cell_type": "code",
   "execution_count": 42,
   "id": "d64ba453-3985-44e1-b593-82ae7842beee",
   "metadata": {},
   "outputs": [
    {
     "data": {
      "text/plain": [
       "obdobi\n",
       "6-0    449.0\n",
       "5-0    435.0\n",
       "5-2    435.0\n",
       "5-3    435.0\n",
       "5-4    435.0\n",
       "7-0    419.0\n",
       "1-0    409.0\n",
       "7-3    399.0\n",
       "2-0    359.0\n",
       "2-3    359.0\n",
       "Name: cena, dtype: float64"
      ]
     },
     "execution_count": 42,
     "metadata": {},
     "output_type": "execute_result"
    }
   ],
   "source": [
    "df[df['odkud'].str.contains('Pra') & df['kam'].str.contains('Brn')].groupby('obdobi')['cena'].median().nlargest(10)"
   ]
  },
  {
   "cell_type": "code",
   "execution_count": 43,
   "id": "1a583a1a-fd4b-4866-b58d-8ffda6126d44",
   "metadata": {},
   "outputs": [
    {
     "data": {
      "text/plain": [
       "obdobi\n",
       "5-0    418.0\n",
       "5-3    399.0\n",
       "6-2    399.0\n",
       "7-3    399.0\n",
       "7-4    399.0\n",
       "4-0    388.0\n",
       "6-0    388.0\n",
       "7-0    388.0\n",
       "4-2    359.0\n",
       "4-3    359.0\n",
       "Name: cena, dtype: float64"
      ]
     },
     "execution_count": 43,
     "metadata": {},
     "output_type": "execute_result"
    }
   ],
   "source": [
    "df[df['odkud'].str.contains('Brn') & df['kam'].str.contains('Pra')].groupby('obdobi')['cena'].median().nlargest(10)"
   ]
  },
  {
   "cell_type": "code",
   "execution_count": 44,
   "id": "2400dbec-1d44-4ce9-98d0-f12b8b82fa5f",
   "metadata": {},
   "outputs": [
    {
     "data": {
      "text/plain": [
       "obdobi\n",
       "5-3    279.0\n",
       "3-3    269.0\n",
       "4-3    269.0\n",
       "4-4    269.0\n",
       "5-2    269.0\n",
       "5-4    269.0\n",
       "6-2    269.0\n",
       "6-4    269.0\n",
       "7-3    269.0\n",
       "7-4    269.0\n",
       "Name: cena, dtype: float64"
      ]
     },
     "execution_count": 44,
     "metadata": {},
     "output_type": "execute_result"
    }
   ],
   "source": [
    "df[df['odkud'].str.contains('Brn') & df['kam'].str.contains('Ostra')].groupby('obdobi')['cena'].median().nlargest(10)"
   ]
  },
  {
   "cell_type": "code",
   "execution_count": 45,
   "id": "943a77e6-cdd4-41f5-8fd5-4701660b9f37",
   "metadata": {},
   "outputs": [
    {
     "data": {
      "text/plain": [
       "obdobi\n",
       "7-3    279.0\n",
       "7-4    279.0\n",
       "1-1    269.0\n",
       "2-1    269.0\n",
       "3-1    269.0\n",
       "4-1    269.0\n",
       "5-3    269.0\n",
       "6-1    269.0\n",
       "4-3    254.0\n",
       "5-1    254.0\n",
       "Name: cena, dtype: float64"
      ]
     },
     "execution_count": 45,
     "metadata": {},
     "output_type": "execute_result"
    }
   ],
   "source": [
    "df[df['odkud'].str.contains('Ostra') & df['kam'].str.contains('Brn')].groupby('obdobi')['cena'].median().nlargest(10)"
   ]
  },
  {
   "cell_type": "code",
   "execution_count": 46,
   "id": "40632a68-e76f-4990-9c56-53cdab6ae600",
   "metadata": {},
   "outputs": [
    {
     "name": "stderr",
     "output_type": "stream",
     "text": [
      "C:\\Users\\micha\\AppData\\Local\\Temp\\ipykernel_37748\\1717840207.py:1: FutureWarning: The default of observed=False is deprecated and will be changed to True in a future version of pandas. Pass observed=False to retain current behavior or observed=True to adopt the future default and silence this warning.\n",
      "  df.groupby([\"prodejce\",\"odkud\",\"kam\"]).size().nlargest(200)\n"
     ]
    },
    {
     "data": {
      "text/plain": [
       "prodejce  odkud                                  kam                                    \n",
       "ČD        Praha hl.n.                            Brno hl.n.                                 51971\n",
       "          Brno hl.n.                             Praha hl.n.                                50541\n",
       "          Praha hl.n.                            Ostrava hl.n.                              41063\n",
       "          Ostrava hl.n.                          Praha hl.n.                                38732\n",
       "RJ        Brno                                   Praha                                      26571\n",
       "          Praha                                  Brno                                       24332\n",
       "          Ostrava                                Praha                                      16373\n",
       "          Praha                                  Ostrava                                    13701\n",
       "ARR       Liberec                                Pardubice hl.n.                            13255\n",
       "          Pardubice hl.n.                        Liberec                                    13185\n",
       "ČD        Praha hl.n.                            Bratislava hl.st.                          12211\n",
       "          Bratislava hl.st.                      Praha hl.n.                                11958\n",
       "          Praha hl.n.                            Wien Hbf                                    9809\n",
       "          Wien Hbf                               Praha hl.n.                                 9334\n",
       "LE        Praha hl.n.                            Ostrava hl.n.                               8501\n",
       "                                                 Ostrava-Svinov                              8501\n",
       "          Ostrava hl.n.                          Praha hl.n.                                 8324\n",
       "          Ostrava-Svinov                         Praha hl.n.                                 8324\n",
       "ČD        Praha hl.n.                            Warszawa Centralna                          8291\n",
       "                                                 Bruxelles-Midi                              8141\n",
       "ARR       Liberec                                Ústí nad Labem hlavní nádraží               7665\n",
       "ČD        Praha hl.n.                            Budapest-Nyugati pu                         7619\n",
       "          Warszawa Centralna                     Praha hl.n.                                 7536\n",
       "ARR       Praha hl.n.                            České Budějovice                            7373\n",
       "          České Budějovice                       Praha hl.n.                                 7220\n",
       "          Ústí nad Labem hlavní nádraží          Liberec                                     6990\n",
       "ČD        Budapest-Nyugati pu                    Praha hl.n.                                 6911\n",
       "          Praha hl.n.                            Budapest-Kelenföld                          6534\n",
       "ARR       Tanvald                                Praha hl.n.                                 6517\n",
       "RJ        Brno                                   Vídeň                                       6424\n",
       "ČD        Bruxelles-Midi                         Praha hl.n.                                 6149\n",
       "RJ        Vídeň                                  Brno                                        5921\n",
       "ČD        Budapest-Kelenföld                     Praha hl.n.                                 5417\n",
       "RJ        Brno                                   Ostrava                                     5235\n",
       "          Ostrava                                Brno                                        4907\n",
       "ARR       Praha hl.n.                            Tanvald                                     4905\n",
       "ČD        Ústí n.L.hl.n.                         Dresden Hbf                                 3637\n",
       "          Dresden Hbf                            Ústí n.L.hl.n.                              3547\n",
       "          Plzeň hl.n.                            Slavonice                                   3338\n",
       "RJ        Praha                                  Budapešť                                    3325\n",
       "ČD        Pardubice hl.n.                        Košice                                      3164\n",
       "          Slavonice                              Plzeň hl.n.                                 3093\n",
       "          Praha hl.n.                            Ljubljana                                   2836\n",
       "                                                 Krakow Glowny                               2803\n",
       "RJ        Praha                                  Bratislava                                  2742\n",
       "ČD        Ljubljana                              Praha hl.n.                                 2669\n",
       "          Krakow Glowny                          Praha hl.n.                                 2519\n",
       "          Brno hl.n.                             Ljubljana                                   2260\n",
       "RJ        Praha                                  Vídeň                                       2029\n",
       "ČD        Ljubljana                              Brno hl.n.                                  1919\n",
       "          Berlin Hbf                             Bruxelles-Midi                              1835\n",
       "          Ostrava hl.n.                          Karlovy Vary                                1813\n",
       "          Berlin Hbf                             Warszawa Centralna                          1799\n",
       "          Praha-Holešovice                       Ostrava hl.n.                               1772\n",
       "          Köln Messe/Deutz                       Bruxelles-Midi                              1702\n",
       "          Praha hl.n.                            Bratislava-Petržalka                        1702\n",
       "RJ        Vídeň                                  Praha                                       1686\n",
       "ČD        Košice                                 Pardubice hl.n.                             1590\n",
       "          Karlovy Vary                           Ostrava hl.n.                               1516\n",
       "          Ostrava hl.n.                          Gdansk Glowny                               1502\n",
       "RJ        Bratislava                             Praha                                       1485\n",
       "ČD        Praha hl.n.                            Wien Franz-Josefs-Bahnhof                   1467\n",
       "          Bern                                   Praha hl.n.                                 1463\n",
       "          Wien Franz-Josefs-Bahnhof              Praha hl.n.                                 1432\n",
       "          Ostrava hl.n.                          Praha-Holešovice                            1405\n",
       "          Hamburg Hbf                            Brno hl.n.                                  1404\n",
       "          Ostrava-Svinov                         Praha hl.n.                                 1378\n",
       "RJ        Praha                                  Košice                                      1371\n",
       "ČD        Praha hl.n.                            Ostrava-Svinov                              1366\n",
       "          Brno hl.n.                             Hamburg Hbf                                 1349\n",
       "          Praha-Holešovice                       Brno hl.n.                                  1345\n",
       "          Olomouc hl.n.                          Przemysl Gl.                                1324\n",
       "          České Budějovice                       Zürich HB                                   1314\n",
       "LE        Pardubice hl.n.                        Košice                                      1282\n",
       "ČD        Praha hl.n.                            Bern                                        1281\n",
       "          Brno hl.n.                             Praha-Holešovice                            1272\n",
       "          Praha hl.n.                            Berlin Hbf                                  1271\n",
       "LE        Košice                                 Pardubice hl.n.                             1244\n",
       "ČD        Köln Messe/Deutz Gl.11-12              Praha hl.n.                                 1217\n",
       "          Gdansk Glowny                          Ostrava hl.n.                               1163\n",
       "          Berlin Hbf                             Praha hl.n.                                 1140\n",
       "          Budapest-Deli pu                       Praha hl.n.                                 1101\n",
       "          Praha-Holešovice                       Bratislava hl.st.                           1046\n",
       "          Bratislava-Petržalka                   Praha hl.n.                                  960\n",
       "          Bratislava hl.st.                      Praha-Holešovice                             892\n",
       "          Plzeň hl.n.                            Ostrava hl.n.                                861\n",
       "          Przemysl Gl.                           Olomouc hl.n.                                844\n",
       "          Praha hl.n.                            Zagreb Glavni kolodvor                       819\n",
       "          Bruxelles-Midi                         Praha-Holešovice                             801\n",
       "          Praha-Holešovice                       Budapest-Nyugati pu                          785\n",
       "RJ        Budapešť                               Praha                                        745\n",
       "ČD        Praha-Holešovice                       Bruxelles-Midi                               698\n",
       "RJ        Praha                                  Krakov                                       686\n",
       "ČD        Budapest-Nyugati pu                    Praha-Holešovice                             685\n",
       "          Praha hl.n.                            Berlin Südkreuz                              652\n",
       "          Plzeň, , Terminál Hlavní nádraží       Karlovy Vary, , terminál                     649\n",
       "          Praha-Holešovice                       Wien Hbf                                     623\n",
       "          Wien Hbf                               Praha-Holešovice                             601\n",
       "          Flughafen Wien                         Praha hl.n.                                  582\n",
       "          Praha hl.n.                            Flughafen Wien                               536\n",
       "          München Hbf Gl.27-36                   Bern                                         535\n",
       "          Amsterdam Centraal                     Praha hl.n.                                  510\n",
       "          Praha hl.n.                            Amsterdam Centraal                           501\n",
       "          Berlin Hbf                             Amsterdam Centraal                           487\n",
       "          Praha hl.n.                            Wroclaw Glowny                               436\n",
       "          Wroclaw Glowny                         Praha hl.n.                                  433\n",
       "          Harmica                                Zagreb Glavni kolodvor                       427\n",
       "RJ        Praha                                  Čop                                          394\n",
       "          Krakov                                 Praha                                        352\n",
       "LE        Praha hl.n.                            Kraków Główny                                327\n",
       "          Kraków Główny                          Praha hl.n.                                  311\n",
       "ČD        Zürich HB                              České Budějovice                             303\n",
       "          München Hbf Gl.27-36                   Zürich HB                                    293\n",
       "          Praha-Holešovice                       Ljubljana                                    287\n",
       "RJ        Olomouc                                Przemysl                                     281\n",
       "          Košice                                 Praha                                        274\n",
       "ČD        Ljubljana                              Praha-Holešovice                             237\n",
       "RJ        Przemysl                               Olomouc                                      233\n",
       "ČD        Bruxelles-Central                      Praha hl.n.                                  207\n",
       "          Praha-Holešovice                       Krakow Glowny                                191\n",
       "          Bern                                   Praha-Holešovice                             189\n",
       "          Praha-Holešovice                       Warszawa Centralna                           178\n",
       "                                                 Zagreb Glavni kolodvor                       172\n",
       "          Krakow Glowny                          Praha-Holešovice                             169\n",
       "          Praha hl.n.                            Berlin Ostbahnhof                            155\n",
       "          Warszawa Centralna                     Praha-Holešovice                             150\n",
       "          Praha hl.n.                            Wien Stadlau                                 141\n",
       "          Wien Stadlau                           Praha hl.n.                                  139\n",
       "          München Hbf                            Praha hl.n.                                  136\n",
       "          Praha-Holešovice                       Bern                                         135\n",
       "RJ        Čop                                    Praha                                        126\n",
       "ČD        Berlin Hbf                             Amsterdam Zuid                               122\n",
       "LE        Praha-Libeň                            Ostrava hl.n.                                117\n",
       "                                                 Ostrava-Svinov                               117\n",
       "ČD        Praha-Dejvice                          Bratislava hl.st.                            112\n",
       "LE        Ostrava hl.n.                          Praha-Libeň                                  101\n",
       "          Ostrava-Svinov                         Praha-Libeň                                  101\n",
       "ČD        Wien Hbf (Bahnsteige 1-2)              Praha hl.n.                                   96\n",
       "          Ostrava-Svinov                         Karlovy Vary                                  92\n",
       "          Praha hl.n.                            Amsterdam Zuid                                92\n",
       "          Karlovy Vary                           Ostrava-Svinov                                88\n",
       "          Praha-Dejvice                          Ostrava hl.n.                                 86\n",
       "          Železná Ruda-Alžbětín                  Praha-Smíchov                                 76\n",
       "          Praha-Dejvice                          Warszawa Centralna                            75\n",
       "          Praha-Smíchov                          Ostrava hl.n.                                 73\n",
       "          Praha hl.n.                            Berlin-Lichtenberg                            72\n",
       "          Frankfurt(Main)Hbf                     Bruxelles-Midi                                70\n",
       "          Praha hl.n.                            Bruxelles-Central                             64\n",
       "                                                 Krakow Business Park                          63\n",
       "          Berlin Gesundbrunnen                   Praha hl.n.                                   56\n",
       "          Leipzig Hbf                            Praha hl.n.                                   55\n",
       "          Berlin-Lichtenberg                     Praha hl.n.                                   51\n",
       "          Praha hl.n.                            Wien Stadlau Frachtenbahnhof                  51\n",
       "          München Hbf                            České Budějovice                              48\n",
       "          Wien Stadlau Frachtenbahnhof           Praha hl.n.                                   43\n",
       "          Praha hl.n.                            Berlin Gesundbrunnen                          39\n",
       "          Berlin Hbf                             Brno hl.n.                                    38\n",
       "          Praha-Dejvice                          Budapest-Kelenföld                            38\n",
       "          Praha hl.n.                            Warszawa Wschodnia                            37\n",
       "          Amsterdam Zuid                         Praha hl.n.                                   36\n",
       "          Krakow Lotnisko                        Praha hl.n.                                   35\n",
       "          Amsterdam Centraal                     Praha-Holešovice                              34\n",
       "          Praha-Holešovice                       Amsterdam Centraal                            33\n",
       "          Praha hl.n.                            Berlin Betriebsbf Schöneweide                 32\n",
       "                                                 Krakow Mydlniki                               30\n",
       "          Berlin Westkreuz                       Praha hl.n.                                   29\n",
       "          Praha-Dejvice                          Wien Hbf                                      27\n",
       "          Ostrava hl.n.                          Karlovy Vary dolní n.                         24\n",
       "          Praha hl.n.                            Berlin-Lichterfelde Ost                       23\n",
       "          Praha-Smíchov                          Bratislava hl.st.                             23\n",
       "          Berlin Hbf                             Bruxelles-Central                             20\n",
       "          Bruxelles-Luxembourg                   Praha hl.n.                                   20\n",
       "          Plzeň hl.n.                            Ostrava-Svinov                                20\n",
       "          Chlumčany u Dobřan                     Slavonice                                     19\n",
       "          Praha hl.n.                            Berlin Zoologischer Garten                    18\n",
       "          Praha-Dejvice                          Budapest-Nyugati pu                           18\n",
       "          Praha-Smíchov                          Brno hl.n.                                    18\n",
       "          Wroclaw Glowny                         Praha-Holešovice                              18\n",
       "          Amsterdam Bijlmer ArenA                Praha hl.n.                                   17\n",
       "          Praha-Dejvice                          Ljubljana                                     17\n",
       "          Šťáhlavy                               Slavonice                                     16\n",
       "          Pirna                                  Dresden Hbf                                   14\n",
       "          Praha-Smíchov                          Bruxelles-Midi                                14\n",
       "          Ústí n.L.hl.n.                         Dresden-Neustadt                              14\n",
       "          Berlin Betriebsbf Schöneweide          Praha hl.n.                                   13\n",
       "          Praha-Dejvice                          Krakow Glowny                                 13\n",
       "                                                 Zagreb Glavni kolodvor                        13\n",
       "          Praha-Holešovice                       Wroclaw Glowny                                13\n",
       "          Wien Westbahnhof                       Praha hl.n.                                   13\n",
       "          Praha-Libeň                            Ostrava hl.n.                                 12\n",
       "          Berlin Ostkreuz (S)                    Praha hl.n.                                   10\n",
       "          Hamburg-Harburg                        Brno hl.n.                                    10\n",
       "          Praha-Dejvice                          Brno hl.n.                                    10\n",
       "          Praha-Smíchov                          Warszawa Centralna                            10\n",
       "          Zagreb Glavni kolodvor                 Praha hl.n.                                   10\n",
       "          Flughafen BER - Terminal 1-2 (S-Bahn)  Flughafen BER - Terminal 5 (Schönefeld)        9\n",
       "          Harmica                                Praha hl.n.                                    9\n",
       "          Ostrava hl.n.                          Praha-Libeň                                    8\n",
       "          Praha-Smíchov                          Budapest-Nyugati pu                            8\n",
       "          Berlin Gesundbrunnen                   Praha-Holešovice                               7\n",
       "dtype: int64"
      ]
     },
     "execution_count": 46,
     "metadata": {},
     "output_type": "execute_result"
    }
   ],
   "source": [
    "df.groupby([\"prodejce\",\"odkud\",\"kam\"]).size().nlargest(200)"
   ]
  },
  {
   "cell_type": "code",
   "execution_count": 47,
   "id": "f9de57ad-7927-4e98-9253-ef8009f0802c",
   "metadata": {},
   "outputs": [
    {
     "name": "stdout",
     "output_type": "stream",
     "text": [
      "ČD: Praha hl.n.-Brno hl.n.\n",
      "Nejmenší počet přestupů: 0.\n",
      "Nejrychlejší jízdní doba: 149.0 min.\n"
     ]
    },
    {
     "name": "stderr",
     "output_type": "stream",
     "text": [
      "C:\\Users\\micha\\AppData\\Local\\Temp\\ipykernel_37748\\2732313708.py:14: UserWarning: Boolean Series key will be reindexed to match DataFrame index.\n",
      "  dfc = dfc[(dfc['prestupy'] == minimum_prestupu) & (df['jizdni_doba'] <= (minimum_casu * nasobek))]\n"
     ]
    },
    {
     "name": "stdout",
     "output_type": "stream",
     "text": [
      "Celkem řádků: 24196\n",
      "\n",
      "RJ: Praha-Brno\n",
      "Nejmenší počet přestupů: 0.\n",
      "Nejrychlejší jízdní doba: 148.0 min.\n"
     ]
    },
    {
     "name": "stderr",
     "output_type": "stream",
     "text": [
      "C:\\Users\\micha\\AppData\\Local\\Temp\\ipykernel_37748\\2732313708.py:14: UserWarning: Boolean Series key will be reindexed to match DataFrame index.\n",
      "  dfc = dfc[(dfc['prestupy'] == minimum_prestupu) & (df['jizdni_doba'] <= (minimum_casu * nasobek))]\n"
     ]
    },
    {
     "name": "stdout",
     "output_type": "stream",
     "text": [
      "Celkem řádků: 12023\n",
      "\n",
      "RJ: Brno-Ostrava\n",
      "Nejmenší počet přestupů: 0.\n",
      "Nejrychlejší jízdní doba: 128.0 min.\n"
     ]
    },
    {
     "name": "stderr",
     "output_type": "stream",
     "text": [
      "C:\\Users\\micha\\AppData\\Local\\Temp\\ipykernel_37748\\2732313708.py:14: UserWarning: Boolean Series key will be reindexed to match DataFrame index.\n",
      "  dfc = dfc[(dfc['prestupy'] == minimum_prestupu) & (df['jizdni_doba'] <= (minimum_casu * nasobek))]\n"
     ]
    },
    {
     "name": "stdout",
     "output_type": "stream",
     "text": [
      "Celkem řádků: 5392\n",
      "\n",
      "ARR: Pardubice-Liberec\n",
      "Nejmenší počet přestupů: 0.\n",
      "Nejrychlejší jízdní doba: 165.0 min.\n"
     ]
    },
    {
     "name": "stderr",
     "output_type": "stream",
     "text": [
      "C:\\Users\\micha\\AppData\\Local\\Temp\\ipykernel_37748\\2732313708.py:14: UserWarning: Boolean Series key will be reindexed to match DataFrame index.\n",
      "  dfc = dfc[(dfc['prestupy'] == minimum_prestupu) & (df['jizdni_doba'] <= (minimum_casu * nasobek))]\n"
     ]
    },
    {
     "name": "stdout",
     "output_type": "stream",
     "text": [
      "Celkem řádků: 5507\n",
      "\n",
      "ARR: Praha-Budějovice\n",
      "Nejmenší počet přestupů: 0.\n",
      "Nejrychlejší jízdní doba: 192.0 min.\n"
     ]
    },
    {
     "name": "stderr",
     "output_type": "stream",
     "text": [
      "C:\\Users\\micha\\AppData\\Local\\Temp\\ipykernel_37748\\2732313708.py:14: UserWarning: Boolean Series key will be reindexed to match DataFrame index.\n",
      "  dfc = dfc[(dfc['prestupy'] == minimum_prestupu) & (df['jizdni_doba'] <= (minimum_casu * nasobek))]\n"
     ]
    },
    {
     "name": "stdout",
     "output_type": "stream",
     "text": [
      "Celkem řádků: 3820\n",
      "\n",
      "ARR: Pardubice-Liberec\n",
      "Nejmenší počet přestupů: 0.\n",
      "Nejrychlejší jízdní doba: 165.0 min.\n"
     ]
    },
    {
     "name": "stderr",
     "output_type": "stream",
     "text": [
      "C:\\Users\\micha\\AppData\\Local\\Temp\\ipykernel_37748\\2732313708.py:14: UserWarning: Boolean Series key will be reindexed to match DataFrame index.\n",
      "  dfc = dfc[(dfc['prestupy'] == minimum_prestupu) & (df['jizdni_doba'] <= (minimum_casu * nasobek))]\n"
     ]
    },
    {
     "name": "stdout",
     "output_type": "stream",
     "text": [
      "Celkem řádků: 5507\n",
      "\n",
      "ČD: Karlovy-Ostrava\n",
      "Nejmenší počet přestupů: 0.\n",
      "Nejrychlejší jízdní doba: 385.0 min.\n",
      "Celkem řádků: 283\n",
      "\n"
     ]
    },
    {
     "name": "stderr",
     "output_type": "stream",
     "text": [
      "C:\\Users\\micha\\AppData\\Local\\Temp\\ipykernel_37748\\2732313708.py:14: UserWarning: Boolean Series key will be reindexed to match DataFrame index.\n",
      "  dfc = dfc[(dfc['prestupy'] == minimum_prestupu) & (df['jizdni_doba'] <= (minimum_casu * nasobek))]\n"
     ]
    }
   ],
   "source": [
    "cd_brno = filtr(\"ČD\",\"Praha hl.n.\",\"Brno hl.n.\")\n",
    "cd_brno = pd.Series(cd_brno.groupby('predstih_d')['cena'].agg(lambda x: [x.max(), x.min(), x.median()]), name=\"ČD Praha-Brno\").head(30)\n",
    "rj_brno = filtr(\"RJ\",\"Praha\",\"Brno\")\n",
    "rj_brno = pd.Series(rj_brno.groupby('predstih_d')['cena'].agg(lambda x: [x.max(), x.min(), x.median()]), name=\"RJ Praha-Brno\").head(30)\n",
    "rj_brnova = filtr(\"RJ\",\"Brno\",\"Ostrava\")\n",
    "rj_brnova = pd.Series(rj_brnova.groupby('predstih_d')['cena'].agg(lambda x: [x.max(), x.min(), x.median()]), name=\"RJ Brno-Ostrava\").head(30)\n",
    "arr_libpa = filtr(\"ARR\",\"Pardubice\",\"Liberec\")\n",
    "arr_libpa = pd.Series(arr_libpa.groupby('predstih_d')['cena'].agg(lambda x: [x.max(), x.min(), x.median()]), name=\"ARR Liberec-Pardubice\").head(30)\n",
    "arr_bud = filtr(\"ARR\",\"Praha\",\"Budějovice\")\n",
    "arr_bud = pd.Series(arr_bud.groupby('predstih_d')['cena'].agg(lambda x: [x.max(), x.min(), x.median()]), name=\"ARR Praha-Budějovice\").head(30)\n",
    "arr_libpa = filtr(\"ARR\",\"Pardubice\",\"Liberec\")\n",
    "arr_libpa = pd.Series(arr_libpa.groupby('predstih_d')['cena'].agg(lambda x: [x.max(), x.min(), x.median()]), name=\"ARR Liberec-Pardubice\").head(30)\n",
    "cd_kv = filtr(\"ČD\",\"Karlovy\",\"Ostrava\")\n",
    "cd_kv = pd.Series(cd_kv.groupby('predstih_d')['cena'].agg(lambda x: [x.max(), x.min(), x.median()]), name=\"ČD Ostrava-Karlovy Vary\").head(30)\n",
    "ukazat = [cd_brno, rj_brno, rj_brnova, arr_libpa, arr_bud, cd_kv]\n",
    "len(ukazat)\n",
    "for u in ukazat:\n",
    "    u.name = u.name.replace(\"-\",\" &#8596; \")\n",
    "    u.index = u.index.map(lambda x: f\"{x} d\")"
   ]
  },
  {
   "cell_type": "code",
   "execution_count": 48,
   "id": "acfdd32e-e545-46f8-8950-06f1ab56eb0b",
   "metadata": {},
   "outputs": [
    {
     "data": {
      "text/plain": [
       "['#173a79', '#fabb00', '#fabb00', '#e68014', '#e68014', '#173a79']"
      ]
     },
     "execution_count": 48,
     "metadata": {},
     "output_type": "execute_result"
    }
   ],
   "source": [
    "farby = []\n",
    "for u in ukazat:\n",
    "    if \"ČD\" in u.name:\n",
    "        farby.append(\"#173a79\")\n",
    "    elif \"RJ\" in u.name:\n",
    "        farby.append(\"#fabb00\")\n",
    "    elif \"LE\" in u.name:\n",
    "        farby.append(\"#010202\")\n",
    "    elif \"ARR\" in u.name:\n",
    "        farby.append(\"#e68014\")\n",
    "farby"
   ]
  },
  {
   "cell_type": "code",
   "execution_count": 49,
   "id": "b9167957-1b11-4478-b056-0af7e45ba26a",
   "metadata": {},
   "outputs": [],
   "source": [
    "def irozhlas_graf(\n",
    "    carovy=[],\n",
    "    sloupcovy=[],\n",
    "    vodorovny=[],\n",
    "    rozpeti=[],\n",
    "    procenta=[],\n",
    "    skryte=[],\n",
    "    barvy=[\n",
    "            \"#b2e061\",  ## světle zelená (light green)\n",
    "            \"#7eb0d5\",  ## světle modrá (light blue)\n",
    "            \"#fd7f6f\",  ## světle červená (light red)\n",
    "            \"#bd7ebe\",  ## světle fialová (light purple)\n",
    "            \"#ffb55a\",  ## oranžová (orange)\n",
    "            \"#ffee65\",  ## žlutá (yellow)\n",
    "            \"#beb9db\",  ## levandulová (lavender)\n",
    "            \"#fdcce5\",  ## skoro černá\n",
    "            \"#8bd3c7\",  ## světle tyrkysová (light turquoise),\n",
    "        \"red\",\n",
    "        \"blue\",\n",
    "        \"purple\"\n",
    "        ],\n",
    "    histogram=False,\n",
    "    max_procenta=100,\n",
    "    target=\"\",\n",
    "    titulek=\"\",\n",
    "    podtitulek=\"\",\n",
    "    naproti=[],\n",
    "    osay=\" \",\n",
    "    osay2=\" \",\n",
    "    osaymin=None,\n",
    "    osaymax=None,\n",
    "    kredity=[\"zdroj dat a autorstvo\", \"url odkazu\"],\n",
    "    zaokrouhleni=1,\n",
    "    prvni=True,\n",
    "    skladany=False,\n",
    "    naopak=False,\n",
    "    vzhurunohama=False,\n",
    "    skrytnuly=False,\n",
    "):\n",
    "    \"\"\"\n",
    "    Funkce vygeneruje HighCharts graf z pandas Series (jedné nebo více).\n",
    "\n",
    "    iROZHLAS-friendly barvy:\n",
    "    - \"#b2e061\" světle zelená\n",
    "    - \"#7eb0d5\" světle modrá\n",
    "    - \"#fd7f6f\" světle červená\n",
    "    - \"#bd7ebe\" světle fialová\n",
    "    - \"#ffb55a\" oranžová\n",
    "    - \"#ffee65\" žlutá\n",
    "    - \"#beb9db\" levandulová\n",
    "    - \"#fdcce5\" skoro černá\n",
    "    - \"#8bd3c7\" světle tyrkysová\n",
    "    \"\"\"\n",
    "\n",
    "    import os\n",
    "    import pandas as pd\n",
    "    from highcharts_core.chart import Chart\n",
    "    from highcharts_core.options.series.area import LineSeries\n",
    "    from highcharts_core.options.series.bar import ColumnSeries\n",
    "    from highcharts_core.options.series.bar import BarSeries\n",
    "    from highcharts_core.options.series.area import AreaRangeSeries\n",
    "    from highcharts_core.options.series.histogram import HistogramSeries\n",
    "    from highcharts_core.options.legend import Legend\n",
    "    from highcharts_core.options.title import Title\n",
    "    from highcharts_core.options.subtitle import Subtitle\n",
    "    from highcharts_core.options.credits import Credits\n",
    "\n",
    "    pocitadlo_barev = 0\n",
    "    \n",
    "    nastaveni = {}\n",
    "\n",
    "    if prvni:\n",
    "        zdrojaky = f\"\"\"<script src=\"https://code.highcharts.com/highcharts.js\"></script><script src=\"https://code.highcharts.com/highcharts-more.js\"></script><script src=\"https://code.highcharts.com/modules/exporting.js\"></script><script src=\"https://code.highcharts.com/modules/export-data.js\"></script><script src=\"https://code.highcharts.com/modules/accessibility.js\"></script>\n",
    "        <link\n",
    "  rel=\"stylesheet\"\n",
    "  href=\"https://fonts.googleapis.com/css?family=Noticia+Text\"\n",
    "/>\n",
    "<link\n",
    "  href=\"https://fonts.googleapis.com/css2?family=Asap\"\n",
    "  rel=\"stylesheet\"\n",
    "/>\n",
    "<link\n",
    "  href=\"https://fonts.googleapis.com/css2?family=Roboto\"\n",
    "  rel=\"stylesheet\"\n",
    "/>\n",
    "<link\n",
    "  rel=\"stylesheet\"\n",
    "  href=\"https://data.irozhlas.cz/hhighcharts-template/style.css\"\n",
    "/>\n",
    "<link\n",
    "  rel=\"stylesheet\"\n",
    "  href=\"https://data.irozhlas.cz/hhighcharts-template/highcharts-style.css\"\n",
    "/>\n",
    "<style type=\"text/css\">text{{font-family:\"Asap\"!important}}.paragraph{{font-family:\"Noticia text\"!important}}.href{{color:#666;fill:#666}}.highcharts-title{{font-family:\"Noticia text\"!important;font-weight:700!important;text-align:left!important;left:10px!important}}.highcharts-subtitle{{text-align:left!important;font-size:.95rem!important;left:10px!important;font-family:\"Asap\"!important}}.highcharts-data-labels text{{font-size:.85rem!important}}.highcharts-axis-labels text{{font-size:.85rem!important}}text.highcharts-plot-line-label{{font-size:.85rem!important;fill:#666}}text.highcharts-plot-band-label{{font-size:.85rem!important;fill:#666}}text.highcharts-credits{{font-size:.75rem!important}}.highcharts-tooltip span{{font-family:\"Asap\"!important}}.axis-label-on-tick{{fill:#aaa;color:#aaa}}.mock-empty-line{{fill:#fff;color:#fff}}</style>\"\"\"\n",
    "    else:\n",
    "        zdrojaky = \"\"\n",
    "\n",
    "    pred = f\"\"\"{zdrojaky}\n",
    "        <figure id=\"{target}\">\n",
    "        <div id=\"container\"></div>\n",
    "        </figure>\n",
    "        <script>\"\"\"\n",
    "\n",
    "    if len(carovy) > 0:\n",
    "        categories = carovy[0].index.to_list()\n",
    "    if len(sloupcovy) > 0:\n",
    "        categories = sloupcovy[0].index.to_list()\n",
    "    if len(vodorovny) > 0:\n",
    "        categories = vodorovny[0].index.to_list()\n",
    "    if len(rozpeti) > 0:\n",
    "        categories = rozpeti[0].index.to_list()\n",
    "\n",
    "    categories = [str(x) for x in categories]\n",
    "\n",
    "    nastaveni[\"xAxis\"] = {\"categories\": categories, \"min\": 0}\n",
    "    nastaveni[\"yAxis\"] = [\n",
    "        {\n",
    "            \"title\": {\"text\": osay},\n",
    "            \"reversed\": vzhurunohama,\n",
    "            \"max\": osaymax,\n",
    "            \"min\": osaymin,\n",
    "        }\n",
    "    ]\n",
    "\n",
    "    if skladany:\n",
    "        if len(sloupcovy) > 0:\n",
    "            nastaveni[\"plotOptions\"] = {\"column\": {\"stacking\": \"normal\"}}\n",
    "        if len(vodorovny) > 0:\n",
    "            nastaveni[\"plotOptions\"] = {\"bar\": {\"stacking\": \"normal\"}}\n",
    "    if histogram:\n",
    "        nastaveni[\"plotOptions\"] = {\n",
    "            \"column\": {\n",
    "                \"pointPadding\": 0,\n",
    "                \"borderWidth\": 0,\n",
    "                \"groupPadding\": 0,\n",
    "                \"shadow\": False,\n",
    "            }\n",
    "        }\n",
    "\n",
    "    \n",
    "    if len(procenta) > 0:\n",
    "        osa_procent = {\n",
    "            \"title\": {\"text\": osay2},\n",
    "            \"max\": max_procenta,\n",
    "            \"min\": 0,\n",
    "            \"labels\": {\"format\": \"{value} %\"},\n",
    "        }\n",
    "\n",
    "        if len(procenta) != len(carovy) + len(sloupcovy):\n",
    "            osa_procent[\"opposite\"] = True\n",
    "            druha_osa = 1\n",
    "            nastaveni[\"yAxis\"].append(osa_procent)\n",
    "            nastaveni[\"alignTicks\"] = False\n",
    "        if len(procenta) == len(carovy) + len(sloupcovy):\n",
    "            nastaveni[\"yAxis\"] = [osa_procent]\n",
    "            druha_osa = 0\n",
    "\n",
    "    if len(naproti) > 0:\n",
    "        druha_osa = 1\n",
    "        druha_osa_y = {\n",
    "            \"title\": {\"text\": osay2},\n",
    "            \"opposite\": True,\n",
    "            \"max\": naproti[0].max(),\n",
    "            \"min\": 0,\n",
    "        }\n",
    "        nastaveni[\"yAxis\"].append(druha_osa_y)\n",
    "\n",
    "    my_chart = Chart(container=target, options=nastaveni)\n",
    "\n",
    "    procenta = [p.name for p in procenta]\n",
    "    naproti = [n.name for n in naproti]\n",
    "    skryte = [s.name for s in skryte]\n",
    "\n",
    "    def vykresleni(serie, typ):\n",
    "\n",
    "        pocitadlo_barev = 0\n",
    "        \n",
    "        for s in serie:\n",
    "            popisek = s.name\n",
    "            print(popisek)\n",
    "\n",
    "            if s.name in skryte:\n",
    "                viditelnost = False\n",
    "            else:\n",
    "                viditelnost = True\n",
    "\n",
    "            ktera_osa = 0\n",
    "            if s.name in naproti:\n",
    "                ktera_osa = druha_osa\n",
    "\n",
    "            if s.name in procenta:\n",
    "                s = [round(x * 100, zaokrouhleni) for x in s.fillna(0).to_list()]\n",
    "                my_chart.add_series(\n",
    "                    typ(\n",
    "                        data=s,\n",
    "                        visible=viditelnost,\n",
    "                        name=popisek,\n",
    "                        y_axis=druha_osa,\n",
    "                        tooltip={\"valueSuffix\": \" %\"},\n",
    "                    )\n",
    "                )\n",
    "\n",
    "            if any(s.name == x.name for x in rozpeti):\n",
    "                line_id = f\"line_{popisek}\"\n",
    "                print(line_id)\n",
    "                my_chart.add_series(\n",
    "                    LineSeries(\n",
    "                        data=s.apply(lambda x: x[2]).fillna(0).to_list(),\n",
    "                        visible=viditelnost,\n",
    "                        id = line_id,\n",
    "                        name=popisek,\n",
    "                        y_axis=ktera_osa,\n",
    "                        color = barvy[pocitadlo_barev],\n",
    "                        tooltip={\"valuePrefix\": \"střední: \",\"valueSuffix\": \" Kč\"},\n",
    "                    ))\n",
    "                my_chart.add_series(\n",
    "                    AreaRangeSeries(\n",
    "                        data=s.apply(lambda x: x[0:2]).fillna(0).to_list(),\n",
    "                        visible=viditelnost,\n",
    "                        type='arearange',\n",
    "                        name=popisek,\n",
    "                        linkedto = line_id,\n",
    "                        y_axis=ktera_osa,\n",
    "                        color = barvy[pocitadlo_barev],\n",
    "                        fillOpacity=0.3,\n",
    "                        tooltip={\"valueSuffix\": \" Kč\"},\n",
    "                    lineWidth=0,\n",
    "                    marker={\"enabled\": False}\n",
    "                    ))\n",
    "                pocitadlo_barev += 1\n",
    "\n",
    "   #         else:\n",
    "                #my_chart.add_series(\n",
    "                    #typ(\n",
    "                     #   data=s.fillna(0).to_list(),\n",
    "                    #    visible=viditelnost,\n",
    "                   #     name=popisek,\n",
    "                  #      y_axis=ktera_osa,\n",
    "                 #   )\n",
    "                #)\n",
    "\n",
    "    if len(sloupcovy) > 0:\n",
    "        vykresleni(sloupcovy, ColumnSeries)\n",
    "    if len(carovy) > 0:\n",
    "        vykresleni(carovy, LineSeries)\n",
    "    if len(vodorovny) > 0:\n",
    "        vykresleni(vodorovny, BarSeries)\n",
    "    if len(rozpeti) > 0:\n",
    "        vykresleni(rozpeti, AreaRangeSeries)\n",
    "\n",
    "    my_chart.options.colors = barvy\n",
    "\n",
    "    if naopak:\n",
    "        my_chart.options.legend = Legend(reversed=True)\n",
    "\n",
    "    my_chart.options.title = Title(text=titulek, align=\"left\", margin=30)\n",
    "\n",
    "    if len(podtitulek) > 0:\n",
    "        my_chart.options.subtitle = Subtitle(text=podtitulek, align=\"left\")\n",
    "\n",
    "    my_chart.options.credits = Credits(text=kredity[0], enabled=True, href=kredity[1])\n",
    "\n",
    "    as_js_literal = my_chart.to_js_literal()\n",
    "\n",
    "    if skrytnuly == True:\n",
    "        as_js_literal = as_js_literal.replace(\"y: 0.0\", \"y: null\")\n",
    "\n",
    " #   if len(rozpeti) > 0:\n",
    "    \n",
    "  #      as_js_literal = as_js_literal.replace(\n",
    "   #         '\"type\":\"arearange\"', \n",
    "    #        '\"type\":\"arearange\", \"linkedTo\": \"previous\", \"fillOpacity\": 0.3, \"lineWidth\": 0, \"marker\": {\"enabled\": false}'\n",
    "     #   )\n",
    "\n",
    "    \n",
    "#    if len(rozpeti) > 0:\n",
    "#        as_js_literal = as_js_literal.replace(\"type: 'arearange'\", \"type: 'arearange',linkedTo: 'previous',fillOpacity: 0.3,lineWidth: 0,marker: {enabled: false}\")\n",
    "\n",
    "    as_js_literal = as_js_literal.splitlines()\n",
    "\n",
    "    as_js_literal2 = []\n",
    "    \n",
    "    for line in as_js_literal:\n",
    "        if 'id: ' in line:\n",
    "            ajdy = line.split(\"'\")[1]\n",
    "            print(ajdy)\n",
    "        if \"type: 'arearange'\" in line:\n",
    "            line = line.replace(\" type: 'arearange'\",f\" type: 'arearange',linkedTo: '{ajdy}', fillOpacity: 0.3, lineWidth: 0\")\n",
    "        as_js_literal2.append(line)\n",
    "    as_js_literal2 = \"\\n\".join(as_js_literal2)\n",
    "    \n",
    "    code = f\"<html><head><title>{titulek}</title></head><body>{pred}{as_js_literal2}</script></body></html>\"\n",
    "\n",
    "    \n",
    "    if not os.path.exists(\"grafy\"):\n",
    "        os.mkdir(\"grafy\")\n",
    "\n",
    "    with open(os.path.join(\"grafy\", target + \".html\"), \"w+\") as f:\n",
    "        f.write(code)\n",
    "\n",
    "    with open(os.path.join(\"grafy\", target + \".txt\"), \"w+\") as f:\n",
    "        f.write(f\"{pred}{as_js_literal2}</script>\")\n",
    "\n",
    "        print(\"Graf uložen.\")"
   ]
  },
  {
   "cell_type": "code",
   "execution_count": 50,
   "id": "9a378bd5-c7f4-4fbe-8c83-5d63b5690620",
   "metadata": {},
   "outputs": [
    {
     "name": "stdout",
     "output_type": "stream",
     "text": [
      "ČD Praha &#8596; Brno\n",
      "line_ČD Praha &#8596; Brno\n",
      "RJ Praha &#8596; Brno\n",
      "line_RJ Praha &#8596; Brno\n",
      "RJ Brno &#8596; Ostrava\n",
      "line_RJ Brno &#8596; Ostrava\n",
      "ARR Liberec &#8596; Pardubice\n",
      "line_ARR Liberec &#8596; Pardubice\n",
      "ARR Praha &#8596; Budějovice\n",
      "line_ARR Praha &#8596; Budějovice\n",
      "ČD Ostrava &#8596; Karlovy Vary\n",
      "line_ČD Ostrava &#8596; Karlovy Vary\n",
      "line_ČD Praha &#8596; Brno\n",
      "line_RJ Praha &#8596; Brno\n",
      "line_RJ Brno &#8596; Ostrava\n",
      "line_ARR Liberec &#8596; Pardubice\n",
      "line_ARR Praha &#8596; Budějovice\n",
      "line_ČD Ostrava &#8596; Karlovy Vary\n",
      "Graf uložen.\n"
     ]
    }
   ],
   "source": [
    "irozhlas_graf(rozpeti=ukazat, skryte=ukazat[1:], barvy=farby, target='vnitrostatni_jizdne', titulek='Vnitrostátní jízdné podle předstihu nákupu', osaymin=0, podtitulek='Nejnižší, střední a nejvyšší cena na přímých spojích', kredity=['Zdroj dat: e-shopy dopravců od 7. 11. do 26. 11. 2024. Vizualizace: iROZHLAS.cz','https://www.irozhlas.cz/zpravy-tag/datova-zurnalistika'])"
   ]
  }
 ],
 "metadata": {
  "kernelspec": {
   "display_name": "Python 3 (ipykernel)",
   "language": "python",
   "name": "python3"
  },
  "language_info": {
   "codemirror_mode": {
    "name": "ipython",
    "version": 3
   },
   "file_extension": ".py",
   "mimetype": "text/x-python",
   "name": "python",
   "nbconvert_exporter": "python",
   "pygments_lexer": "ipython3",
   "version": "3.12.3"
  }
 },
 "nbformat": 4,
 "nbformat_minor": 5
}
