{
 "cells": [
  {
   "cell_type": "code",
   "execution_count": 1,
   "id": "471ec2fa-15be-484b-9b36-a4c1dd32c3ae",
   "metadata": {},
   "outputs": [],
   "source": [
    "import os\n",
    "import pandas as pd\n",
    "pd.set_option('display.max_columns', 100)\n",
    "pd.set_option('display.max_rows', 500)"
   ]
  },
  {
   "cell_type": "code",
   "execution_count": 3,
   "id": "0372a0b5-a4d2-4388-8e2f-0809ec3bb953",
   "metadata": {},
   "outputs": [],
   "source": [
    "df = pd.read_parquet(os.path.join('data','jizdenky.parquet'))"
   ]
  },
  {
   "cell_type": "code",
   "execution_count": 5,
   "id": "e50915db-88d8-4d0b-8819-a958e7599229",
   "metadata": {},
   "outputs": [
    {
     "name": "stderr",
     "output_type": "stream",
     "text": [
      "C:\\Users\\micha\\AppData\\Local\\Temp\\ipykernel_30532\\1561039113.py:1: FutureWarning: The default of observed=False is deprecated and will be changed to True in a future version of pandas. Pass observed=False to retain current behavior or observed=True to adopt the future default and silence this warning.\n",
      "  df[df['cena'].notnull()].groupby(['prodejce','odkud','kam'])['predstih_d'].max().nlargest(50)\n"
     ]
    },
    {
     "data": {
      "text/plain": [
       "prodejce  odkud                      kam                      \n",
       "LE        Kraków Główny              Praha hl.n.                  92.0\n",
       "          Praha hl.n.                Kraków Główny                92.0\n",
       "          Košice                     Pardubice hl.n.              90.0\n",
       "          Pardubice hl.n.            Košice                       90.0\n",
       "          Praha hl.n.                Ostrava hl.n.                90.0\n",
       "                                     Ostrava-Svinov               90.0\n",
       "ČD        Berlin Hbf                 Amsterdam Zuid               90.0\n",
       "                                     Bruxelles-Central            90.0\n",
       "          Berlin Hbf (tief)          Praha hl.n.                  90.0\n",
       "          Brno hl.n.                 Hamburg Hbf                  90.0\n",
       "          Bruxelles-Midi             Praha hl.n.                  90.0\n",
       "          Hamburg Hbf                Brno hl.n.                   90.0\n",
       "          Praha hl.n.                Berlin Hbf (tief)            90.0\n",
       "                                     Bern                         90.0\n",
       "                                     Bruxelles-Midi               90.0\n",
       "                                     Budapest-Kelenföld           90.0\n",
       "                                     Budapest-Nyugati pu          90.0\n",
       "                                     Wien Franz-Josefs-Bahnhof    90.0\n",
       "                                     Wien Hbf                     90.0\n",
       "          Zürich HB                  České Budějovice             90.0\n",
       "          Ústí n.L.hl.n.             Dresden Hbf                  90.0\n",
       "          České Budějovice           Zürich HB                    90.0\n",
       "LE        Ostrava hl.n.              Praha hl.n.                  89.0\n",
       "          Ostrava-Svinov             Praha hl.n.                  89.0\n",
       "ČD        Berlin Hbf                 Amsterdam Centraal           89.0\n",
       "                                     Praha hl.n.                  89.0\n",
       "          Budapest-Kelenföld         Praha hl.n.                  89.0\n",
       "          Budapest-Nyugati pu        Praha hl.n.                  89.0\n",
       "          Praha hl.n.                Amsterdam Centraal           89.0\n",
       "                                     Amsterdam Zuid               89.0\n",
       "          Berlin Hbf (tief)          Brno hl.n.                   88.0\n",
       "          Bratislava hl.st.          Praha hl.n.                  88.0\n",
       "          Bruxelles-Central          Praha hl.n.                  88.0\n",
       "          Wien Franz-Josefs-Bahnhof  Praha hl.n.                  88.0\n",
       "          Wien Hbf                   Praha hl.n.                  88.0\n",
       "          Dresden Hbf                Ústí n.L.hl.n.               85.0\n",
       "          Praha-Smíchov              Bruxelles-Midi               85.0\n",
       "          München Hbf                Praha hl.n.                  84.0\n",
       "          Amsterdam Centraal         Praha hl.n.                  83.0\n",
       "          Amsterdam Zuid             Praha hl.n.                  83.0\n",
       "          Bern                       Praha hl.n.                  83.0\n",
       "          Flughafen Wien             Praha hl.n.                  77.0\n",
       "          Praha hl.n.                Berlin Ostbahnhof            75.0\n",
       "          Wien Hbf (Bahnsteige 1-2)  Praha hl.n.                  75.0\n",
       "          Berlin Hbf (tief)          Hamburg Hbf                  69.0\n",
       "          Praha-Dejvice              Berlin Hbf (tief)            68.0\n",
       "LE        Praha-Libeň                Ostrava hl.n.                67.0\n",
       "                                     Ostrava-Svinov               67.0\n",
       "          Ostrava hl.n.              Praha-Libeň                  64.0\n",
       "          Ostrava-Svinov             Praha-Libeň                  64.0\n",
       "Name: predstih_d, dtype: float64"
      ]
     },
     "execution_count": 5,
     "metadata": {},
     "output_type": "execute_result"
    }
   ],
   "source": [
    "df[df['cena'].notnull()].groupby(['prodejce','odkud','kam'])['predstih_d'].max().nlargest(50)"
   ]
  },
  {
   "cell_type": "code",
   "execution_count": 9,
   "id": "af9ea598-0e5e-4ba6-bc0d-37f19deada4c",
   "metadata": {},
   "outputs": [
    {
     "name": "stderr",
     "output_type": "stream",
     "text": [
      "C:\\Users\\micha\\AppData\\Local\\Temp\\ipykernel_30532\\420619131.py:1: FutureWarning: The default of observed=False is deprecated and will be changed to True in a future version of pandas. Pass observed=False to retain current behavior or observed=True to adopt the future default and silence this warning.\n",
      "  df[df['cena'].notnull()].groupby('prodejce')['predstih_d'].max().nlargest(50)\n"
     ]
    },
    {
     "data": {
      "text/plain": [
       "prodejce\n",
       "LE     92\n",
       "ČD     90\n",
       "RJ     59\n",
       "ARR    36\n",
       "Name: predstih_d, dtype: int64"
      ]
     },
     "execution_count": 9,
     "metadata": {},
     "output_type": "execute_result"
    }
   ],
   "source": [
    "df[df['cena'].notnull()].groupby('prodejce')['predstih_d'].max().nlargest(50)"
   ]
  }
 ],
 "metadata": {
  "kernelspec": {
   "display_name": "Python 3 (ipykernel)",
   "language": "python",
   "name": "python3"
  },
  "language_info": {
   "codemirror_mode": {
    "name": "ipython",
    "version": 3
   },
   "file_extension": ".py",
   "mimetype": "text/x-python",
   "name": "python",
   "nbconvert_exporter": "python",
   "pygments_lexer": "ipython3",
   "version": "3.12.3"
  }
 },
 "nbformat": 4,
 "nbformat_minor": 5
}
